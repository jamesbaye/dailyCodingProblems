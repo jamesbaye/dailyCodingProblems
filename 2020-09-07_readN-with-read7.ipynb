{
 "cells": [
  {
   "cell_type": "markdown",
   "metadata": {},
   "source": [
    "This problem was asked Microsoft.\n",
    "\n",
    "Using a `read7()` method that returns 7 characters from a file, implement `readN(n)` which reads n characters.\n",
    "\n",
    "For example, given a file with the content `“Hello world”`, three `read7()` returns `“Hello w”`, `“orld”` and then `“”`."
   ]
  },
  {
   "cell_type": "code",
   "execution_count": 3,
   "metadata": {},
   "outputs": [],
   "source": [
    "def read7():\n",
    "    s = \"Hello world\"\n",
    "    i = 0\n",
    "    while i < len(s):\n",
    "        yield s[i:i+7]\n",
    "        i += 7\n",
    "    yield \"\""
   ]
  },
  {
   "cell_type": "code",
   "execution_count": 4,
   "metadata": {},
   "outputs": [
    {
     "data": {
      "text/plain": [
       "['Hello w', 'orld', '']"
      ]
     },
     "execution_count": 4,
     "metadata": {},
     "output_type": "execute_result"
    }
   ],
   "source": [
    "[x for x in read7()]"
   ]
  },
  {
   "cell_type": "code",
   "execution_count": 46,
   "metadata": {},
   "outputs": [],
   "source": [
    "def readN(n, EOF=\"\"):\n",
    "    \"\"\"Yield n characters at a time using a 7-character filestream.\"\"\"\n",
    "    reader = read7()\n",
    "    out = \"\"\n",
    "    rem = n\n",
    "    s = next(reader)\n",
    "    s_pos = 0\n",
    "    while s != EOF:\n",
    "        # if we don't reach end of s, just append required chars to out\n",
    "        if s_pos + rem < len(s):\n",
    "            out += s[s_pos:s_pos+rem]\n",
    "            s_pos += rem\n",
    "            rem = 0\n",
    "        # we consume all of s, so append what's left and move to next\n",
    "        else:\n",
    "            out += s[s_pos:]\n",
    "            rem -= len(s) - s_pos\n",
    "            s = next(reader)\n",
    "            s_pos = 0\n",
    "        # if out is of the correct length or EOF is reached, yield\n",
    "        if rem == 0 or s == EOF:\n",
    "            yield out\n",
    "            out = \"\"\n",
    "            rem = n\n",
    "    yield EOF"
   ]
  },
  {
   "cell_type": "code",
   "execution_count": 47,
   "metadata": {},
   "outputs": [
    {
     "data": {
      "text/plain": [
       "['H', 'e', 'l', 'l', 'o', ' ', 'w', 'o', 'r', 'l', 'd', '']"
      ]
     },
     "execution_count": 47,
     "metadata": {},
     "output_type": "execute_result"
    }
   ],
   "source": [
    "[x for x in readN(1)]"
   ]
  },
  {
   "cell_type": "code",
   "execution_count": 48,
   "metadata": {},
   "outputs": [
    {
     "data": {
      "text/plain": [
       "['He', 'll', 'o ', 'wo', 'rl', 'd', '']"
      ]
     },
     "execution_count": 48,
     "metadata": {},
     "output_type": "execute_result"
    }
   ],
   "source": [
    "[x for x in readN(2)]"
   ]
  },
  {
   "cell_type": "code",
   "execution_count": 49,
   "metadata": {},
   "outputs": [
    {
     "data": {
      "text/plain": [
       "['Hel', 'lo ', 'wor', 'ld', '']"
      ]
     },
     "execution_count": 49,
     "metadata": {},
     "output_type": "execute_result"
    }
   ],
   "source": [
    "[x for x in readN(3)]"
   ]
  },
  {
   "cell_type": "code",
   "execution_count": 50,
   "metadata": {},
   "outputs": [
    {
     "data": {
      "text/plain": [
       "['Hello w', 'orld', '']"
      ]
     },
     "execution_count": 50,
     "metadata": {},
     "output_type": "execute_result"
    }
   ],
   "source": [
    "[x for x in readN(7)]"
   ]
  },
  {
   "cell_type": "code",
   "execution_count": 51,
   "metadata": {},
   "outputs": [
    {
     "data": {
      "text/plain": [
       "['Hello wo', 'rld', '']"
      ]
     },
     "execution_count": 51,
     "metadata": {},
     "output_type": "execute_result"
    }
   ],
   "source": [
    "[x for x in readN(8)]"
   ]
  },
  {
   "cell_type": "code",
   "execution_count": 52,
   "metadata": {},
   "outputs": [
    {
     "data": {
      "text/plain": [
       "['Hello world', '']"
      ]
     },
     "execution_count": 52,
     "metadata": {},
     "output_type": "execute_result"
    }
   ],
   "source": [
    "[x for x in readN(15)]"
   ]
  }
 ],
 "metadata": {
  "kernelspec": {
   "display_name": "Python 3",
   "language": "python",
   "name": "python3"
  },
  "language_info": {
   "codemirror_mode": {
    "name": "ipython",
    "version": 3
   },
   "file_extension": ".py",
   "mimetype": "text/x-python",
   "name": "python",
   "nbconvert_exporter": "python",
   "pygments_lexer": "ipython3",
   "version": "3.7.6"
  }
 },
 "nbformat": 4,
 "nbformat_minor": 4
}
