{
 "cells": [
  {
   "cell_type": "markdown",
   "metadata": {},
   "source": [
    "This problem was asked by Google.\n",
    "\n",
    "Given a sorted list of integers, square the elements and give the output in sorted order.\n",
    "\n",
    "For example, given `[-9, -2, 0, 2, 3]`, return `[0, 4, 4, 9, 81]`."
   ]
  },
  {
   "cell_type": "code",
   "execution_count": 1,
   "metadata": {},
   "outputs": [],
   "source": [
    "import heapq\n",
    "\n",
    "def squared_sorted(integers):\n",
    "    \"\"\"Square and sort a list of sorted integers.\n",
    "    \n",
    "    Args:\n",
    "        integers (list): sorted integers.\n",
    "    \"\"\"\n",
    "    if len(integers) == 0:\n",
    "        return []\n",
    "    elif integers[0] >= 0:\n",
    "        # all positive\n",
    "        return [val ** 2 for val in integers]\n",
    "    elif integers[len(integers) - 1] < 0:\n",
    "        # all negative\n",
    "        return [val ** 2 for val in reversed(integers)]\n",
    "    else:\n",
    "        # find first positive value\n",
    "        for i_pos, val in enumerate(integers):\n",
    "            if val >= 0:\n",
    "                break\n",
    "        # heapq merge negatives and positives squared\n",
    "        pos_squared = squared_sorted(integers[i_pos:])\n",
    "        neg_squared = squared_sorted(integers[:i_pos])\n",
    "        return list(heapq.merge(pos_squared, neg_squared))"
   ]
  },
  {
   "cell_type": "code",
   "execution_count": 2,
   "metadata": {},
   "outputs": [
    {
     "data": {
      "text/plain": [
       "[0, 4, 4, 9, 81]"
      ]
     },
     "execution_count": 2,
     "metadata": {},
     "output_type": "execute_result"
    }
   ],
   "source": [
    "squared_sorted([-9, -2, 0, 2, 3])"
   ]
  },
  {
   "cell_type": "code",
   "execution_count": 3,
   "metadata": {},
   "outputs": [
    {
     "data": {
      "text/plain": [
       "[]"
      ]
     },
     "execution_count": 3,
     "metadata": {},
     "output_type": "execute_result"
    }
   ],
   "source": [
    "squared_sorted([])"
   ]
  },
  {
   "cell_type": "code",
   "execution_count": 4,
   "metadata": {},
   "outputs": [
    {
     "data": {
      "text/plain": [
       "[0, 1, 4]"
      ]
     },
     "execution_count": 4,
     "metadata": {},
     "output_type": "execute_result"
    }
   ],
   "source": [
    "squared_sorted([0, 1, 2])"
   ]
  },
  {
   "cell_type": "code",
   "execution_count": 5,
   "metadata": {},
   "outputs": [
    {
     "data": {
      "text/plain": [
       "[1, 4, 9]"
      ]
     },
     "execution_count": 5,
     "metadata": {},
     "output_type": "execute_result"
    }
   ],
   "source": [
    "squared_sorted([-3, -2, -1])"
   ]
  }
 ],
 "metadata": {
  "kernelspec": {
   "display_name": "Python 3",
   "language": "python",
   "name": "python3"
  },
  "language_info": {
   "codemirror_mode": {
    "name": "ipython",
    "version": 3
   },
   "file_extension": ".py",
   "mimetype": "text/x-python",
   "name": "python",
   "nbconvert_exporter": "python",
   "pygments_lexer": "ipython3",
   "version": "3.7.6"
  }
 },
 "nbformat": 4,
 "nbformat_minor": 4
}
