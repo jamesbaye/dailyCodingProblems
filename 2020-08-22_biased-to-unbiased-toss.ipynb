{
 "cells": [
  {
   "cell_type": "markdown",
   "metadata": {},
   "source": [
    "This problem was asked by Square.\n",
    "\n",
    "Assume you have access to a function `toss_biased()` which returns 0 or 1 with a probability that's not 50-50 (but also not 0-100 or 100-0). You do not know the bias of the coin.\n",
    "\n",
    "Write a function to simulate an unbiased coin toss."
   ]
  },
  {
   "cell_type": "code",
   "execution_count": 27,
   "metadata": {},
   "outputs": [],
   "source": [
    "from numpy import random as rnd\n",
    "\n",
    "def toss_biased():\n",
    "    return rnd.choice([0, 1], p=[0.7, 0.3])\n",
    "\n",
    "def toss_unbiased():\n",
    "    \"\"\"Return 0 or 1 with equal probability using a biased toss and the von Neumann procedure.\n",
    "    \n",
    "    Perform two biased tosses. If both tosses are identical, discard and start again.\n",
    "    If both tosses are distinct, return the first toss.\n",
    "    The probabilities of tossing (0, 1) or (1, 0) are both p(1-p), \n",
    "    therefore the returned value is 0 or 1 with equal probability.\n",
    "    \"\"\"\n",
    "    toss1 = toss_biased()\n",
    "    toss2 = toss_biased()\n",
    "    if toss1 != toss2:\n",
    "        yield toss1\n",
    "    else:\n",
    "        yield from toss_unbiased()\n",
    "\n",
    "def tosses_unbiased(n):\n",
    "    for _ in range(n):\n",
    "        yield from toss_unbiased()"
   ]
  },
  {
   "cell_type": "code",
   "execution_count": 28,
   "metadata": {},
   "outputs": [
    {
     "name": "stdout",
     "output_type": "stream",
     "text": [
      "Counter({1: 5014, 0: 4986})\n"
     ]
    }
   ],
   "source": [
    "from collections import Counter\n",
    "\n",
    "toss_counter = Counter(tosses_unbiased(10000))\n",
    "print(toss_counter)"
   ]
  }
 ],
 "metadata": {
  "kernelspec": {
   "display_name": "Python 3",
   "language": "python",
   "name": "python3"
  },
  "language_info": {
   "codemirror_mode": {
    "name": "ipython",
    "version": 3
   },
   "file_extension": ".py",
   "mimetype": "text/x-python",
   "name": "python",
   "nbconvert_exporter": "python",
   "pygments_lexer": "ipython3",
   "version": "3.7.6"
  }
 },
 "nbformat": 4,
 "nbformat_minor": 4
}
