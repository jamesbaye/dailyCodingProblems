{
 "cells": [
  {
   "cell_type": "markdown",
   "metadata": {},
   "source": [
    "This problem was asked by Google.\n",
    "\n",
    "A knight's tour is a sequence of moves by a knight on a chessboard such that all squares are visited once.\n",
    "\n",
    "Given N, write a function to return the number of knight's tours on an N by N chessboard."
   ]
  },
  {
   "cell_type": "code",
   "execution_count": 13,
   "metadata": {},
   "outputs": [],
   "source": [
    "def knight_tours(N, verbose=False):\n",
    "    \"\"\"Return the number of knight tours on an N by N chessboard.\"\"\"\n",
    "    tours = [0]\n",
    "    \n",
    "    for start_row in range(N):\n",
    "        for start_col in range(N):\n",
    "            visited = {}\n",
    "            tours[0] += knights_tours_from_pos(N, visited, (start_row, start_col), tours, verbose)\n",
    "    return tours[0]\n",
    "\n",
    "def knights_tours_from_pos(N, visited, pos, tours, verbose=False):\n",
    "    visited[pos] = len(visited)\n",
    "    if len(visited) == N*N:\n",
    "        # a complete tour has been achieved\n",
    "        if verbose: print(\"tour:\", visited)\n",
    "        return 1\n",
    "    else:\n",
    "        for nextpos in legal_moves(N, pos, visited):\n",
    "            tours[0] += knights_tours_from_pos(N, visited, nextpos, tours)\n",
    "            visited.pop(nextpos)\n",
    "    return tours[0]\n",
    "\n",
    "def legal_moves(N, pos, visited):\n",
    "    diffs = ((-2, -1), (-2, 1), (-1, -2), (-1, 2), (1, -2), (1, 2), (2, -1), (2, 1))\n",
    "    moves = [tuple(map(sum, zip(pos, diff))) for diff in diffs]\n",
    "    return [move for move in moves if is_pos_legal(N, move, visited)]\n",
    "\n",
    "def is_pos_legal(N, pos, visited):\n",
    "    row, col = pos\n",
    "    if (\n",
    "        row >= 0 and row < N\n",
    "        and col >= 0 and col < N\n",
    "        and pos not in visited\n",
    "    ):\n",
    "        return True\n",
    "    else:\n",
    "        return False"
   ]
  },
  {
   "cell_type": "code",
   "execution_count": 14,
   "metadata": {},
   "outputs": [
    {
     "data": {
      "text/plain": [
       "1"
      ]
     },
     "execution_count": 14,
     "metadata": {},
     "output_type": "execute_result"
    }
   ],
   "source": [
    "knight_tours(1)"
   ]
  },
  {
   "cell_type": "code",
   "execution_count": 15,
   "metadata": {},
   "outputs": [
    {
     "data": {
      "text/plain": [
       "0"
      ]
     },
     "execution_count": 15,
     "metadata": {},
     "output_type": "execute_result"
    }
   ],
   "source": [
    "knight_tours(2)"
   ]
  },
  {
   "cell_type": "code",
   "execution_count": 16,
   "metadata": {},
   "outputs": [
    {
     "data": {
      "text/plain": [
       "0"
      ]
     },
     "execution_count": 16,
     "metadata": {},
     "output_type": "execute_result"
    }
   ],
   "source": [
    "knight_tours(3)"
   ]
  },
  {
   "cell_type": "code",
   "execution_count": 17,
   "metadata": {},
   "outputs": [
    {
     "data": {
      "text/plain": [
       "0"
      ]
     },
     "execution_count": 17,
     "metadata": {},
     "output_type": "execute_result"
    }
   ],
   "source": [
    "knight_tours(4)"
   ]
  }
 ],
 "metadata": {
  "kernelspec": {
   "display_name": "Python 3",
   "language": "python",
   "name": "python3"
  },
  "language_info": {
   "codemirror_mode": {
    "name": "ipython",
    "version": 3
   },
   "file_extension": ".py",
   "mimetype": "text/x-python",
   "name": "python",
   "nbconvert_exporter": "python",
   "pygments_lexer": "ipython3",
   "version": "3.7.6"
  }
 },
 "nbformat": 4,
 "nbformat_minor": 4
}
