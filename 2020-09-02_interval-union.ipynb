{
 "cells": [
  {
   "cell_type": "markdown",
   "metadata": {},
   "source": [
    "This problem was asked by Snapchat.\n",
    "\n",
    "Given a list of possibly overlapping intervals, return a new list of intervals where all overlapping intervals have been merged.\n",
    "\n",
    "The input list is not necessarily ordered in any way.\n",
    "\n",
    "For example, given `[(1, 3), (5, 8), (4, 10), (20, 25)]`, you should return `[(1, 3), (4, 10), (20, 25)]`."
   ]
  },
  {
   "cell_type": "code",
   "execution_count": 1,
   "metadata": {},
   "outputs": [],
   "source": [
    "def union(intervals):\n",
    "    \"\"\"Return the union of intervals.\n",
    "    \n",
    "    Args:\n",
    "        intervals: a list of (start, end) numerics.\n",
    "    \"\"\"    \n",
    "    intervals.sort(key = lambda x: x[0])\n",
    "    \n",
    "    previous_st = None\n",
    "    previous_end = None\n",
    "    for st, end in intervals:\n",
    "        if previous_end is None:\n",
    "            # First iteration. Init.\n",
    "            previous_st = st\n",
    "            previous_end = end\n",
    "            \n",
    "        elif previous_end < st:\n",
    "            # No overlap. Yield previous interval.\n",
    "            yield previous_st, previous_end\n",
    "            previous_st = st\n",
    "            previous_end = end\n",
    "            \n",
    "        else:\n",
    "            # Overlap. Keep previous_st, update previous_end.\n",
    "            previous_end = max(previous_end, end)\n",
    "    \n",
    "    # yield last interval\n",
    "    yield previous_st, previous_end"
   ]
  },
  {
   "cell_type": "code",
   "execution_count": 3,
   "metadata": {},
   "outputs": [
    {
     "data": {
      "text/plain": [
       "[(1, 3), (4, 10), (20, 25)]"
      ]
     },
     "execution_count": 3,
     "metadata": {},
     "output_type": "execute_result"
    }
   ],
   "source": [
    "[x for x in union([(1, 3), (5, 8), (4, 10), (20, 25)])]"
   ]
  }
 ],
 "metadata": {
  "kernelspec": {
   "display_name": "Python 3",
   "language": "python",
   "name": "python3"
  },
  "language_info": {
   "codemirror_mode": {
    "name": "ipython",
    "version": 3
   },
   "file_extension": ".py",
   "mimetype": "text/x-python",
   "name": "python",
   "nbconvert_exporter": "python",
   "pygments_lexer": "ipython3",
   "version": "3.7.6"
  }
 },
 "nbformat": 4,
 "nbformat_minor": 4
}
