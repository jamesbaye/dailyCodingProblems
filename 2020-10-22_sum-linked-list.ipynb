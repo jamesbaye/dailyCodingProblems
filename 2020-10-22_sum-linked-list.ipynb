{
 "cells": [
  {
   "cell_type": "markdown",
   "metadata": {},
   "source": [
    "This problem was asked by Microsoft.\n",
    "\n",
    "Let's represent an integer in a linked list format by having each node represent a digit in the number. The nodes make up the number in reversed order.\n",
    "\n",
    "For example, the following linked list:\n",
    "```\n",
    "1 -> 2 -> 3 -> 4 -> 5\n",
    "```\n",
    "is the number `54321`.\n",
    "\n",
    "Given two linked lists in this format, return their sum in the same linked list format.\n",
    "\n",
    "For example, given\n",
    "```\n",
    "9 -> 9\n",
    "5 -> 2\n",
    "```\n",
    "return `124` (99 + 25) as:\n",
    "```\n",
    "4 -> 2 -> 1\n",
    "```"
   ]
  },
  {
   "cell_type": "code",
   "execution_count": 1,
   "metadata": {},
   "outputs": [],
   "source": [
    "class Digit:\n",
    "    \"\"\"A digit in a number.\n",
    "    \n",
    "    Each Digit object is a node in a singly linked list that makes up a number in reversed order.\n",
    "    e.g. Digit(1) -> Digit(2) -> Digit(3) is the number 321.\n",
    "    \n",
    "    Attributes:\n",
    "        val (int): The digit value in {0, ..., 9}.\n",
    "        upper (Digit, optional): The next (upper) digit in the singly linked list.\n",
    "    \"\"\"\n",
    "    def __init__(self, val, upper_digit=None):\n",
    "        self.val = val\n",
    "        self.upper = upper_digit\n",
    "    \n",
    "    def __add__(self, digit):\n",
    "        return sum_digits([self, digit])\n",
    "    \n",
    "    def __repr__(self):\n",
    "        if self.upper is None:\n",
    "            return repr(self.val)\n",
    "        else:\n",
    "            return repr(self.upper) + repr(self.val)\n",
    "\n",
    "def sum_digits(digits, carry=0):\n",
    "    \"\"\"Sum Digit objects.\n",
    "    \n",
    "    Args:\n",
    "        digits (list): A list of Digit objects.\n",
    "        carry (int): A positive carried integer.\n",
    "    \n",
    "    Returns:\n",
    "        A Digit object, the sum of all input Digit objects.\n",
    "    \"\"\"\n",
    "    if len(digits) > 0 or carry > 0:\n",
    "        carry, remainder = divmod(sum(d.val for d in digits) + carry, 10)\n",
    "        return Digit(\n",
    "            val = remainder,\n",
    "            upper_digit = sum_digits([d.upper for d in digits if d.upper is not None], carry)\n",
    "        )"
   ]
  },
  {
   "cell_type": "code",
   "execution_count": 2,
   "metadata": {},
   "outputs": [
    {
     "data": {
      "text/plain": [
       "10"
      ]
     },
     "execution_count": 2,
     "metadata": {},
     "output_type": "execute_result"
    }
   ],
   "source": [
    "Digit(1) + Digit(9)"
   ]
  },
  {
   "cell_type": "code",
   "execution_count": 3,
   "metadata": {},
   "outputs": [
    {
     "data": {
      "text/plain": [
       "30"
      ]
     },
     "execution_count": 3,
     "metadata": {},
     "output_type": "execute_result"
    }
   ],
   "source": [
    "Digit(1, Digit(2)) + Digit(9)"
   ]
  },
  {
   "cell_type": "code",
   "execution_count": 4,
   "metadata": {},
   "outputs": [
    {
     "data": {
      "text/plain": [
       "19"
      ]
     },
     "execution_count": 4,
     "metadata": {},
     "output_type": "execute_result"
    }
   ],
   "source": [
    "Digit(1) + Digit(8, Digit(1))"
   ]
  },
  {
   "cell_type": "code",
   "execution_count": 5,
   "metadata": {},
   "outputs": [
    {
     "data": {
      "text/plain": [
       "124"
      ]
     },
     "execution_count": 5,
     "metadata": {},
     "output_type": "execute_result"
    }
   ],
   "source": [
    "Digit(9, Digit(9)) + Digit(5, Digit(2))"
   ]
  },
  {
   "cell_type": "code",
   "execution_count": 6,
   "metadata": {},
   "outputs": [
    {
     "data": {
      "text/plain": [
       "12"
      ]
     },
     "execution_count": 6,
     "metadata": {},
     "output_type": "execute_result"
    }
   ],
   "source": [
    "Digit(1) + Digit(9) + Digit(2)"
   ]
  }
 ],
 "metadata": {
  "kernelspec": {
   "display_name": "Python 3",
   "language": "python",
   "name": "python3"
  },
  "language_info": {
   "codemirror_mode": {
    "name": "ipython",
    "version": 3
   },
   "file_extension": ".py",
   "mimetype": "text/x-python",
   "name": "python",
   "nbconvert_exporter": "python",
   "pygments_lexer": "ipython3",
   "version": "3.7.6"
  }
 },
 "nbformat": 4,
 "nbformat_minor": 4
}
