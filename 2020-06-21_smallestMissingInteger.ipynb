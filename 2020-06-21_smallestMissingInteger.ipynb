{
 "cells": [
  {
   "cell_type": "markdown",
   "metadata": {},
   "source": [
    "This problem was asked by Stripe.\n",
    "\n",
    "Given an array of integers, find the first missing positive integer in linear time and constant space. In other words, find the lowest positive integer that does not exist in the array. The array can contain duplicates and negative numbers as well.\n",
    "\n",
    "For example, the input [3, 4, -1, 1] should give 2. The input [1, 2, 0] should give 3.\n",
    "\n",
    "You can modify the input array in-place."
   ]
  },
  {
   "cell_type": "markdown",
   "metadata": {},
   "source": [
    "## Proposed solution overview:\n",
    "\n",
    "### Observations: \n",
    "- Return value is at most n+1 (the array length + 1).\n",
    "- We don't care about negative values.\n",
    "\n",
    "### Idea: \n",
    "We need to encode in the array (by modifying it in place) which positive integers in \\[1,n\\] are not observed. \n",
    "An encoding that fulfils this in time complexity O(n) would be to mark the value at array position i with a negative sign when the value i+1 in \\[1,n\\] is observed.\n",
    "Then, the index of the first positive value observed by scanning the modified array left to right is the smallest unobserved strictly positive integer.\n",
    "This only works if the values that are marked are guaranteed positive to start with (or we'd be missing cases), so we also need to group together all strictly positive values at the start of the array and work exclusively on that part of the array.\n",
    "\n",
    "### Steps:\n",
    "- Sort array so that all strictly positive integers span indices \\[0,m-1\\] and all negative integers span indices \\[m,n-1\\] (m<=n). #O(n)\n",
    "- Change the sign of the value at index i (in \\[0,m-1\\]) to negative if the positive integer i+1 (in \\[1,m\\]) exists in array.\n",
    "- Return the index+1 of the first positive value in the array (if index m is reached, return m+1)."
   ]
  },
  {
   "cell_type": "code",
   "execution_count": 50,
   "metadata": {},
   "outputs": [],
   "source": [
    "def separatePositiveIntegers(arr):\n",
    "    \"\"\" Modify input array in place, so that \n",
    "    strictly positive integers are\n",
    "    all at the start of the array, \n",
    "    and negative integers are\n",
    "    all at the end of the array. \n",
    "    \n",
    "    Return the index of the first negative \n",
    "    integer in the updated array (or len(arr)\n",
    "    if all values are positive). \"\"\"\n",
    "    i1, i2 = 0, len(arr)-1\n",
    "    while (i2 > i1): #O(n)\n",
    "        \n",
    "        if arr[i2]<=0:\n",
    "            # move to the first strictly positive value\n",
    "            # starting from the end of the array.\n",
    "            i2 -= 1\n",
    "            continue\n",
    "        \n",
    "        if arr[i1]>0:\n",
    "            # move to the first negative value\n",
    "            # from the start of the array.\n",
    "            i1 += 1\n",
    "            continue\n",
    "        \n",
    "        # swap negative value at i1 with the first\n",
    "        # strictly positive value starting from the\n",
    "        # end of the array (i.e., at position i2).\n",
    "        tmp = arr[i2]\n",
    "        arr[i2] = arr[i1]\n",
    "        arr[i1] = tmp\n",
    "    \n",
    "    return i1 if arr[i1]<=0 else i1+1\n",
    "\n",
    "def markIndicesOfObservedPositiveIntegers(arr, m):\n",
    "    \"\"\" Take an array arr of integer values, \n",
    "    where indices [0,m-1] are all strictly positive\n",
    "    and indices >= m are all negative\n",
    "    (see separatePositiveIntegers() method).\n",
    "    \n",
    "    Mark the occurrence of a strictly positive integer\n",
    "    k<=m by assigning a negative sign to the value in \n",
    "    the array at index k-1 (modify in place).\"\"\"\n",
    "    for i in range(m): #O(m)\n",
    "        # all values at indices [0,m-1] are strictly positive \n",
    "        # to start with, but may have been  modified in-place \n",
    "        # (switched to negative sign) in this loop. \n",
    "        # Therefore, read the untampered value as abs(arr[i]).\n",
    "        untampered_val=abs(arr[i])\n",
    "        # We can safely ignore any untampered value strictly superior to m\n",
    "        # because it guarantees a gap in the integer sequence at a lower value \n",
    "        # (since arr only has m strictly positive integers).\n",
    "        if untampered_val<=m:\n",
    "            # mark the integer as \"seen\" by\n",
    "            # changing the sign of the value at\n",
    "            # index untampered_val-1 to negative.\n",
    "            arr[untampered_val-1] = -abs(arr[untampered_val-1])\n",
    "\n",
    "def lowestMissingStrictlyPositiveInteger(arr):\n",
    "    \"\"\" Return the lowest missing strictly \n",
    "    positive integer from the array arr. \n",
    "    Warning: In order to achieve this in linear time and\n",
    "    constant space, arr is modified in-place.\n",
    "    \n",
    "    Uses separatePositiveIntegers() to isolate all\n",
    "    strictly positive integers, and marks their occurrence\n",
    "    with markIndicesOfObservedPositiveIntegers(). This \n",
    "    function then scans the modified array for the 'marks'\n",
    "    and returns the first unmarked value. \"\"\"\n",
    "    m = separatePositiveIntegers(arr)\n",
    "    markIndicesOfObservedPositiveIntegers(arr, m)\n",
    "    for i in range(m): #O(m)\n",
    "        if arr[i]>0:\n",
    "            # this index hasn't been marked by\n",
    "            # markIndexOfObservedPositiveIntegers(), \n",
    "            # therefore the integer i+1 is missing.\n",
    "            return i+1\n",
    "    return m+1"
   ]
  },
  {
   "cell_type": "code",
   "execution_count": 51,
   "metadata": {},
   "outputs": [],
   "source": [
    "arr = [3, 4, -1, 1]\n",
    "assert lowestMissingStrictlyPositiveInteger(arr) == 2"
   ]
  },
  {
   "cell_type": "code",
   "execution_count": 52,
   "metadata": {},
   "outputs": [],
   "source": [
    "arr = [2, 0, 1]\n",
    "assert lowestMissingStrictlyPositiveInteger(arr) == 3"
   ]
  },
  {
   "cell_type": "code",
   "execution_count": 58,
   "metadata": {},
   "outputs": [],
   "source": [
    "arr = [0]\n",
    "assert lowestMissingStrictlyPositiveInteger(arr) == 1"
   ]
  }
 ],
 "metadata": {
  "kernelspec": {
   "display_name": "Python 3",
   "language": "python",
   "name": "python3"
  },
  "language_info": {
   "codemirror_mode": {
    "name": "ipython",
    "version": 3
   },
   "file_extension": ".py",
   "mimetype": "text/x-python",
   "name": "python",
   "nbconvert_exporter": "python",
   "pygments_lexer": "ipython3",
   "version": "3.7.6"
  }
 },
 "nbformat": 4,
 "nbformat_minor": 4
}
