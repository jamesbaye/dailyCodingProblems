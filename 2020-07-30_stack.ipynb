{
 "cells": [
  {
   "cell_type": "markdown",
   "metadata": {},
   "source": [
    "This problem was asked by Amazon.\n",
    "\n",
    "Implement a stack that has the following methods:\n",
    "\n",
    "`push(val)`, which pushes an element onto the stack\n",
    "\n",
    "`pop()`, which pops off and returns the topmost element of the stack. If there are no elements in the stack, then it should throw an error or return null.\n",
    "\n",
    "`max()`, which returns the maximum value in the stack currently. If there are no elements in the stack, then it should throw an error or return null.\n",
    "\n",
    "Each method should run in constant time."
   ]
  },
  {
   "cell_type": "code",
   "execution_count": 5,
   "metadata": {},
   "outputs": [],
   "source": [
    "class Stack:\n",
    "    def __init__(self):\n",
    "        self.head = None\n",
    "        self.max = -float(\"inf\")\n",
    "    \n",
    "    def push(self, val):\n",
    "        self.head = Elm(val, max_below=self.max, below=self.head)\n",
    "        if val > self.max:\n",
    "            self.max = val\n",
    "    \n",
    "    def pop(self):\n",
    "        if self.head is None:\n",
    "            return None\n",
    "        else:\n",
    "            val = self.head.val\n",
    "            self.max = self.head.max_below\n",
    "            self.head = self.head.below\n",
    "            return val\n",
    "    \n",
    "    def maxi(self):\n",
    "        if self.head is None:\n",
    "            return None\n",
    "        else:\n",
    "            return self.max\n",
    "\n",
    "class Elm:\n",
    "    def __init__(self, val, max_below, below=None):\n",
    "        self.val = val\n",
    "        self.below = below\n",
    "        self.max_below = max_below"
   ]
  },
  {
   "cell_type": "markdown",
   "metadata": {},
   "source": [
    "Test one pop"
   ]
  },
  {
   "cell_type": "code",
   "execution_count": 14,
   "metadata": {},
   "outputs": [],
   "source": [
    "s = Stack()\n",
    "assert s.maxi() is None\n",
    "assert s.pop() is None"
   ]
  },
  {
   "cell_type": "markdown",
   "metadata": {},
   "source": [
    "Test one push two pop"
   ]
  },
  {
   "cell_type": "code",
   "execution_count": 15,
   "metadata": {},
   "outputs": [],
   "source": [
    "s = Stack()\n",
    "s.push(5)\n",
    "assert s.maxi() == 5\n",
    "assert s.pop() == 5\n",
    "assert s.maxi() is None\n",
    "assert s.pop() is None"
   ]
  },
  {
   "cell_type": "markdown",
   "metadata": {},
   "source": [
    "Test three push three pop (and proper max)"
   ]
  },
  {
   "cell_type": "code",
   "execution_count": 17,
   "metadata": {},
   "outputs": [],
   "source": [
    "s = Stack()\n",
    "s.push(1)\n",
    "s.push(10)\n",
    "s.push(3)\n",
    "assert s.maxi() == 10\n",
    "assert s.pop() == 3\n",
    "assert s.maxi() == 10\n",
    "assert s.pop() == 10\n",
    "assert s.maxi() == 1\n",
    "assert s.pop() == 1"
   ]
  }
 ],
 "metadata": {
  "kernelspec": {
   "display_name": "Python 3",
   "language": "python",
   "name": "python3"
  },
  "language_info": {
   "codemirror_mode": {
    "name": "ipython",
    "version": 3
   },
   "file_extension": ".py",
   "mimetype": "text/x-python",
   "name": "python",
   "nbconvert_exporter": "python",
   "pygments_lexer": "ipython3",
   "version": "3.7.6"
  }
 },
 "nbformat": 4,
 "nbformat_minor": 4
}
