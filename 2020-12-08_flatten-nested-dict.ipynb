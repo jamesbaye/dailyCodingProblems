{
 "cells": [
  {
   "cell_type": "markdown",
   "metadata": {},
   "source": [
    "This problem was asked by Stripe.\n",
    "\n",
    "Write a function to flatten a nested dictionary. Namespace the keys with a period.\n",
    "\n",
    "For example, given the following dictionary:\n",
    "```\n",
    "{\n",
    "    \"key\": 3,\n",
    "    \"foo\": {\n",
    "        \"a\": 5,\n",
    "        \"bar\": {\n",
    "            \"baz\": 8\n",
    "        }\n",
    "    }\n",
    "}\n",
    "```\n",
    "it should become:\n",
    "```\n",
    "{\n",
    "    \"key\": 3,\n",
    "    \"foo.a\": 5,\n",
    "    \"foo.bar.baz\": 8\n",
    "}\n",
    "```\n",
    "You can assume keys do not contain dots in them, i.e. no clobbering will occur.\n",
    "\n"
   ]
  },
  {
   "cell_type": "code",
   "execution_count": 17,
   "metadata": {},
   "outputs": [],
   "source": [
    "def flatten(d, key_sep=\".\"):\n",
    "    \"\"\"Flatten a dict.\n",
    "    \n",
    "    Args:\n",
    "        d (dict): A dict.\n",
    "        key_sep (str): Flat key separator.\n",
    "    \"\"\"\n",
    "    return {key: val for key, val in yield_flat(d, key_sep=key_sep)}\n",
    "\n",
    "def yield_flat(d, key_prefix=\"\", key_sep=\".\"):\n",
    "    \"\"\"Yield flat (key, value) pairs given a nested dict.\n",
    "    \n",
    "    Args:\n",
    "        d (dict): A nested dict.\n",
    "        key_prefix (str, optional): A string to prepend to keys in d.\n",
    "        key_sep (str, optional): A separator string when flattening keys in d.\n",
    "    \"\"\"\n",
    "    if not isinstance(d, dict):\n",
    "        yield key_prefix, d\n",
    "    else:\n",
    "        for key, val in d.items():\n",
    "            yield from yield_flat(val, (key_prefix + key_sep + key).lstrip(key_sep))"
   ]
  },
  {
   "cell_type": "code",
   "execution_count": 18,
   "metadata": {},
   "outputs": [
    {
     "data": {
      "text/plain": [
       "{'key': 3, 'foo.a': 5, 'foo.bar.baz': 8}"
      ]
     },
     "execution_count": 18,
     "metadata": {},
     "output_type": "execute_result"
    }
   ],
   "source": [
    "flatten({\n",
    "    \"key\": 3,\n",
    "    \"foo\": {\n",
    "        \"a\": 5,\n",
    "        \"bar\": {\n",
    "            \"baz\": 8\n",
    "        }\n",
    "    }\n",
    "})"
   ]
  },
  {
   "cell_type": "code",
   "execution_count": 19,
   "metadata": {},
   "outputs": [
    {
     "data": {
      "text/plain": [
       "{}"
      ]
     },
     "execution_count": 19,
     "metadata": {},
     "output_type": "execute_result"
    }
   ],
   "source": [
    "flatten({})"
   ]
  },
  {
   "cell_type": "code",
   "execution_count": 20,
   "metadata": {},
   "outputs": [
    {
     "data": {
      "text/plain": [
       "{'a': 1}"
      ]
     },
     "execution_count": 20,
     "metadata": {},
     "output_type": "execute_result"
    }
   ],
   "source": [
    "flatten({\"a\": 1})"
   ]
  },
  {
   "cell_type": "code",
   "execution_count": 21,
   "metadata": {},
   "outputs": [
    {
     "data": {
      "text/plain": [
       "{'a.b': 1}"
      ]
     },
     "execution_count": 21,
     "metadata": {},
     "output_type": "execute_result"
    }
   ],
   "source": [
    "flatten({\"a\": {\"b\": 1}})"
   ]
  },
  {
   "cell_type": "code",
   "execution_count": 22,
   "metadata": {},
   "outputs": [
    {
     "data": {
      "text/plain": [
       "{'a.b': [1, 3, 2]}"
      ]
     },
     "execution_count": 22,
     "metadata": {},
     "output_type": "execute_result"
    }
   ],
   "source": [
    "flatten({\"a\": {\"b\": [1, 3, 2]}})"
   ]
  }
 ],
 "metadata": {
  "kernelspec": {
   "display_name": "Python 3",
   "language": "python",
   "name": "python3"
  },
  "language_info": {
   "codemirror_mode": {
    "name": "ipython",
    "version": 3
   },
   "file_extension": ".py",
   "mimetype": "text/x-python",
   "name": "python",
   "nbconvert_exporter": "python",
   "pygments_lexer": "ipython3",
   "version": "3.7.6"
  }
 },
 "nbformat": 4,
 "nbformat_minor": 4
}
