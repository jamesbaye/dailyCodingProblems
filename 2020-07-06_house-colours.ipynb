{
 "cells": [
  {
   "cell_type": "markdown",
   "metadata": {},
   "source": [
    "This problem was asked by Facebook.\n",
    "\n",
    "A builder is looking to build a row of N houses that can be of K different colors. He has a goal of minimizing cost while ensuring that no two neighboring houses are of the same color.\n",
    "\n",
    "Given an `N` by `K` matrix where the nth row and kth column represents the cost to build the nth house with kth color, return the minimum cost which achieves this goal."
   ]
  },
  {
   "cell_type": "code",
   "execution_count": 69,
   "metadata": {},
   "outputs": [],
   "source": [
    "def min_cost_no_adjacent_colours(costs):\n",
    "    \"\"\"Return the minimum cost sum by picking one item per row in costs,\n",
    "    such that no consecutive item has the same column.\n",
    "    \n",
    "    Solved by dynamic programming in O(N*K) time and O(K) space,\n",
    "    where (N, K) are the dimensions of costs.\n",
    "    \"\"\"\n",
    "    N, K = dim(costs)\n",
    "\n",
    "    if N == 1 and K == 1:\n",
    "        return costs[0][0]\n",
    "    elif K == 1:\n",
    "        raise ValueError(\"There is no solution if only one colour is available.\")\n",
    "\n",
    "    prev_mincosts = [0] * K\n",
    "    mincosts = [0] * K\n",
    "    for i in range(N):\n",
    "        for j in range(K):\n",
    "            # mincost if choosing colour j for house i\n",
    "            # is cost for that colour plus the mincost\n",
    "            # up to house i-1 excluding that colour.\n",
    "            mincosts[j] = costs[i][j] + min(prev_mincosts[:j] + prev_mincosts[j+1:])\n",
    "        prev_mincosts = mincosts.copy()\n",
    "    return min(mincosts)\n",
    "\n",
    "def min_cost_no_adjacent_colours_recursive(costs, i=0, j_prev=-1, totcost=0):\n",
    "    \"\"\"Recursive solution for the above problem.\n",
    "    \n",
    "    Time complexity is O(K^N).\n",
    "    \"\"\"\n",
    "    N, K = dim(costs)\n",
    "    if i == N:\n",
    "        # colours have been assigned to N houses. return cost.\n",
    "        return totcost\n",
    "    else:\n",
    "        sumcosts = []\n",
    "        # try all colours j != j_prev\n",
    "        for j in range(K):\n",
    "            if j != j_prev:\n",
    "                sumcosts.append(\n",
    "                    min_cost_no_adjacent_colours(costs, i + 1, j, totcost + costs[i][j])\n",
    "                )\n",
    "        return min(sumcosts)\n",
    "\n",
    "def dim(costs):\n",
    "    return len(costs), len(costs[0])"
   ]
  },
  {
   "cell_type": "code",
   "execution_count": 70,
   "metadata": {},
   "outputs": [],
   "source": [
    "costs = [\n",
    "    [1]\n",
    "]\n",
    "assert min_cost_no_adjacent_colours(costs) == 1"
   ]
  },
  {
   "cell_type": "code",
   "execution_count": 71,
   "metadata": {},
   "outputs": [],
   "source": [
    "costs = [\n",
    "    [1, 2]\n",
    "]\n",
    "assert min_cost_no_adjacent_colours(costs) == 1"
   ]
  },
  {
   "cell_type": "code",
   "execution_count": 72,
   "metadata": {},
   "outputs": [
    {
     "name": "stdout",
     "output_type": "stream",
     "text": [
      "expect raises if K==1\n"
     ]
    }
   ],
   "source": [
    "costs = [\n",
    "    [1],\n",
    "    [3]\n",
    "]\n",
    "try:\n",
    "    min_cost_no_adjacent_colours(costs)\n",
    "except ValueError:\n",
    "    print(\"expect raises if K==1\")"
   ]
  },
  {
   "cell_type": "code",
   "execution_count": 73,
   "metadata": {},
   "outputs": [],
   "source": [
    "costs = [\n",
    "    [1, 2],\n",
    "    [1, 3]\n",
    "]\n",
    "assert min_cost_no_adjacent_colours(costs) == 3 # 2 + 1"
   ]
  },
  {
   "cell_type": "code",
   "execution_count": 74,
   "metadata": {},
   "outputs": [],
   "source": [
    "costs = [\n",
    "    [1, 3, 10],\n",
    "    [3, 5, 11],\n",
    "    [2, 43, 3]\n",
    "]\n",
    "assert min_cost_no_adjacent_colours(costs) == 8 # 1 + 5 + 2"
   ]
  }
 ],
 "metadata": {
  "kernelspec": {
   "display_name": "Python 3",
   "language": "python",
   "name": "python3"
  },
  "language_info": {
   "codemirror_mode": {
    "name": "ipython",
    "version": 3
   },
   "file_extension": ".py",
   "mimetype": "text/x-python",
   "name": "python",
   "nbconvert_exporter": "python",
   "pygments_lexer": "ipython3",
   "version": "3.7.6"
  }
 },
 "nbformat": 4,
 "nbformat_minor": 4
}
