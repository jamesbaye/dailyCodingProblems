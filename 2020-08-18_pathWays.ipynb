{
 "cells": [
  {
   "cell_type": "markdown",
   "metadata": {},
   "source": [
    "This problem was asked by Facebook.\n",
    "\n",
    "There is an N by M matrix of zeroes. Given N and M, write a function to count the number of ways of starting at the top-left corner and getting to the bottom-right corner. You can only move right or down.\n",
    "\n",
    "For example, given a 2 by 2 matrix, you should return 2, since there are two ways to get to the bottom-right:\n",
    "\n",
    "Right, then down\n",
    "Down, then right\n",
    "Given a 5 by 5 matrix, there are 70 ways to get to the bottom-right."
   ]
  },
  {
   "cell_type": "code",
   "execution_count": 18,
   "metadata": {},
   "outputs": [],
   "source": [
    "def path_ways(N, M):\n",
    "    \"\"\"Return the number of ways to traverse a N*M grid.\n",
    "    \n",
    "    Traversal starts at top-left corner (0, 0) and ends at bottom-right corner (N-1, M-1).\n",
    "    You can only move right or down.\n",
    "    \n",
    "    This algorithm uses a bottom-up approach by calculating the number of ways\n",
    "    to reach the bottom-right corner from incrementally distant starting positions on the N*M grid.\n",
    "    \"\"\"\n",
    "    \n",
    "    # init\n",
    "    ways = [ [0]*M for _ in range(N) ]\n",
    "    ways[N-1][M-1] = 1\n",
    "    \n",
    "    for i in reversed(range(N)):\n",
    "        for j in reversed(range(M)):\n",
    "            if i < N-1:\n",
    "                # move down\n",
    "                ways[i][j] += ways[i+1][j]\n",
    "            \n",
    "            if j < M-1:\n",
    "                # move right\n",
    "                ways[i][j] += ways[i][j+1]\n",
    "    \n",
    "    return ways"
   ]
  },
  {
   "cell_type": "code",
   "execution_count": 19,
   "metadata": {},
   "outputs": [
    {
     "data": {
      "text/plain": [
       "[[1]]"
      ]
     },
     "execution_count": 19,
     "metadata": {},
     "output_type": "execute_result"
    }
   ],
   "source": [
    "path_ways(1, 1)"
   ]
  },
  {
   "cell_type": "code",
   "execution_count": 20,
   "metadata": {},
   "outputs": [
    {
     "data": {
      "text/plain": [
       "[[2, 1], [1, 1]]"
      ]
     },
     "execution_count": 20,
     "metadata": {},
     "output_type": "execute_result"
    }
   ],
   "source": [
    "path_ways(2, 2)"
   ]
  },
  {
   "cell_type": "code",
   "execution_count": 21,
   "metadata": {},
   "outputs": [
    {
     "data": {
      "text/plain": [
       "[[70, 35, 15, 5, 1],\n",
       " [35, 20, 10, 4, 1],\n",
       " [15, 10, 6, 3, 1],\n",
       " [5, 4, 3, 2, 1],\n",
       " [1, 1, 1, 1, 1]]"
      ]
     },
     "execution_count": 21,
     "metadata": {},
     "output_type": "execute_result"
    }
   ],
   "source": [
    "path_ways(5, 5)"
   ]
  }
 ],
 "metadata": {
  "kernelspec": {
   "display_name": "Python 3",
   "language": "python",
   "name": "python3"
  },
  "language_info": {
   "codemirror_mode": {
    "name": "ipython",
    "version": 3
   },
   "file_extension": ".py",
   "mimetype": "text/x-python",
   "name": "python",
   "nbconvert_exporter": "python",
   "pygments_lexer": "ipython3",
   "version": "3.7.6"
  }
 },
 "nbformat": 4,
 "nbformat_minor": 4
}
