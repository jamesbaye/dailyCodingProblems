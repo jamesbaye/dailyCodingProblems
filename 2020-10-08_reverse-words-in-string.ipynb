{
 "cells": [
  {
   "cell_type": "markdown",
   "metadata": {},
   "source": [
    "This problem was asked by Google.\n",
    "\n",
    "Given a string of words delimited by spaces, reverse the words in string. For example, given `\"hello world here\"`, return `\"here world hello\"`\n",
    "\n",
    "Follow-up: given a mutable string representation, can you perform this operation in-place?"
   ]
  },
  {
   "cell_type": "code",
   "execution_count": 20,
   "metadata": {},
   "outputs": [],
   "source": [
    "def reverse_words(string, sep=\" \"):\n",
    "    \"\"\"In-place reversal of the words in string.\n",
    "    \n",
    "    Args:\n",
    "        string (list): a list (i.e. mutable) representation of the string to reverse.\n",
    "        sep (char): the separator character between words\n",
    "    \"\"\"\n",
    "    \n",
    "    # reverse the whole string:\n",
    "    # all words are reversed,\n",
    "    # all characters per word are reversed.\n",
    "    reverse(string)\n",
    "    \n",
    "    # now reverse each word:\n",
    "    # characters per word are no longer reversed.\n",
    "    i_word_start = 0\n",
    "    for i, c in enumerate(string):\n",
    "        if c == sep:\n",
    "            reverse(string, i_word_start, i - 1)\n",
    "            i_word_start = i + 1\n",
    "    reverse(string, i_start) # reverse last word\n",
    "\n",
    "def reverse(string, i_start=None, i_end=None):\n",
    "    \"\"\"In-place reversal of string from indices i_start to i_end.\"\"\"\n",
    "    i_start = i_start or 0\n",
    "    i_end = i_end or len(string) -1\n",
    "    \n",
    "    while i_start < i_end:\n",
    "        swap_char(string, i_start, i_end)\n",
    "        i_start += 1\n",
    "        i_end -= 1\n",
    "\n",
    "def swap_char(string, i1, i2):\n",
    "    tmp_char = string[i1]\n",
    "    string[i1] = string[i2]\n",
    "    string[i2] = tmp_char"
   ]
  },
  {
   "cell_type": "code",
   "execution_count": 21,
   "metadata": {},
   "outputs": [
    {
     "data": {
      "text/plain": [
       "'123 abcd'"
      ]
     },
     "execution_count": 21,
     "metadata": {},
     "output_type": "execute_result"
    }
   ],
   "source": [
    "s = list(\"abcd 123\")\n",
    "reverse_words(s)\n",
    "''.join(s)"
   ]
  },
  {
   "cell_type": "code",
   "execution_count": 22,
   "metadata": {},
   "outputs": [
    {
     "data": {
      "text/plain": [
       "'456 123 abcd'"
      ]
     },
     "execution_count": 22,
     "metadata": {},
     "output_type": "execute_result"
    }
   ],
   "source": [
    "s = list(\"abcd 123 456\")\n",
    "reverse_words(s)\n",
    "''.join(s)"
   ]
  },
  {
   "cell_type": "code",
   "execution_count": 23,
   "metadata": {},
   "outputs": [
    {
     "data": {
      "text/plain": [
       "''"
      ]
     },
     "execution_count": 23,
     "metadata": {},
     "output_type": "execute_result"
    }
   ],
   "source": [
    "s = list(\"\")\n",
    "reverse_words(s)\n",
    "''.join(s)"
   ]
  },
  {
   "cell_type": "code",
   "execution_count": 24,
   "metadata": {},
   "outputs": [
    {
     "data": {
      "text/plain": [
       "'ab'"
      ]
     },
     "execution_count": 24,
     "metadata": {},
     "output_type": "execute_result"
    }
   ],
   "source": [
    "s = list(\"ab\")\n",
    "reverse_words(s)\n",
    "''.join(s)"
   ]
  },
  {
   "cell_type": "code",
   "execution_count": 26,
   "metadata": {},
   "outputs": [
    {
     "data": {
      "text/plain": [
       "'12 ab '"
      ]
     },
     "execution_count": 26,
     "metadata": {},
     "output_type": "execute_result"
    }
   ],
   "source": [
    "s = list(\" ab 12\")\n",
    "reverse_words(s)\n",
    "''.join(s)"
   ]
  },
  {
   "cell_type": "code",
   "execution_count": 27,
   "metadata": {},
   "outputs": [
    {
     "data": {
      "text/plain": [
       "' 12 ab'"
      ]
     },
     "execution_count": 27,
     "metadata": {},
     "output_type": "execute_result"
    }
   ],
   "source": [
    "s = list(\"ab 12 \")\n",
    "reverse_words(s)\n",
    "''.join(s)"
   ]
  }
 ],
 "metadata": {
  "kernelspec": {
   "display_name": "Python 3",
   "language": "python",
   "name": "python3"
  },
  "language_info": {
   "codemirror_mode": {
    "name": "ipython",
    "version": 3
   },
   "file_extension": ".py",
   "mimetype": "text/x-python",
   "name": "python",
   "nbconvert_exporter": "python",
   "pygments_lexer": "ipython3",
   "version": "3.7.6"
  }
 },
 "nbformat": 4,
 "nbformat_minor": 4
}
