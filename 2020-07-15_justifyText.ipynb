{
 "cells": [
  {
   "cell_type": "markdown",
   "metadata": {},
   "source": [
    "This problem was asked by Palantir.\n",
    "\n",
    "Write an algorithm to justify text. Given a sequence of words and an integer line length k, return a list of strings which represents each line, fully justified.\n",
    "\n",
    "More specifically, you should have as many words as possible in each line. There should be at least one space between each word. Pad extra spaces when necessary so that each line has exactly length k. Spaces should be distributed as equally as possible, with the extra spaces, if any, distributed starting from the left.\n",
    "\n",
    "If you can only fit one word on a line, then you should pad the right-hand side with spaces.\n",
    "\n",
    "Each word is guaranteed not to be longer than k.\n",
    "\n",
    "For example, given the list of words [\"the\", \"quick\", \"brown\", \"fox\", \"jumps\", \"over\", \"the\", \"lazy\", \"dog\"] and k = 16, you should return the following:\n",
    "```\n",
    "[\"the  quick brown\", # 1 extra space on the left\n",
    "\"fox  jumps  over\", # 2 extra spaces distributed evenly\n",
    "\"the   lazy   dog\"] # 4 extra spaces distributed evenly\n",
    "```"
   ]
  },
  {
   "cell_type": "code",
   "execution_count": 86,
   "metadata": {},
   "outputs": [],
   "source": [
    "def justified_text(words, k):\n",
    "    \"\"\"\n",
    "    Generates strings of justified text\n",
    "    each of length k, containing words in order.\n",
    "    \n",
    "    Time complexity is O(words * words_per_line).\n",
    "    \"\"\"\n",
    "    \n",
    "    line_words = []\n",
    "    line_len = 0\n",
    "    \n",
    "    for word in words:\n",
    "        # if word won't fit in current line,\n",
    "        # yield and clear current line.\n",
    "        if line_len + len(word) > k:\n",
    "            yield justified_line(line_words, k, line_len-1)\n",
    "            # line_len-1: subtract the space suffixed to the last word.\n",
    "            line_words.clear()\n",
    "            line_len = 0\n",
    "        \n",
    "        line_words.append(word)\n",
    "        line_len += len(word) + 1 # include 1-space suffix\n",
    "    \n",
    "    yield justified_line(line_words, k, line_len-1) # final line\n",
    "\n",
    "def justified_line(words, k, current_len, space_char=\" \"):\n",
    "    \"\"\"\n",
    "    Add justified spaces between words up to a total\n",
    "    character count of k.\n",
    "    \n",
    "    Distributes spaces evenly starting from the left.\n",
    "    \n",
    "    Returns the justified line as a string.\n",
    "    \"\"\"\n",
    "    \n",
    "    if len(words) == 0:\n",
    "        return pad_char * k\n",
    "    \n",
    "    if len(words) == 1:\n",
    "        return words[0] + pad_char * (k - len(words[0]))\n",
    "    \n",
    "    # define how many extra spaces to prefix to words\n",
    "    spaces_divided, spaces_remaining = divmod(k - current_len, len(words) - 1)\n",
    "    spaces_count = (\n",
    "        [spaces_divided+1] * spaces_remaining \n",
    "        + [spaces_divided] * (len(words) - 1 - spaces_remaining)\n",
    "    )\n",
    "    spaces = [\"\"] + [space_char * count for count in spaces_count]\n",
    "    \n",
    "    # join space-prefixed words\n",
    "    return \" \".join([space + word for space, word in zip(spaces, words)])\n",
    "    "
   ]
  },
  {
   "cell_type": "code",
   "execution_count": 87,
   "metadata": {},
   "outputs": [
    {
     "data": {
      "text/plain": [
       "['                ']"
      ]
     },
     "execution_count": 87,
     "metadata": {},
     "output_type": "execute_result"
    }
   ],
   "source": [
    "[x for x in justify_text([], 16)]"
   ]
  },
  {
   "cell_type": "code",
   "execution_count": 88,
   "metadata": {},
   "outputs": [
    {
     "data": {
      "text/plain": [
       "['                ']"
      ]
     },
     "execution_count": 88,
     "metadata": {},
     "output_type": "execute_result"
    }
   ],
   "source": [
    "[x for x in justify_text([\"\"], 16)]"
   ]
  },
  {
   "cell_type": "code",
   "execution_count": 89,
   "metadata": {},
   "outputs": [
    {
     "data": {
      "text/plain": [
       "['                ']"
      ]
     },
     "execution_count": 89,
     "metadata": {},
     "output_type": "execute_result"
    }
   ],
   "source": [
    "[x for x in justify_text([\"  \", \"\"], 16)]"
   ]
  },
  {
   "cell_type": "code",
   "execution_count": 90,
   "metadata": {},
   "outputs": [
    {
     "data": {
      "text/plain": [
       "['the  quick brown', 'fox  jumps  over', 'the   lazy   dog']"
      ]
     },
     "execution_count": 90,
     "metadata": {},
     "output_type": "execute_result"
    }
   ],
   "source": [
    "[x for x in justify_text([\"the\", \"quick\", \"brown\", \"fox\", \"jumps\", \"over\", \"the\", \"lazy\", \"dog\"], 16)]"
   ]
  }
 ],
 "metadata": {
  "kernelspec": {
   "display_name": "Python 3",
   "language": "python",
   "name": "python3"
  },
  "language_info": {
   "codemirror_mode": {
    "name": "ipython",
    "version": 3
   },
   "file_extension": ".py",
   "mimetype": "text/x-python",
   "name": "python",
   "nbconvert_exporter": "python",
   "pygments_lexer": "ipython3",
   "version": "3.7.6"
  }
 },
 "nbformat": 4,
 "nbformat_minor": 4
}
