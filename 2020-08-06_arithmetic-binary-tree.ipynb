{
 "cells": [
  {
   "cell_type": "markdown",
   "metadata": {},
   "source": [
    "This problem was asked by Microsoft.\n",
    "\n",
    "Suppose an arithmetic expression is given as a binary tree. Each leaf is an integer and each internal node is one of '+', '−', '∗', or '/'.\n",
    "\n",
    "Given the root to such a tree, write a function to evaluate it.\n",
    "\n",
    "For example, given the following tree:\n",
    "```\n",
    "    *\n",
    "   / \\\n",
    "  +    +\n",
    " / \\  / \\\n",
    "3  2  4  5\n",
    "```\n",
    "You should return `45`, as it is `(3 + 2) * (4 + 5)`."
   ]
  },
  {
   "cell_type": "code",
   "execution_count": 16,
   "metadata": {},
   "outputs": [],
   "source": [
    "class Node:\n",
    "    def __init__(self, left, right):\n",
    "        self.left = left\n",
    "        self.right = right\n",
    "    \n",
    "    def evaluate(self):\n",
    "        raise NotImplementedError(\"Can only evaluate a concrete Node subclass\")\n",
    "\n",
    "class NumNode(Node):\n",
    "    def __init__(self, val):\n",
    "        super().__init__(None, None)\n",
    "        self.val = val\n",
    "    \n",
    "    def evaluate(self):\n",
    "        return self.val\n",
    "\n",
    "class AddNode(Node):\n",
    "    def evaluate(self):\n",
    "        return self.left.evaluate() + self.right.evaluate()\n",
    "\n",
    "class MinusNode(Node):\n",
    "    def evaluate(self):\n",
    "        return self.left.evaluate() - self.right.evaluate()\n",
    "\n",
    "class MultNode(Node):\n",
    "    def evaluate(self):\n",
    "        return self.left.evaluate() * self.right.evaluate()\n",
    "\n",
    "class DivNode(Node):\n",
    "    def evaluate(self):\n",
    "        return self.left.evaluate() / self.right.evaluate()"
   ]
  },
  {
   "cell_type": "code",
   "execution_count": 17,
   "metadata": {},
   "outputs": [
    {
     "data": {
      "text/plain": [
       "45"
      ]
     },
     "execution_count": 17,
     "metadata": {},
     "output_type": "execute_result"
    }
   ],
   "source": [
    "MultNode(\n",
    "    AddNode(NumNode(3), NumNode(2)),\n",
    "    AddNode(NumNode(4), NumNode(5))\n",
    ").evaluate()"
   ]
  }
 ],
 "metadata": {
  "kernelspec": {
   "display_name": "Python 3",
   "language": "python",
   "name": "python3"
  },
  "language_info": {
   "codemirror_mode": {
    "name": "ipython",
    "version": 3
   },
   "file_extension": ".py",
   "mimetype": "text/x-python",
   "name": "python",
   "nbconvert_exporter": "python",
   "pygments_lexer": "ipython3",
   "version": "3.7.6"
  }
 },
 "nbformat": 4,
 "nbformat_minor": 4
}
