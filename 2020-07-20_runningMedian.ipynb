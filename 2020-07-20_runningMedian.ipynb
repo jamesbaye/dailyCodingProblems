{
 "cells": [
  {
   "cell_type": "markdown",
   "metadata": {},
   "source": [
    "This problem was asked by Microsoft.\n",
    "\n",
    "Compute the running median of a sequence of numbers. That is, given a stream of numbers, print out the median of the list so far on each new element.\n",
    "\n",
    "Recall that the median of an even-numbered list is the average of the two middle numbers.\n",
    "\n",
    "For example, given the sequence [2, 1, 5, 7, 2, 0, 5], your algorithm should print out:\n",
    "```\n",
    "2\n",
    "1.5\n",
    "2\n",
    "3.5\n",
    "2\n",
    "2\n",
    "2\n",
    "```"
   ]
  },
  {
   "cell_type": "code",
   "execution_count": 24,
   "metadata": {},
   "outputs": [],
   "source": [
    "import heapq # min heap module\n",
    "\n",
    "def print_running_median(iterable, verbose=False):\n",
    "    \"\"\"\n",
    "    For every number in iterable, print the \n",
    "    running median of all the values seen so far.\n",
    "    \n",
    "    Stores the values less than the median (included) in a max_heap,\n",
    "    and the values greater than the median (excluded) in a min_heap.\n",
    "    \n",
    "    The median is then either:\n",
    "    - the root of the max_heap (for an odd number of values)\n",
    "    - the mean of both roots (for an even number of values)\n",
    "    \n",
    "    Time complexity is O(n*log(n)). Space complexity is O(n).\n",
    "    \"\"\"\n",
    "    \n",
    "    # max heaps aren't implemented in python, but can be simulated\n",
    "    # by storing opposite-signed values in a min heap.\n",
    "    max_heap = [] # stores the values less than the median (included)\n",
    "    min_heap = [] # stores the values greater than the median (excluded)\n",
    "    \n",
    "    for num in iterable:\n",
    "        \n",
    "        # push num and keep heaps balanced\n",
    "        \n",
    "        if len(max_heap) == 0 or num <= -max_heap[0]:\n",
    "            # push to max_heap\n",
    "            heapq.heappush(max_heap, -num) #O(log(k))\n",
    "            if verbose: print(\"pushed to max heap:\", num)\n",
    "            \n",
    "            # keep balance\n",
    "            if len(max_heap) > len(min_heap)+1:\n",
    "                swap_num = -heapq.heappop(max_heap) #O(log(k))\n",
    "                heapq.heappush(min_heap, swap_num) #O(log(k))\n",
    "                if verbose: print(\"swapped from max to min heap:\", swap_num)\n",
    "            \n",
    "        else:\n",
    "            # push to min_heap\n",
    "            heapq.heappush(min_heap, num) #O(log(k))\n",
    "            if verbose: print(\"pushed to min heap:\", num)\n",
    "            \n",
    "            # keep balance\n",
    "            if len(min_heap) > len(max_heap):\n",
    "                swap_num = heapq.heappop(min_heap) #O(log(k))\n",
    "                heapq.heappush(max_heap, -swap_num) #O(log(k))\n",
    "                if verbose: print(\"swapped from min to max heap:\", swap_num)\n",
    "        \n",
    "        # print median\n",
    "        if (len(max_heap) + len(min_heap)) % 2 == 0:\n",
    "            median = (-max_heap[0] + min_heap[0]) / 2\n",
    "        else:\n",
    "            median = -max_heap[0]\n",
    "            \n",
    "        print(median)"
   ]
  },
  {
   "cell_type": "code",
   "execution_count": 26,
   "metadata": {},
   "outputs": [],
   "source": [
    "print_running_median([])"
   ]
  },
  {
   "cell_type": "code",
   "execution_count": 27,
   "metadata": {},
   "outputs": [
    {
     "name": "stdout",
     "output_type": "stream",
     "text": [
      "-5\n"
     ]
    }
   ],
   "source": [
    "print_running_median([-5])"
   ]
  },
  {
   "cell_type": "code",
   "execution_count": 28,
   "metadata": {},
   "outputs": [
    {
     "name": "stdout",
     "output_type": "stream",
     "text": [
      "-5\n",
      "-4.5\n"
     ]
    }
   ],
   "source": [
    "print_running_median([-5, -4])"
   ]
  },
  {
   "cell_type": "code",
   "execution_count": 29,
   "metadata": {},
   "outputs": [
    {
     "name": "stdout",
     "output_type": "stream",
     "text": [
      "-5\n",
      "-2.5\n",
      "-4\n",
      "-2.0\n"
     ]
    }
   ],
   "source": [
    "print_running_median([-5, 0, -4, 3])"
   ]
  },
  {
   "cell_type": "code",
   "execution_count": 30,
   "metadata": {},
   "outputs": [
    {
     "name": "stdout",
     "output_type": "stream",
     "text": [
      "2\n",
      "1.5\n",
      "2\n",
      "3.5\n",
      "2\n",
      "2.0\n",
      "2\n"
     ]
    }
   ],
   "source": [
    "print_running_median([2, 1, 5, 7, 2, 0, 5])"
   ]
  }
 ],
 "metadata": {
  "kernelspec": {
   "display_name": "Python 3",
   "language": "python",
   "name": "python3"
  },
  "language_info": {
   "codemirror_mode": {
    "name": "ipython",
    "version": 3
   },
   "file_extension": ".py",
   "mimetype": "text/x-python",
   "name": "python",
   "nbconvert_exporter": "python",
   "pygments_lexer": "ipython3",
   "version": "3.7.6"
  }
 },
 "nbformat": 4,
 "nbformat_minor": 4
}
