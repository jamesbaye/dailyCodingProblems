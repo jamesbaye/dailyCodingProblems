{
 "cells": [
  {
   "cell_type": "markdown",
   "metadata": {},
   "source": [
    "This problem was asked by Facebook.\n",
    "\n",
    "Given a list of integers, return the largest product that can be made by multiplying any three integers.\n",
    "\n",
    "For example, if the list is `[-10, -10, 5, 2]`, we should return `500`, since that's `-10 * -10 * 5`.\n",
    "\n",
    "You can assume the list has at least three integers."
   ]
  },
  {
   "cell_type": "code",
   "execution_count": 8,
   "metadata": {},
   "outputs": [],
   "source": [
    "def largest_product(nums):\n",
    "    \"\"\"Return the largest product of any three integers in nums.\n",
    "    \n",
    "    The largest product is the max product of either:\n",
    "    - the three positive nums furthest from 0;\n",
    "    - the two negative nums, and the positive num furthest from 0;\n",
    "    - the two positive nums, and the negative num closest to 0;\n",
    "    - the three negative nums closest to 0.\n",
    "    \"\"\"\n",
    "    \n",
    "    if len(nums) < 3:\n",
    "        raise ValueError(\"Expecting a list of at least three integers.\")\n",
    "    \n",
    "    max_pos = [-float(\"inf\")] * 3\n",
    "    min_neg = [float(\"inf\")] * 2\n",
    "    min_pos = [float(\"inf\")] * 2\n",
    "    max_neg = [-float(\"inf\")] * 3\n",
    "    \n",
    "    for num in nums:\n",
    "        # update stored nums furthest from 0 (for largest positive prod)\n",
    "        if num >= 0 and num > min(max_pos):\n",
    "            max_pos[min_index(max_pos)] = num\n",
    "        elif num < 0 and num < max(min_neg):\n",
    "            min_neg[max_index(min_neg)] = num\n",
    "        # update stored nums closest to 0 (for largest negative prod)\n",
    "        if num >= 0 and num < max(min_pos):\n",
    "            min_pos[max_index(min_pos)] = num\n",
    "        elif num < 0 and num > min(max_neg):\n",
    "            max_neg[min_index(max_neg)] = num\n",
    "    \n",
    "    return max([\n",
    "        prod(max_pos),\n",
    "        prod(min_neg + [max(max_pos)]),\n",
    "        prod([max(max_neg)] + min_pos),\n",
    "        prod(max_neg)\n",
    "    ])\n",
    "\n",
    "def min_index(nums):\n",
    "    if len(nums) == 0:\n",
    "        return None\n",
    "    min_index = 0\n",
    "    for i in range(1, len(nums)):\n",
    "        if nums[i] < nums[min_index]:\n",
    "            min_index = i\n",
    "    return min_index\n",
    "\n",
    "def max_index(nums):\n",
    "    return min_index([-num for num in nums])\n",
    "\n",
    "def prod(nums):\n",
    "    if len(nums) == 0:\n",
    "        return None\n",
    "    prod = 1\n",
    "    for num in nums:\n",
    "        prod *= num\n",
    "    return prod"
   ]
  },
  {
   "cell_type": "code",
   "execution_count": 10,
   "metadata": {
    "scrolled": true
   },
   "outputs": [],
   "source": [
    "assert largest_product([-10, -10, 5, 2]) == 500"
   ]
  },
  {
   "cell_type": "code",
   "execution_count": 11,
   "metadata": {
    "scrolled": true
   },
   "outputs": [],
   "source": [
    "assert largest_product([-10, -10, -5]) == -500"
   ]
  },
  {
   "cell_type": "code",
   "execution_count": 12,
   "metadata": {
    "scrolled": true
   },
   "outputs": [
    {
     "ename": "ValueError",
     "evalue": "Expecting a list of at least three integers.",
     "output_type": "error",
     "traceback": [
      "\u001b[0;31m---------------------------------------------------------------------------\u001b[0m",
      "\u001b[0;31mValueError\u001b[0m                                Traceback (most recent call last)",
      "\u001b[0;32m<ipython-input-12-ea369d6636ad>\u001b[0m in \u001b[0;36m<module>\u001b[0;34m\u001b[0m\n\u001b[0;32m----> 1\u001b[0;31m \u001b[0mlargest_product\u001b[0m\u001b[0;34m(\u001b[0m\u001b[0;34m[\u001b[0m\u001b[0;34m-\u001b[0m\u001b[0;36m10\u001b[0m\u001b[0;34m,\u001b[0m \u001b[0;34m-\u001b[0m\u001b[0;36m10\u001b[0m\u001b[0;34m]\u001b[0m\u001b[0;34m)\u001b[0m\u001b[0;34m\u001b[0m\u001b[0;34m\u001b[0m\u001b[0m\n\u001b[0m",
      "\u001b[0;32m<ipython-input-8-17f87dfc9eb0>\u001b[0m in \u001b[0;36mlargest_product\u001b[0;34m(nums)\u001b[0m\n\u001b[1;32m     10\u001b[0m \u001b[0;34m\u001b[0m\u001b[0m\n\u001b[1;32m     11\u001b[0m     \u001b[0;32mif\u001b[0m \u001b[0mlen\u001b[0m\u001b[0;34m(\u001b[0m\u001b[0mnums\u001b[0m\u001b[0;34m)\u001b[0m \u001b[0;34m<\u001b[0m \u001b[0;36m3\u001b[0m\u001b[0;34m:\u001b[0m\u001b[0;34m\u001b[0m\u001b[0;34m\u001b[0m\u001b[0m\n\u001b[0;32m---> 12\u001b[0;31m         \u001b[0;32mraise\u001b[0m \u001b[0mValueError\u001b[0m\u001b[0;34m(\u001b[0m\u001b[0;34m\"Expecting a list of at least three integers.\"\u001b[0m\u001b[0;34m)\u001b[0m\u001b[0;34m\u001b[0m\u001b[0;34m\u001b[0m\u001b[0m\n\u001b[0m\u001b[1;32m     13\u001b[0m \u001b[0;34m\u001b[0m\u001b[0m\n\u001b[1;32m     14\u001b[0m     \u001b[0mmax_pos\u001b[0m \u001b[0;34m=\u001b[0m \u001b[0;34m[\u001b[0m\u001b[0;34m-\u001b[0m\u001b[0mfloat\u001b[0m\u001b[0;34m(\u001b[0m\u001b[0;34m\"inf\"\u001b[0m\u001b[0;34m)\u001b[0m\u001b[0;34m]\u001b[0m \u001b[0;34m*\u001b[0m \u001b[0;36m3\u001b[0m\u001b[0;34m\u001b[0m\u001b[0;34m\u001b[0m\u001b[0m\n",
      "\u001b[0;31mValueError\u001b[0m: Expecting a list of at least three integers."
     ]
    }
   ],
   "source": [
    "largest_product([-10, -10])"
   ]
  }
 ],
 "metadata": {
  "kernelspec": {
   "display_name": "Python 3",
   "language": "python",
   "name": "python3"
  },
  "language_info": {
   "codemirror_mode": {
    "name": "ipython",
    "version": 3
   },
   "file_extension": ".py",
   "mimetype": "text/x-python",
   "name": "python",
   "nbconvert_exporter": "python",
   "pygments_lexer": "ipython3",
   "version": "3.7.6"
  }
 },
 "nbformat": 4,
 "nbformat_minor": 4
}
