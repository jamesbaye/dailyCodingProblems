{
 "cells": [
  {
   "cell_type": "markdown",
   "metadata": {},
   "source": [
    "This problem was asked by Google.\n",
    "\n",
    "Given the root to a binary tree, implement serialize(root), which serializes the tree into a string, and deserialize(s), which deserializes the string back into the tree.\n",
    "\n",
    "For example, given the following Node class\n",
    "\n",
    "class Node:\n",
    "    def __init__(self, val, left=None, right=None):\n",
    "        self.val = val\n",
    "        self.left = left\n",
    "        self.right = right\n",
    "\n",
    "The following test should pass:\n",
    "\n",
    "node = Node('root', Node('left', Node('left.left')), Node('right'))\n",
    "assert deserialize(serialize(node)).left.left.val == 'left.left'"
   ]
  },
  {
   "cell_type": "code",
   "execution_count": 122,
   "metadata": {},
   "outputs": [],
   "source": [
    "def factorial_generator(k):\n",
    "    \"\"\" Return all factorials up to k\n",
    "    (I made this function just to try out\n",
    "    generators in python). \"\"\"\n",
    "    n, f = 0, 1\n",
    "    while n <= k:\n",
    "        yield f\n",
    "        n+=1\n",
    "        f*=n\n",
    "\n",
    "class Node:\n",
    "    def __init__(self, val, left=None, right=None):\n",
    "        self.val = val\n",
    "        self.left = left\n",
    "        self.right = right\n",
    "\n",
    "def serialise(node):\n",
    "    \"\"\" Serialise a binary tree by preorder traversal\n",
    "    (Node-Left-Right) where a value of None indicates\n",
    "    that a null instance is encountered. \"\"\"\n",
    "    if isinstance(node, Node) is False:\n",
    "        # Store None when a null instance (max depth)\n",
    "        # is reached. Required for deserialise().\n",
    "        yield None\n",
    "    else:\n",
    "        # Traverse tree starting from root,\n",
    "        # moving down through left children,\n",
    "        # back up through right children.\n",
    "        yield node.val\n",
    "        yield from serialise(node.left)\n",
    "        yield from serialise(node.right)\n",
    "        \n",
    "def deserialise(series):\n",
    "    \"\"\" Take a serialised binary tree\n",
    "    (ordered by Node-Left-Right preorder traversal\n",
    "    with values of None indicating a null instance),\n",
    "    and return it as a Node class object. \"\"\"\n",
    "    # read next value in series\n",
    "    val = next(series)\n",
    "    if val is None:\n",
    "        # reached a null instance...\n",
    "        # so return None and go back up the call stack.\n",
    "        return None\n",
    "    else:\n",
    "        # reached a new node...\n",
    "        # the next elements in series are recursively\n",
    "        # all the left nodes (going down the call stack)\n",
    "        # followed by all the corresponding\n",
    "        # right nodes (going up the call stack).\n",
    "        node = Node(val)\n",
    "        node.left = deserialise(series)\n",
    "        node.right = deserialise(series)\n",
    "        return node"
   ]
  },
  {
   "cell_type": "markdown",
   "metadata": {},
   "source": [
    "__Construct node object__\n",
    "The commented constructor is more verbose than the uncommented one, but shows the null child instances that we need to capture in serialise() in order to be able to reconstruct the tree with deserialise()."
   ]
  },
  {
   "cell_type": "code",
   "execution_count": 123,
   "metadata": {},
   "outputs": [],
   "source": [
    "#node = Node('root', Node('left', Node('left.left', None, None), None), Node('right', None, None))\n",
    "node = Node('root', Node('left', Node('left.left')), Node('right'))"
   ]
  },
  {
   "cell_type": "markdown",
   "metadata": {},
   "source": [
    "__Check `serialise()` output__"
   ]
  },
  {
   "cell_type": "code",
   "execution_count": 124,
   "metadata": {},
   "outputs": [
    {
     "name": "stdout",
     "output_type": "stream",
     "text": [
      "['root', 'left', 'left.left', None, None, None, 'right', None, None]\n"
     ]
    }
   ],
   "source": [
    "print(list((serialise(node))))"
   ]
  },
  {
   "cell_type": "markdown",
   "metadata": {},
   "source": [
    "__Check `deserialise()` output__"
   ]
  },
  {
   "cell_type": "code",
   "execution_count": 125,
   "metadata": {},
   "outputs": [
    {
     "name": "stdout",
     "output_type": "stream",
     "text": [
      "['root', 'left', 'left.left', None, None, None, 'right', None, None]\n"
     ]
    }
   ],
   "source": [
    "print(list(serialise(deserialise(serialise(node)))))"
   ]
  },
  {
   "cell_type": "markdown",
   "metadata": {},
   "source": [
    "__Run the requested test__"
   ]
  },
  {
   "cell_type": "code",
   "execution_count": 126,
   "metadata": {},
   "outputs": [],
   "source": [
    "assert deserialise(serialise(node)).left.left.val == 'left.left'"
   ]
  },
  {
   "cell_type": "markdown",
   "metadata": {},
   "source": [
    "Some preliminary tests with python generators"
   ]
  },
  {
   "cell_type": "code",
   "execution_count": 2,
   "metadata": {},
   "outputs": [
    {
     "data": {
      "text/plain": [
       "[1,\n",
       " 1,\n",
       " 2,\n",
       " 6,\n",
       " 24,\n",
       " 120,\n",
       " 720,\n",
       " 5040,\n",
       " 40320,\n",
       " 362880,\n",
       " 3628800,\n",
       " 39916800,\n",
       " 479001600,\n",
       " 6227020800,\n",
       " 87178291200,\n",
       " 1307674368000,\n",
       " 20922789888000,\n",
       " 355687428096000,\n",
       " 6402373705728000,\n",
       " 121645100408832000,\n",
       " 2432902008176640000]"
      ]
     },
     "execution_count": 2,
     "metadata": {},
     "output_type": "execute_result"
    }
   ],
   "source": [
    "vals = factorial_generator(20)\n",
    "list(vals)"
   ]
  }
 ],
 "metadata": {
  "kernelspec": {
   "display_name": "Python 3",
   "language": "python",
   "name": "python3"
  },
  "language_info": {
   "codemirror_mode": {
    "name": "ipython",
    "version": 3
   },
   "file_extension": ".py",
   "mimetype": "text/x-python",
   "name": "python",
   "nbconvert_exporter": "python",
   "pygments_lexer": "ipython3",
   "version": "3.7.6"
  }
 },
 "nbformat": 4,
 "nbformat_minor": 4
}
