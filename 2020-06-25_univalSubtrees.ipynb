{
 "cells": [
  {
   "cell_type": "markdown",
   "metadata": {},
   "source": [
    "This problem was asked by Google.\n",
    "\n",
    "A unival tree (which stands for \"universal value\") is a tree where all nodes under it have the same value.\n",
    "\n",
    "Given the root to a binary tree, count the number of unival subtrees.\n",
    "\n",
    "For example, the following tree has 5 unival subtrees:\n",
    "\n",
    "```\n",
    "   0\n",
    "  / \\\n",
    " 1   0\n",
    "    / \\\n",
    "   1   0\n",
    "  / \\\n",
    " 1   1\n",
    " ```"
   ]
  },
  {
   "cell_type": "code",
   "execution_count": 65,
   "metadata": {},
   "outputs": [],
   "source": [
    "class Node:\n",
    "    def __init__(self, val, left=None, right=None):\n",
    "        self.val = val\n",
    "        self.left = left\n",
    "        self.right = right\n",
    "\n",
    "def is_unival(root, count):\n",
    "    if root is None:\n",
    "        return True\n",
    "    left_is_unival = is_unival(root.left, count)\n",
    "    right_is_unival = is_unival(root.right, count)\n",
    "    if (\n",
    "        left_is_unival and right_is_unival\n",
    "        and (root.left is None or root.val == root.left.val)\n",
    "        and (root.right is None or root.val == root.right.val)\n",
    "    ):\n",
    "        count[0] += 1\n",
    "        return True\n",
    "    else:\n",
    "        return False\n",
    "\n",
    "def number_unival_subtrees(root):\n",
    "    count = [0]\n",
    "    is_unival(root,count)\n",
    "    return count[0]"
   ]
  },
  {
   "cell_type": "code",
   "execution_count": 66,
   "metadata": {},
   "outputs": [],
   "source": [
    "node = Node(0, \n",
    "            Node(1),\n",
    "            Node(0,\n",
    "                 Node(1,\n",
    "                      Node(1),\n",
    "                      Node(1)\n",
    "                     ),\n",
    "                 Node(0)\n",
    "                )\n",
    "           )\n",
    "assert number_unival_subtrees(node) == 5"
   ]
  },
  {
   "cell_type": "code",
   "execution_count": 67,
   "metadata": {},
   "outputs": [],
   "source": [
    "node = Node(1,\n",
    "           Node(1),\n",
    "           Node(1,\n",
    "               Node(1))\n",
    "           )\n",
    "assert number_unival_subtrees(node) == 4"
   ]
  },
  {
   "cell_type": "code",
   "execution_count": 68,
   "metadata": {},
   "outputs": [],
   "source": [
    "node = Node(1,\n",
    "           Node(2),\n",
    "           Node(3,\n",
    "               Node(4))\n",
    "           )\n",
    "assert number_unival_subtrees(node) == 2"
   ]
  }
 ],
 "metadata": {
  "kernelspec": {
   "display_name": "Python 3",
   "language": "python",
   "name": "python3"
  },
  "language_info": {
   "codemirror_mode": {
    "name": "ipython",
    "version": 3
   },
   "file_extension": ".py",
   "mimetype": "text/x-python",
   "name": "python",
   "nbconvert_exporter": "python",
   "pygments_lexer": "ipython3",
   "version": "3.7.6"
  }
 },
 "nbformat": 4,
 "nbformat_minor": 4
}
