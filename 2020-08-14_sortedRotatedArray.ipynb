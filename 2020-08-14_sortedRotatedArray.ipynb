{
 "cells": [
  {
   "cell_type": "markdown",
   "metadata": {},
   "source": [
    "This problem was asked by Amazon.\n",
    "\n",
    "An sorted array of integers was rotated an unknown number of times.\n",
    "\n",
    "Given such an array, find the index of the element in the array in faster than linear time. If the element doesn't exist in the array, return null.\n",
    "\n",
    "For example, given the array `[13, 18, 25, 2, 8, 10]` and the element `8`, return `4` (the index of 8 in the array).\n",
    "\n",
    "You can assume all the integers in the array are unique."
   ]
  },
  {
   "cell_type": "code",
   "execution_count": 63,
   "metadata": {},
   "outputs": [],
   "source": [
    "def find_index(sort_rot_arr, val):\n",
    "    \"\"\"Return the index of the element val in a sorted rotated array in logarithmic time.\"\"\"\n",
    "    \n",
    "    start = 0\n",
    "    end = len(sort_rot_arr) - 1\n",
    "    \n",
    "    while start < end:\n",
    "        mid = int((start + end) / 2) # floor\n",
    "        \n",
    "        if val == sort_rot_arr[mid]:\n",
    "            # index is mid\n",
    "            return mid\n",
    "        \n",
    "        elif val < sort_rot_arr[mid]:\n",
    "            if val == sort_rot_arr[start]:\n",
    "                return start\n",
    "            elif val > sort_rot_arr[start]:\n",
    "                # val is in [start, mid[\n",
    "                end = mid - 1\n",
    "            else:\n",
    "                start = mid + 1\n",
    "        elif val > sort_rot_arr[mid]:\n",
    "            if val == sort_rot_arr[end]:\n",
    "                return end\n",
    "            elif val < sort_rot_arr[end]:\n",
    "                # val is in ]mid, end]\n",
    "                start = mid + 1\n",
    "            else:\n",
    "                end = mid - 1\n",
    "    \n",
    "    # val does not exist\n",
    "    return start if sort_rot_arr[start] == val else None"
   ]
  },
  {
   "cell_type": "code",
   "execution_count": 64,
   "metadata": {},
   "outputs": [
    {
     "data": {
      "text/plain": [
       "4"
      ]
     },
     "execution_count": 64,
     "metadata": {},
     "output_type": "execute_result"
    }
   ],
   "source": [
    "find_index([13, 18, 25, 2, 8, 10], 8)"
   ]
  },
  {
   "cell_type": "code",
   "execution_count": 65,
   "metadata": {},
   "outputs": [
    {
     "data": {
      "text/plain": [
       "3"
      ]
     },
     "execution_count": 65,
     "metadata": {},
     "output_type": "execute_result"
    }
   ],
   "source": [
    "find_index([13, 18, 25, 2, 8, 10], 2)"
   ]
  },
  {
   "cell_type": "code",
   "execution_count": 66,
   "metadata": {},
   "outputs": [
    {
     "data": {
      "text/plain": [
       "0"
      ]
     },
     "execution_count": 66,
     "metadata": {},
     "output_type": "execute_result"
    }
   ],
   "source": [
    "find_index([13, 18, 25, 2, 8, 10], 13)"
   ]
  },
  {
   "cell_type": "code",
   "execution_count": 67,
   "metadata": {},
   "outputs": [],
   "source": [
    "find_index([13, 18, 25, 2, 8, 10], -1)"
   ]
  },
  {
   "cell_type": "code",
   "execution_count": 68,
   "metadata": {},
   "outputs": [],
   "source": [
    "find_index([13, 18, 25, 2, 8, 10], 7)"
   ]
  }
 ],
 "metadata": {
  "kernelspec": {
   "display_name": "Python 3",
   "language": "python",
   "name": "python3"
  },
  "language_info": {
   "codemirror_mode": {
    "name": "ipython",
    "version": 3
   },
   "file_extension": ".py",
   "mimetype": "text/x-python",
   "name": "python",
   "nbconvert_exporter": "python",
   "pygments_lexer": "ipython3",
   "version": "3.7.6"
  }
 },
 "nbformat": 4,
 "nbformat_minor": 4
}
