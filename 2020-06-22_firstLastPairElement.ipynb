{
 "cells": [
  {
   "cell_type": "markdown",
   "metadata": {},
   "source": [
    "This problem was asked by Jane Street.\n",
    "\n",
    "`cons(a, b)` constructs a pair, and `car(pair)` and `cdr(pair)` returns the first and last element of that pair. For example, `car(cons(3, 4))` returns `3`, and `cdr(cons(3, 4))` returns `4`.\n",
    "\n",
    "Given this implementation of cons:\n",
    "\n",
    "```def cons(a, b):\n",
    "    def pair(f):\n",
    "        return f(a, b)\n",
    "    return pair```\n",
    "\n",
    "Implement `car` and `cdr`."
   ]
  },
  {
   "cell_type": "code",
   "execution_count": 38,
   "metadata": {},
   "outputs": [],
   "source": [
    "def cons(a, b):\n",
    "    \"\"\" Returns a pair function\n",
    "    which expects as an argument any \n",
    "    generic function that accepts the\n",
    "    objects a, b as an input. \"\"\"\n",
    "    def pair(f):\n",
    "        return f(a, b)\n",
    "    return pair\n",
    "\n",
    "def car(pair):\n",
    "    \"\"\" Return first element of pair\n",
    "    with a lambda function. \"\"\"\n",
    "    return pair(lambda a, b: a)\n",
    "\n",
    "def cdr(pair):\n",
    "    \"\"\" Return last element of pair\n",
    "    with a lambda function. \"\"\"\n",
    "    return pair(lambda a, b: b)"
   ]
  },
  {
   "cell_type": "code",
   "execution_count": 39,
   "metadata": {},
   "outputs": [],
   "source": [
    "assert car(cons(3, 4)) == 3\n",
    "assert cdr(cons(3, 4)) == 4"
   ]
  }
 ],
 "metadata": {
  "kernelspec": {
   "display_name": "Python 3",
   "language": "python",
   "name": "python3"
  },
  "language_info": {
   "codemirror_mode": {
    "name": "ipython",
    "version": 3
   },
   "file_extension": ".py",
   "mimetype": "text/x-python",
   "name": "python",
   "nbconvert_exporter": "python",
   "pygments_lexer": "ipython3",
   "version": "3.7.6"
  }
 },
 "nbformat": 4,
 "nbformat_minor": 4
}
