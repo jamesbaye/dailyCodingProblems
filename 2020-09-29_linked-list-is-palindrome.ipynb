{
 "cells": [
  {
   "cell_type": "markdown",
   "metadata": {},
   "source": [
    "This problem was asked by Google.\n",
    "\n",
    "Determine whether a doubly linked list is a palindrome. What if it’s singly linked?\n",
    "\n",
    "For example, `1 -> 4 -> 3 -> 4 -> 1` returns `True` while `1 -> 4` returns `False`."
   ]
  },
  {
   "cell_type": "code",
   "execution_count": 23,
   "metadata": {},
   "outputs": [],
   "source": [
    "import math\n",
    "\n",
    "class Node:\n",
    "    def __init__(self, val, next_node=None):\n",
    "        self.val = val\n",
    "        self.next = next_node\n",
    "\n",
    "def is_palindrome(node):\n",
    "    \"\"\"Return True if the singly linked list starting at node\n",
    "    is a palindrome, False if not.\n",
    "    \"\"\"\n",
    "    vals = []\n",
    "    \n",
    "    # push node values to stack.\n",
    "    current_node = node\n",
    "    while current_node is not None:\n",
    "        vals.append(current_node.val)\n",
    "        current_node = current_node.next\n",
    "    \n",
    "    # check node values (left->right) equal stack pop (right->left).\n",
    "    current_node = node\n",
    "    while current_node is not None:\n",
    "        if vals.pop() != current_node.val:\n",
    "            return False\n",
    "        current_node = current_node.next\n",
    "    \n",
    "    return True"
   ]
  },
  {
   "cell_type": "code",
   "execution_count": 24,
   "metadata": {},
   "outputs": [],
   "source": [
    "node = Node(1, Node(4, Node(3, Node(4, Node(1)))))\n",
    "assert is_palindrome(node) == True"
   ]
  },
  {
   "cell_type": "code",
   "execution_count": 29,
   "metadata": {},
   "outputs": [],
   "source": [
    "node = Node(1, Node(4, Node(3)))\n",
    "assert is_palindrome(node) == False"
   ]
  },
  {
   "cell_type": "code",
   "execution_count": 25,
   "metadata": {},
   "outputs": [],
   "source": [
    "node = Node(1, Node(4))\n",
    "assert is_palindrome(node) == False"
   ]
  },
  {
   "cell_type": "code",
   "execution_count": 28,
   "metadata": {},
   "outputs": [],
   "source": [
    "node = Node(1, Node(1))\n",
    "assert is_palindrome(node) == True"
   ]
  },
  {
   "cell_type": "code",
   "execution_count": 26,
   "metadata": {},
   "outputs": [],
   "source": [
    "node = Node(1)\n",
    "assert is_palindrome(node) == True"
   ]
  }
 ],
 "metadata": {
  "kernelspec": {
   "display_name": "Python 3",
   "language": "python",
   "name": "python3"
  },
  "language_info": {
   "codemirror_mode": {
    "name": "ipython",
    "version": 3
   },
   "file_extension": ".py",
   "mimetype": "text/x-python",
   "name": "python",
   "nbconvert_exporter": "python",
   "pygments_lexer": "ipython3",
   "version": "3.7.6"
  }
 },
 "nbformat": 4,
 "nbformat_minor": 4
}
