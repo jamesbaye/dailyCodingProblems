{
 "cells": [
  {
   "cell_type": "markdown",
   "metadata": {},
   "source": [
    "This problem was asked by Facebook.\n",
    "\n",
    "Given a binary tree, return all paths from the root to leaves.\n",
    "\n",
    "For example, given the tree:\n",
    "```\n",
    "   1\n",
    "  / \\\n",
    " 2   3\n",
    "    / \\\n",
    "   4   5\n",
    "```\n",
    "Return `[[1, 2], [1, 3, 4], [1, 3, 5]]`."
   ]
  },
  {
   "cell_type": "code",
   "execution_count": 3,
   "metadata": {},
   "outputs": [],
   "source": [
    "class Node:\n",
    "    def __init__(self, val, left=None, right=None):\n",
    "        self.val = val\n",
    "        self.left = left\n",
    "        self.right = right\n",
    "    \n",
    "    def paths(self, prev=None):\n",
    "        \"\"\"Yield all paths from current node to leaves.\"\"\"\n",
    "        if prev is None:\n",
    "            prev = []\n",
    "        if self.left is None and self.right is None:\n",
    "            yield prev + [self.val]\n",
    "        else:\n",
    "            if self.left is not None:\n",
    "                yield from self.left.paths(prev + [self.val])\n",
    "            if self.right is not None:\n",
    "                yield from self.right.paths(prev + [self.val])"
   ]
  },
  {
   "cell_type": "code",
   "execution_count": 4,
   "metadata": {},
   "outputs": [
    {
     "data": {
      "text/plain": [
       "[[1, 2], [1, 3, 4], [1, 3, 5]]"
      ]
     },
     "execution_count": 4,
     "metadata": {},
     "output_type": "execute_result"
    }
   ],
   "source": [
    "root = Node(1, Node(2), Node(3, Node(4), Node(5)))\n",
    "[x for x in root.paths()]"
   ]
  }
 ],
 "metadata": {
  "kernelspec": {
   "display_name": "Python 3",
   "language": "python",
   "name": "python3"
  },
  "language_info": {
   "codemirror_mode": {
    "name": "ipython",
    "version": 3
   },
   "file_extension": ".py",
   "mimetype": "text/x-python",
   "name": "python",
   "nbconvert_exporter": "python",
   "pygments_lexer": "ipython3",
   "version": "3.7.6"
  }
 },
 "nbformat": 4,
 "nbformat_minor": 4
}
