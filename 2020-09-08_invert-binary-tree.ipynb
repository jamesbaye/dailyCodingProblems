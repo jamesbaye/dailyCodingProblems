{
 "cells": [
  {
   "cell_type": "markdown",
   "metadata": {},
   "source": [
    "This problem was asked by Google.\n",
    "\n",
    "Invert a binary tree.\n",
    "\n",
    "For example, given the following tree:\n",
    "```\n",
    "    a\n",
    "   / \\\n",
    "  b   c\n",
    " / \\  /\n",
    "d   e f\n",
    "```\n",
    "should become:\n",
    "```\n",
    "  a\n",
    " / \\\n",
    " c  b\n",
    " \\  / \\\n",
    "  f e  d\n",
    "```"
   ]
  },
  {
   "cell_type": "code",
   "execution_count": 1,
   "metadata": {},
   "outputs": [],
   "source": [
    "class BinaryTree:\n",
    "    def __init__(self, val, left=None, right=None):\n",
    "        self.val = val\n",
    "        self.left = left\n",
    "        self.right = right\n",
    "    \n",
    "    def invert(self):\n",
    "        tmp = self.right\n",
    "        self.right = self.left\n",
    "        self.left = tmp\n",
    "        \n",
    "        if self.left is not None:\n",
    "            self.left.invert()\n",
    "        if self.left is not None:\n",
    "            self.right.invert()"
   ]
  },
  {
   "cell_type": "code",
   "execution_count": 3,
   "metadata": {},
   "outputs": [
    {
     "name": "stdout",
     "output_type": "stream",
     "text": [
      "a\n",
      "c b\n",
      "None f e d\n"
     ]
    }
   ],
   "source": [
    "t = BinaryTree(\"a\", BinaryTree(\"b\", BinaryTree(\"d\"), BinaryTree(\"e\")), BinaryTree(\"c\", BinaryTree(\"f\")))\n",
    "t.invert()\n",
    "\n",
    "print(t.val)\n",
    "print(t.left.val, t.right.val)\n",
    "print(t.left.left, t.left.right.val, t.right.left.val, t.right.right.val)"
   ]
  }
 ],
 "metadata": {
  "kernelspec": {
   "display_name": "Python 3",
   "language": "python",
   "name": "python3"
  },
  "language_info": {
   "codemirror_mode": {
    "name": "ipython",
    "version": 3
   },
   "file_extension": ".py",
   "mimetype": "text/x-python",
   "name": "python",
   "nbconvert_exporter": "python",
   "pygments_lexer": "ipython3",
   "version": "3.7.6"
  }
 },
 "nbformat": 4,
 "nbformat_minor": 4
}
