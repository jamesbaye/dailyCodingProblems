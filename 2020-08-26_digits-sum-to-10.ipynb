{
 "cells": [
  {
   "cell_type": "markdown",
   "metadata": {},
   "source": [
    "This problem was asked by Microsoft.\n",
    "\n",
    "A number is considered perfect if its digits sum up to exactly 10.\n",
    "\n",
    "Given a positive integer `n`, return the n-th perfect number.\n",
    "\n",
    "For example, given `1`, you should return `19`. Given `2`, you should return `28`."
   ]
  },
  {
   "cell_type": "code",
   "execution_count": 40,
   "metadata": {},
   "outputs": [],
   "source": [
    "def nth_perfect_number(n):\n",
    "    \"\"\"Return the nth perfect number (n>0).\n",
    "    \n",
    "    A number is considered perfect if its digits sum up to exactly 10.\n",
    "    \"\"\"\n",
    "    # O(n): n-th perfect number is `N*10 + (10-sum_digits(N))`,\n",
    "    # where N >= n is the N-th number whose digits sum up to less than 10.\n",
    "    N = nth_number_whose_digits_sum_to_less_than_10(n)\n",
    "    return N*10 + (10-sum_digits(N))\n",
    "\n",
    "def nth_number_whose_digits_sum_to_less_than_10(n):\n",
    "    \"\"\"Return the nth number whose digits sum up to less than 10.\"\"\"\n",
    "    n_skipped = 0\n",
    "    for k in range(28, n+1):\n",
    "        while sum_digits(k + n_skipped) > 10:\n",
    "            n_skipped += 1\n",
    "    return n + n_skipped\n",
    "\n",
    "def sum_digits(n):\n",
    "    \"\"\"Return the sum of the digits of n. Faster than sum_digits2().\"\"\"\n",
    "    s = 0\n",
    "    while n:\n",
    "        n, rem = divmod(n, 10)\n",
    "        s += rem\n",
    "    return s\n",
    "\n",
    "def sum_digits2(n):\n",
    "    \"\"\"Return the sum of the digits of n.\"\"\"\n",
    "    return sum([int(digit) for digit in str(n)])"
   ]
  },
  {
   "cell_type": "code",
   "execution_count": 41,
   "metadata": {},
   "outputs": [
    {
     "data": {
      "text/plain": [
       "[19,\n",
       " 28,\n",
       " 37,\n",
       " 46,\n",
       " 55,\n",
       " 64,\n",
       " 73,\n",
       " 82,\n",
       " 91,\n",
       " 109,\n",
       " 118,\n",
       " 127,\n",
       " 136,\n",
       " 145,\n",
       " 154,\n",
       " 163,\n",
       " 172,\n",
       " 181,\n",
       " 190,\n",
       " 208,\n",
       " 217,\n",
       " 226,\n",
       " 235,\n",
       " 244,\n",
       " 253,\n",
       " 262,\n",
       " 271,\n",
       " 280,\n",
       " 307,\n",
       " 316,\n",
       " 325,\n",
       " 334,\n",
       " 343,\n",
       " 352]"
      ]
     },
     "execution_count": 41,
     "metadata": {},
     "output_type": "execute_result"
    }
   ],
   "source": [
    "[nth_perfect_number(n) for n in range(1, 35)]"
   ]
  },
  {
   "cell_type": "code",
   "execution_count": 42,
   "metadata": {},
   "outputs": [],
   "source": [
    "from timeit import default_timer as timer"
   ]
  },
  {
   "cell_type": "code",
   "execution_count": 43,
   "metadata": {},
   "outputs": [
    {
     "name": "stdout",
     "output_type": "stream",
     "text": [
      "1.2372017540001252\n"
     ]
    }
   ],
   "source": [
    "start = timer()\n",
    "for n in range(1, 1000):\n",
    "    assert sum_digits(nth_perfect_number(n)) == 10\n",
    "print(timer() - start)"
   ]
  }
 ],
 "metadata": {
  "kernelspec": {
   "display_name": "Python 3",
   "language": "python",
   "name": "python3"
  },
  "language_info": {
   "codemirror_mode": {
    "name": "ipython",
    "version": 3
   },
   "file_extension": ".py",
   "mimetype": "text/x-python",
   "name": "python",
   "nbconvert_exporter": "python",
   "pygments_lexer": "ipython3",
   "version": "3.7.6"
  }
 },
 "nbformat": 4,
 "nbformat_minor": 4
}
