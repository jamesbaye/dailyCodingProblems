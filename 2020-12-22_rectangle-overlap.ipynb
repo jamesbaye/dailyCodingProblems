{
 "cells": [
  {
   "cell_type": "markdown",
   "metadata": {},
   "source": [
    "This problem was asked by Google.\n",
    "\n",
    "You are given given a list of rectangles represented by min and max x- and y-coordinates. Compute whether or not a pair of rectangles overlap each other. If one rectangle completely covers another, it is considered overlapping.\n",
    "\n",
    "For example, given the following rectangles:\n",
    "```\n",
    "{\n",
    "    \"top_left\": (1, 4),\n",
    "    \"dimensions\": (3, 3) # width, height\n",
    "},\n",
    "{\n",
    "    \"top_left\": (-1, 3),\n",
    "    \"dimensions\": (2, 1)\n",
    "},\n",
    "{\n",
    "    \"top_left\": (0, 5),\n",
    "    \"dimensions\": (4, 3)\n",
    "}\n",
    "```\n",
    "return `true` as the first and third rectangle overlap each other."
   ]
  },
  {
   "cell_type": "code",
   "execution_count": 35,
   "metadata": {},
   "outputs": [],
   "source": [
    "from collections import namedtuple\n",
    "\n",
    "Rect = namedtuple(\"Rect\", [\"top_left\", \"dimensions\"])\n",
    "\n",
    "def any_rect_overlap(rects):\n",
    "    \"\"\"Return true if any two rectangles overlap.\n",
    "    Args:\n",
    "        rects (iterable): An iterable of Rect objects.\n",
    "    \"\"\"\n",
    "    for i, rA in enumerate(rects):\n",
    "        for rB in rects[(i+1):]:\n",
    "            if rect_pair_overlap(rA, rB):\n",
    "                return True\n",
    "    return False\n",
    "\n",
    "def rect_overlap(rA, rB):\n",
    "    \"\"\"Return true if rectangles rA, rB overlap.\"\"\"\n",
    "    xA, yA, wA, hA = rect_coord(rA)\n",
    "    xB, yB, wB, hB = rect_coord(rB)\n",
    "    return (\n",
    "        segment_overlap((xA, xA+wA), (xB, xB+wB))\n",
    "        and segment_overlap((yA, yA+hA), (yB, yB+hB))\n",
    "    )\n",
    "\n",
    "def segment_overlap(sA, sB):\n",
    "    \"\"\"Return true if segments sA, sB overlap.\"\"\"\n",
    "    x0, x1 = sA\n",
    "    y0, y1 = sB\n",
    "    return in_interv(x1, (y0, y1)) or in_interv(y1, (x0, x1))\n",
    "\n",
    "def in_interv(x, intv):\n",
    "    \"\"\"Return true if value is in left-open interval.\"\"\"\n",
    "    return x > intv[0] and x <= intv[1]\n",
    "\n",
    "def rect_coord(r):\n",
    "    \"\"\"Return (x0, y0, w, h) rectangle coordinates.\n",
    "    (x0, y0) is the coordinate of the top-left corner.\n",
    "    (w, h) is the width along x and height along y.\n",
    "    \"\"\"\n",
    "    x0, y0 = r.top_left\n",
    "    w, h = r.dimensions\n",
    "    return x0, y0, w, h"
   ]
  },
  {
   "cell_type": "code",
   "execution_count": 36,
   "metadata": {},
   "outputs": [
    {
     "data": {
      "text/plain": [
       "True"
      ]
     },
     "execution_count": 36,
     "metadata": {},
     "output_type": "execute_result"
    }
   ],
   "source": [
    "rects = [\n",
    "    Rect((1, 4), (3, 3)), # (4, 7)\n",
    "    Rect((-1, 3), (2, 1)),\n",
    "    Rect((0, 5), (4, 3)), # (4, 8)\n",
    "]\n",
    "any_rect_overlap(rects)"
   ]
  },
  {
   "cell_type": "code",
   "execution_count": 37,
   "metadata": {},
   "outputs": [
    {
     "data": {
      "text/plain": [
       "False"
      ]
     },
     "execution_count": 37,
     "metadata": {},
     "output_type": "execute_result"
    }
   ],
   "source": [
    "rects = [\n",
    "    Rect((1, 4), (3, 3)),\n",
    "]\n",
    "any_rect_overlap(rects)"
   ]
  },
  {
   "cell_type": "code",
   "execution_count": 38,
   "metadata": {},
   "outputs": [
    {
     "data": {
      "text/plain": [
       "False"
      ]
     },
     "execution_count": 38,
     "metadata": {},
     "output_type": "execute_result"
    }
   ],
   "source": [
    "rects = [\n",
    "    Rect((1, 4), (3, 3)),\n",
    "    Rect((-1, 3), (2, 1)),\n",
    "]\n",
    "any_rect_overlap(rects)"
   ]
  },
  {
   "cell_type": "code",
   "execution_count": 39,
   "metadata": {},
   "outputs": [
    {
     "data": {
      "text/plain": [
       "False"
      ]
     },
     "execution_count": 39,
     "metadata": {},
     "output_type": "execute_result"
    }
   ],
   "source": [
    "rects = [\n",
    "    Rect((0, 0), (1, 1)),\n",
    "    Rect((2, 2), (2, 1)),\n",
    "]\n",
    "any_rect_overlap(rects)"
   ]
  }
 ],
 "metadata": {
  "kernelspec": {
   "display_name": "Python 3",
   "language": "python",
   "name": "python3"
  },
  "language_info": {
   "codemirror_mode": {
    "name": "ipython",
    "version": 3
   },
   "file_extension": ".py",
   "mimetype": "text/x-python",
   "name": "python",
   "nbconvert_exporter": "python",
   "pygments_lexer": "ipython3",
   "version": "3.7.6"
  }
 },
 "nbformat": 4,
 "nbformat_minor": 4
}
