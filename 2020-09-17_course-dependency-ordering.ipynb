{
 "cells": [
  {
   "cell_type": "markdown",
   "metadata": {},
   "source": [
    "This problem was asked by Airbnb.\n",
    "\n",
    "We're given a hashmap associating each courseId key with a list of courseIds values, which represents that the prerequisites of courseId are courseIds. Return a sorted ordering of courses such that we can finish all courses.\n",
    "\n",
    "Return null if there is no such ordering.\n",
    "\n",
    "For example, given `{'CSC300': ['CSC100', 'CSC200'], 'CSC200': ['CSC100'], 'CSC100': []}`, should return `['CSC100', 'CSC200', 'CSCS300']`."
   ]
  },
  {
   "cell_type": "code",
   "execution_count": 15,
   "metadata": {},
   "outputs": [],
   "source": [
    "def sorted_ordering(courses):\n",
    "    \"\"\"Return a sorted ordering of courses given course prerequisites.\n",
    "    \n",
    "    Args:\n",
    "        courses: a dict where each key is a courseid and values are a list of prerequisite courseids.\n",
    "    \n",
    "    Complexity:\n",
    "        Time: O(n) to compute all course levels, O(n*log(n)) to return a sorted ordering.\n",
    "        Space: O(n).\n",
    "    \"\"\"\n",
    "    levels = {}\n",
    "    for courseid in courses:\n",
    "        get_level(courseid, courses, levels)\n",
    "    return sorted(levels, key=lambda x: x[1])\n",
    "\n",
    "def get_level(courseid, courses, levels):\n",
    "    \"\"\"Get the course level of courseid by computing the max depth of its prerequisites in courses.\"\"\"\n",
    "    if courseid not in levels:\n",
    "        if len(courses[courseid]) == 0:\n",
    "            levels[courseid] = 0\n",
    "        else:\n",
    "            levels[courseid] = 1 + max([get_level(prereq, courses, levels) for prereq in courses[courseid]])\n",
    "    return levels[courseid]"
   ]
  },
  {
   "cell_type": "code",
   "execution_count": 16,
   "metadata": {},
   "outputs": [
    {
     "data": {
      "text/plain": [
       "['CSC100', 'CSC200', 'CSC300']"
      ]
     },
     "execution_count": 16,
     "metadata": {},
     "output_type": "execute_result"
    }
   ],
   "source": [
    "sorted_ordering({'CSC300': ['CSC100', 'CSC200'], 'CSC200': ['CSC100'], 'CSC100': []})"
   ]
  }
 ],
 "metadata": {
  "kernelspec": {
   "display_name": "Python 3",
   "language": "python",
   "name": "python3"
  },
  "language_info": {
   "codemirror_mode": {
    "name": "ipython",
    "version": 3
   },
   "file_extension": ".py",
   "mimetype": "text/x-python",
   "name": "python",
   "nbconvert_exporter": "python",
   "pygments_lexer": "ipython3",
   "version": "3.7.6"
  }
 },
 "nbformat": 4,
 "nbformat_minor": 4
}
