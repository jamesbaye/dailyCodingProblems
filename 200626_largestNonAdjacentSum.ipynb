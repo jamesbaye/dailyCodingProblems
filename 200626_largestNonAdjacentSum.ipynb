{
 "cells": [
  {
   "cell_type": "markdown",
   "metadata": {},
   "source": [
    "This problem was asked by Airbnb.\n",
    "\n",
    "Given a list of integers, write a function that returns the largest sum of non-adjacent numbers. Numbers can be 0 or negative.\n",
    "\n",
    "For example, [2, 4, 6, 2, 5] should return 13, since we pick 2, 6, and 5. [5, 1, 1, 5] should return 10, since we pick 5 and 5.\n",
    "\n",
    "Follow-up: Can you do this in O(N) time and constant space?"
   ]
  },
  {
   "cell_type": "markdown",
   "metadata": {},
   "source": [
    "### Description of the solution\n",
    "\n",
    "The trick is to see that the largest sum of non-adjacent numbers for a list of `n` numbers can be inferred if we've already solved it for the `n-2` and `n-1` first numbers.\n",
    "\n",
    "And the solution for a list of length `n<=2` is trivially the max value.\n",
    "\n",
    "Let's take the example of [2, 4, 6, 2, 5]...\n",
    "\n",
    "We can easily solve for the first two values:\n",
    "- `max_non_adjacent_sum([2])` = max(2) = 2\n",
    "- `max_non_adjacent_sum([2, 4])` = max(2,4) = 4\n",
    "\n",
    "Then, for any new value `k`, `max_non_adjacent_sum([2, 4, k])` is the max between:\n",
    "- `max_non_adjacent_sum([2, 4])` (i.e. the current max)\n",
    "- `max_non_adjacent_sum([2])` + `k` (i.e. the previous non-adjacent max, adding `k`)\n",
    "- `max_non_adjacent_sum([2, 4])` + `k` - `4` (i.e. the current max, swapping the adjacent value for `k`)\n",
    "\n",
    "#### Thanks to neighbours Pierre and Jonathan for coming up with the solution! "
   ]
  },
  {
   "cell_type": "code",
   "execution_count": 63,
   "metadata": {},
   "outputs": [],
   "source": [
    "def max_non_adjacent_sum(arr):\n",
    "    \"\"\"\n",
    "    Returns the largest sum of non-adjacent numbers in arr.\n",
    "    \n",
    "    This is solved in O(n) time and O(1) space by dynamic programming.\n",
    "    \n",
    "    Iterates through the list, and for each new element,\n",
    "    the max_sum is the max between:\n",
    "    - the max_sum one digit back\n",
    "    - the element, added to the max_sum two digits back\n",
    "    - the element, added to the max_sum one digit back (minus adjacent element)\n",
    "    \"\"\"\n",
    "    length = len(arr)\n",
    "    \n",
    "    if (length <= 2):\n",
    "        return max(arr)\n",
    "    \n",
    "    else:\n",
    "        # Iterate through the list, starting from the third number.\n",
    "        \n",
    "        # Initialise the max sums one and two digits back.\n",
    "        max_sum_two_digits_back=max_non_adjacent_sum(arr[:1])\n",
    "        max_sum_one_digit_back=max_non_adjacent_sum(arr[:2])\n",
    "        \n",
    "        for i in range(2,length):\n",
    "            # update the max sums one and two digits back.\n",
    "            new_max_sum = max(\n",
    "                max_sum_one_digit_back,\n",
    "                max_sum_two_digits_back + arr[i],\n",
    "                max_sum_one_digit_back + arr[i] - arr[i-1]\n",
    "            )\n",
    "            max_sum_two_digits_back = max_sum_one_digit_back\n",
    "            max_sum_one_digit_back = new_max_sum\n",
    "        \n",
    "        return max_sum_one_digit_back"
   ]
  },
  {
   "cell_type": "code",
   "execution_count": 64,
   "metadata": {},
   "outputs": [],
   "source": [
    "arr = [2, 4, 6, 2, 5]\n",
    "assert max_non_adjacent_sum(arr) == 13"
   ]
  },
  {
   "cell_type": "code",
   "execution_count": 65,
   "metadata": {},
   "outputs": [],
   "source": [
    "arr = [5, 1, 1, 5]\n",
    "assert max_non_adjacent_sum(arr) == 10"
   ]
  },
  {
   "cell_type": "code",
   "execution_count": 66,
   "metadata": {},
   "outputs": [],
   "source": [
    "arr = [111,100,2]\n",
    "assert max_non_adjacent_sum(arr) == 113"
   ]
  },
  {
   "cell_type": "code",
   "execution_count": 67,
   "metadata": {},
   "outputs": [],
   "source": [
    "arr = [100,111,13]\n",
    "assert max_non_adjacent_sum(arr) == 113"
   ]
  },
  {
   "cell_type": "code",
   "execution_count": 68,
   "metadata": {},
   "outputs": [],
   "source": [
    "arr = [0,2,1,3,100]\n",
    "assert max_non_adjacent_sum(arr) == 102"
   ]
  },
  {
   "cell_type": "code",
   "execution_count": 69,
   "metadata": {},
   "outputs": [],
   "source": [
    "arr = [0,2,1,3,-1]\n",
    "assert max_non_adjacent_sum(arr) == 5"
   ]
  },
  {
   "cell_type": "code",
   "execution_count": 70,
   "metadata": {},
   "outputs": [],
   "source": [
    "arr = [-4,-3,-2,-1]\n",
    "assert max_non_adjacent_sum(arr) == -1"
   ]
  },
  {
   "cell_type": "code",
   "execution_count": 71,
   "metadata": {},
   "outputs": [],
   "source": [
    "arr = [1, 2, 3, 4]\n",
    "assert max_non_adjacent_sum(arr) == 6"
   ]
  }
 ],
 "metadata": {
  "kernelspec": {
   "display_name": "Python 3",
   "language": "python",
   "name": "python3"
  },
  "language_info": {
   "codemirror_mode": {
    "name": "ipython",
    "version": 3
   },
   "file_extension": ".py",
   "mimetype": "text/x-python",
   "name": "python",
   "nbconvert_exporter": "python",
   "pygments_lexer": "ipython3",
   "version": "3.7.6"
  }
 },
 "nbformat": 4,
 "nbformat_minor": 4
}
