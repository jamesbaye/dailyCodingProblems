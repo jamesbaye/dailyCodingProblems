{
 "cells": [
  {
   "cell_type": "markdown",
   "metadata": {},
   "source": [
    "This problem was asked by Google.\n",
    "\n",
    "Given k sorted singly linked lists, write a function to merge all the lists into one sorted singly linked list."
   ]
  },
  {
   "cell_type": "code",
   "execution_count": 28,
   "metadata": {},
   "outputs": [],
   "source": [
    "class SortedLinkedList:\n",
    "    def __init__(self, val, nextElm=None):\n",
    "        self.val = val\n",
    "        self.next = nextElm\n",
    "\n",
    "def merge(sorted_linked_lists):\n",
    "    if len(sorted_linked_lists) == 0:\n",
    "        return\n",
    "    # get min node\n",
    "    argmin = get_argmin(sorted_linked_lists)\n",
    "    root = sorted_linked_lists[argmin]\n",
    "    # update sorted_linked_lists\n",
    "    if root.next is not None:\n",
    "        sorted_linked_lists[argmin] = root.next\n",
    "    else:\n",
    "        del sorted_linked_lists[argmin]\n",
    "    # recurse\n",
    "    root.next = merge(sorted_linked_lists)\n",
    "    return root\n",
    "\n",
    "def get_argmin(sorted_linked_lists):\n",
    "    minval = float(\"inf\")\n",
    "    argmin = -1\n",
    "    for i, root in enumerate(sorted_linked_lists):\n",
    "        if root.val < minval:\n",
    "            minval = root.val\n",
    "            argmin = i\n",
    "    return argmin"
   ]
  },
  {
   "cell_type": "code",
   "execution_count": 31,
   "metadata": {},
   "outputs": [
    {
     "name": "stdout",
     "output_type": "stream",
     "text": [
      "0\n",
      "1\n",
      "2\n",
      "3\n",
      "4\n",
      "5\n",
      "6\n",
      "20\n",
      "50\n",
      "1000\n"
     ]
    }
   ],
   "source": [
    "a = SortedLinkedList(1, SortedLinkedList(3, SortedLinkedList(5)))\n",
    "b = SortedLinkedList(2, SortedLinkedList(4, SortedLinkedList(6, SortedLinkedList(1000))))\n",
    "c = SortedLinkedList(0, SortedLinkedList(20, SortedLinkedList(50)))\n",
    "root = merge([a, b, c])\n",
    "while root is not None:\n",
    "    print(root.val)\n",
    "    root = root.next"
   ]
  }
 ],
 "metadata": {
  "kernelspec": {
   "display_name": "Python 3",
   "language": "python",
   "name": "python3"
  },
  "language_info": {
   "codemirror_mode": {
    "name": "ipython",
    "version": 3
   },
   "file_extension": ".py",
   "mimetype": "text/x-python",
   "name": "python",
   "nbconvert_exporter": "python",
   "pygments_lexer": "ipython3",
   "version": "3.7.6"
  }
 },
 "nbformat": 4,
 "nbformat_minor": 4
}
