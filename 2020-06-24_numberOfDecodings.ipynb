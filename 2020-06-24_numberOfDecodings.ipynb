{
 "cells": [
  {
   "cell_type": "markdown",
   "metadata": {},
   "source": [
    "This problem was asked by Facebook.\n",
    "\n",
    "Given the mapping a = 1, b = 2, ... z = 26, and an encoded message, count the number of ways it can be decoded.\n",
    "\n",
    "For example, the message '111' would give 3, since it could be decoded as 'aaa', 'ka', and 'ak'.\n",
    "\n",
    "You can assume that the messages are decodable. For example, '001' is not allowed."
   ]
  },
  {
   "cell_type": "code",
   "execution_count": 48,
   "metadata": {},
   "outputs": [],
   "source": [
    "def number_of_decodings(code):\n",
    "    \"\"\" Returns the number of ways code can be decoded.\n",
    "    This is solved by recursion in O(number_of_decodings) \n",
    "    time and O(1) space.\n",
    "    Since the number_of_decodings can be up to O(2^n) in the\n",
    "    worst case, this quickly becomes very slow. \"\"\"\n",
    "\n",
    "    if (len(code) <= 1):\n",
    "        # assume all such codes are unambiguously decodable\n",
    "        return 1\n",
    "    \n",
    "    # test if the current and next digit lead\n",
    "    # to ambiguity, and if so branch out to \n",
    "    # consider both cases\n",
    "    elif (\n",
    "        # a '1' is ambiguous if followed by\n",
    "        # a digit X=[1-9] since it could be\n",
    "        # decoded as '1X' or '1'+'X'\n",
    "        code[0]=='1' and \n",
    "        code[1] in [str(k) for k in (range(1,10))]\n",
    "    ) or (\n",
    "        # a '2' is ambiguous if followed by \n",
    "        # a digit X=[1-6] since it could be\n",
    "        # decoded as '2X' or '2'+'X'\n",
    "        code[0]=='2' and \n",
    "        code[1] in [str(k) for k in range(1,7)]\n",
    "    ):\n",
    "        # branch out due to ambiguity\n",
    "        return (number_of_decodings(code[1:]) + \n",
    "                number_of_decodings(code[2:]))\n",
    "    \n",
    "    # if no ambiguity, just move on to next digit\n",
    "    else:\n",
    "        return number_of_decodings(code[1:])\n",
    "\n",
    "def number_of_decodings_fast(code):\n",
    "    \"\"\" Same as number_of_decodings(), but \n",
    "    dynamic programming implementation which runs in \n",
    "    O(n) time and O(1) space. \n",
    "    The implementation is very similar to the dynamic programming\n",
    "    solution for the Fibonacci series. \"\"\"\n",
    "    length = len(code)\n",
    "    if (length <= 1):\n",
    "        # assume all such codes are unambiguously decodable\n",
    "        return 1\n",
    "    else:\n",
    "        n_prev = 1 # len 0\n",
    "        n_current = 1 # len 1\n",
    "        for i in range(1,length):\n",
    "            if (\n",
    "                # a '1' is ambiguous if followed by\n",
    "                # a digit X=[1-9] since it could be\n",
    "                # decoded as '1X' or '1'+'X'\n",
    "                code[i-1]=='1' and \n",
    "                code[1] in [str(k) for k in (range(1,10))]\n",
    "            ) or (\n",
    "                # a '2' is ambiguous if followed by \n",
    "                # a digit X=[1-6] since it could be\n",
    "                # decoded as '2X' or '2'+'X'\n",
    "                code[i-1]=='2' and \n",
    "                code[i] in [str(k) for k in range(1,7)]\n",
    "            ):\n",
    "                # New number of decodings is the sum of\n",
    "                # decodings obtainable from the code two digits back\n",
    "                # (code[0:(i-2)] + '[1-2]X' interpretation)\n",
    "                # and decodings obtainable from the code one digit back\n",
    "                # (code[0:(i-1)] + 'X' interpretation).\n",
    "                n_new = n_prev + n_current\n",
    "            else:\n",
    "                # New number of decodings is the same as\n",
    "                # that obtainable from the code one digit back\n",
    "                # (code[0:(i-1)] + 'X' interpretation).\n",
    "                n_new = n_current\n",
    "            # update n_prev and n_current\n",
    "            n_prev = n_current\n",
    "            n_current = n_new\n",
    "        return n_current"
   ]
  },
  {
   "cell_type": "code",
   "execution_count": 49,
   "metadata": {
    "scrolled": true
   },
   "outputs": [],
   "source": [
    "code = \"\"\n",
    "assert number_of_decodings(code) == 1"
   ]
  },
  {
   "cell_type": "code",
   "execution_count": 50,
   "metadata": {},
   "outputs": [],
   "source": [
    "code = \"111\"\n",
    "assert number_of_decodings_fast(code) == 3"
   ]
  },
  {
   "cell_type": "code",
   "execution_count": 51,
   "metadata": {},
   "outputs": [],
   "source": [
    "code = \"11\"\n",
    "assert number_of_decodings_fast(code) == 2"
   ]
  },
  {
   "cell_type": "code",
   "execution_count": 52,
   "metadata": {},
   "outputs": [],
   "source": [
    "code = \"20\"\n",
    "assert number_of_decodings_fast(code) == 1"
   ]
  },
  {
   "cell_type": "code",
   "execution_count": 53,
   "metadata": {},
   "outputs": [],
   "source": [
    "code = \"29\"\n",
    "assert number_of_decodings_fast(code) == 1"
   ]
  },
  {
   "cell_type": "code",
   "execution_count": 54,
   "metadata": {},
   "outputs": [],
   "source": [
    "code = \"126\"\n",
    "assert number_of_decodings_fast(code) == 3"
   ]
  },
  {
   "cell_type": "code",
   "execution_count": 55,
   "metadata": {},
   "outputs": [],
   "source": [
    "code = \"1216\"\n",
    "assert number_of_decodings_fast(code) == 5"
   ]
  },
  {
   "cell_type": "code",
   "execution_count": 56,
   "metadata": {},
   "outputs": [],
   "source": [
    "code = \"12321\"\n",
    "assert number_of_decodings_fast(code) == 6"
   ]
  },
  {
   "cell_type": "code",
   "execution_count": 57,
   "metadata": {},
   "outputs": [],
   "source": [
    "from timeit import default_timer as timer\n",
    "import numpy as np\n",
    "import pandas as pd\n",
    "import math\n",
    "\n",
    "def runtime(fun, arr):\n",
    "    \"\"\" Return the execution time of fun with argument arr \"\"\"\n",
    "    start = timer()\n",
    "#     print(fun(arr))\n",
    "    res = fun(arr)\n",
    "    end = timer()\n",
    "    return (end-start, res)\n",
    "\n",
    "def benchmark(fun, min_array_len=10, max_array_len=1e4, n=20):\n",
    "    \"\"\" \n",
    "    Benchmark runtime of function fun with arrays of varying length. \n",
    "    Return a DataFrame specifying execution times in seconds for a\n",
    "    set of array lengths.\n",
    "    \"\"\"\n",
    "    bench_df = pd.DataFrame({\n",
    "        'len': np.logspace(\n",
    "            math.log10(min_array_len),\n",
    "            math.log10(max_array_len),\n",
    "            num=n,\n",
    "            dtype=np.int32\n",
    "        ),\n",
    "        'execution_time': np.empty(n),\n",
    "        'res': np.empty(n)\n",
    "    })\n",
    "    for i, n in enumerate(bench_df['len']):\n",
    "#         arr = np.arange(1,n) # this leads to float64 overflow\n",
    "        arr = ['1'] * n\n",
    "        bench_df.at[i, 'execution_time'], bench_df.at[i, 'res'] = runtime(fun,arr)\n",
    "    return bench_df"
   ]
  },
  {
   "cell_type": "code",
   "execution_count": 58,
   "metadata": {},
   "outputs": [],
   "source": [
    "recursive_stats_df = benchmark(\n",
    "    number_of_decodings,\n",
    "    min_array_len=1,\n",
    "    max_array_len=30\n",
    ")"
   ]
  },
  {
   "cell_type": "code",
   "execution_count": 59,
   "metadata": {},
   "outputs": [],
   "source": [
    "dynamicProg_stats_df = benchmark(\n",
    "    number_of_decodings_fast,\n",
    "    min_array_len=1,\n",
    "    max_array_len=30\n",
    ")"
   ]
  },
  {
   "cell_type": "code",
   "execution_count": 60,
   "metadata": {},
   "outputs": [
    {
     "data": {
      "text/plain": [
       "False"
      ]
     },
     "execution_count": 60,
     "metadata": {},
     "output_type": "execute_result"
    }
   ],
   "source": [
    "any(dynamicProg_stats_df['res'] != recursive_stats_df['res'])"
   ]
  },
  {
   "cell_type": "code",
   "execution_count": 61,
   "metadata": {},
   "outputs": [
    {
     "data": {
      "text/plain": [
       "Text(0.5, 1.0, 'decode dynamic prog')"
      ]
     },
     "execution_count": 61,
     "metadata": {},
     "output_type": "execute_result"
    },
    {
     "data": {
      "image/png": "[encoded data removed]",
      "text/plain": [
       "<Figure size 432x288 with 1 Axes>"
      ]
     },
     "metadata": {
      "needs_background": "light"
     },
     "output_type": "display_data"
    },
    {
     "data": {
      "image/png": "[encoded data removed]",
      "text/plain": [
       "<Figure size 432x288 with 1 Axes>"
      ]
     },
     "metadata": {
      "needs_background": "light"
     },
     "output_type": "display_data"
    }
   ],
   "source": [
    "import matplotlib.pyplot as plt\n",
    "import seaborn as sns\n",
    "\n",
    "fig, ax = plt.subplots()\n",
    "sns.scatterplot('len', 'execution_time', data=recursive_stats_df, ax=ax)\n",
    "ax.set_title('decode recursive')\n",
    "\n",
    "fig, ax = plt.subplots()\n",
    "sns.scatterplot('len', 'execution_time', data=dynamicProg_stats_df, ax=ax)\n",
    "ax.set_title('decode dynamic prog')"
   ]
  }
 ],
 "metadata": {
  "kernelspec": {
   "display_name": "Python 3",
   "language": "python",
   "name": "python3"
  },
  "language_info": {
   "codemirror_mode": {
    "name": "ipython",
    "version": 3
   },
   "file_extension": ".py",
   "mimetype": "text/x-python",
   "name": "python",
   "nbconvert_exporter": "python",
   "pygments_lexer": "ipython3",
   "version": "3.7.6"
  }
 },
 "nbformat": 4,
 "nbformat_minor": 4
}
