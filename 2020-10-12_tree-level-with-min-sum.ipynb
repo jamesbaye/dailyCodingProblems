{
 "cells": [
  {
   "cell_type": "markdown",
   "metadata": {},
   "source": [
    "This problem was asked by Facebook.\n",
    "\n",
    "Given a binary tree, return the level of the tree with minimum sum."
   ]
  },
  {
   "cell_type": "code",
   "execution_count": 11,
   "metadata": {},
   "outputs": [],
   "source": [
    "from collections import deque\n",
    "\n",
    "class Node:\n",
    "    def __init__(self, val, left=None, right=None):\n",
    "        self.val = val\n",
    "        self.left = left\n",
    "        self.right = right\n",
    "\n",
    "def get_level_min_sum(root):\n",
    "    \"\"\"Return the level of the tree with minimum sum.\n",
    "    \n",
    "    Runs breadth-first-search to compute the sums per level, and update the min sum sequentially.\n",
    "    If matching sums, returns the lowest level.\n",
    "    \n",
    "    Args:\n",
    "        root (Node): the root of the tree.\n",
    "    \n",
    "    Returns:\n",
    "        level (int): the level with minimum sum. root level is 0.\n",
    "    \"\"\"\n",
    "    current_level = -1\n",
    "    current_sum = float(\"inf\")\n",
    "    \n",
    "    min_level = current_level\n",
    "    min_sum = current_sum\n",
    "    \n",
    "    q = deque([(root, current_level + 1)])\n",
    "    \n",
    "    while len(q) > 0:\n",
    "        node, lvl = q.popleft()\n",
    "        \n",
    "        if lvl > current_level:\n",
    "            # check if current level has min sum\n",
    "            if current_sum < min_sum:\n",
    "                min_sum = current_sum\n",
    "                min_level = current_level\n",
    "            # move to next level\n",
    "            current_sum = 0\n",
    "            current_level = lvl\n",
    "        \n",
    "        current_sum += node.val   \n",
    "        \n",
    "        if node.left is not None:\n",
    "            q.append((node.left, current_level + 1))\n",
    "        if node.right is not None:\n",
    "            q.append((node.right, current_level + 1))\n",
    "    \n",
    "    # check if last level has min sum\n",
    "    if current_sum < min_sum:\n",
    "        min_sum = current_sum\n",
    "        min_level = current_level\n",
    "    \n",
    "    return min_level"
   ]
  },
  {
   "cell_type": "code",
   "execution_count": 12,
   "metadata": {},
   "outputs": [],
   "source": [
    "root = Node(1)\n",
    "assert get_level_min_sum(root) == 0"
   ]
  },
  {
   "cell_type": "code",
   "execution_count": 13,
   "metadata": {},
   "outputs": [],
   "source": [
    "root = Node(1, Node(-1))\n",
    "assert get_level_min_sum(root) == 1"
   ]
  },
  {
   "cell_type": "code",
   "execution_count": 14,
   "metadata": {},
   "outputs": [],
   "source": [
    "root = Node(1, Node(2))\n",
    "assert get_level_min_sum(root) == 0"
   ]
  },
  {
   "cell_type": "code",
   "execution_count": 15,
   "metadata": {},
   "outputs": [],
   "source": [
    "root = Node(1, Node(1))\n",
    "assert get_level_min_sum(root) == 0"
   ]
  },
  {
   "cell_type": "code",
   "execution_count": 17,
   "metadata": {},
   "outputs": [],
   "source": [
    "root = Node(1, Node(1), Node(1))\n",
    "assert get_level_min_sum(root) == 0"
   ]
  },
  {
   "cell_type": "code",
   "execution_count": 16,
   "metadata": {},
   "outputs": [],
   "source": [
    "root = Node(1, Node(1), Node(-1))\n",
    "assert get_level_min_sum(root) == 1"
   ]
  },
  {
   "cell_type": "code",
   "execution_count": 18,
   "metadata": {},
   "outputs": [],
   "source": [
    "root = Node(1, Node(1, Node(10)), Node(-1))\n",
    "assert get_level_min_sum(root) == 1"
   ]
  },
  {
   "cell_type": "code",
   "execution_count": 19,
   "metadata": {},
   "outputs": [],
   "source": [
    "root = Node(1, Node(1, Node(-5)), Node(-1))\n",
    "assert get_level_min_sum(root) == 2"
   ]
  },
  {
   "cell_type": "code",
   "execution_count": 21,
   "metadata": {},
   "outputs": [],
   "source": [
    "root = Node(1, Node(1, Node(0)), Node(-1))\n",
    "assert get_level_min_sum(root) == 1"
   ]
  }
 ],
 "metadata": {
  "kernelspec": {
   "display_name": "Python 3",
   "language": "python",
   "name": "python3"
  },
  "language_info": {
   "codemirror_mode": {
    "name": "ipython",
    "version": 3
   },
   "file_extension": ".py",
   "mimetype": "text/x-python",
   "name": "python",
   "nbconvert_exporter": "python",
   "pygments_lexer": "ipython3",
   "version": "3.7.6"
  }
 },
 "nbformat": 4,
 "nbformat_minor": 4
}
