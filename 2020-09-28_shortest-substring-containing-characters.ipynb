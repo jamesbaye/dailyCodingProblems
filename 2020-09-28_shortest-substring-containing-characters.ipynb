{
 "cells": [
  {
   "cell_type": "markdown",
   "metadata": {},
   "source": [
    "This problem was asked by Square.\n",
    "\n",
    "Given a string and a set of characters, return the shortest substring containing all the characters in the set.\n",
    "\n",
    "For example, given the string `\"figehaeci\"` and the set of characters `{a, e, i}`, you should return `\"aeci\"`.\n",
    "\n",
    "If there is no substring containing all the characters in the set, return `null`."
   ]
  },
  {
   "cell_type": "code",
   "execution_count": 1,
   "metadata": {},
   "outputs": [],
   "source": [
    "def shortest_substring(word, chars):\n",
    "    \"\"\"Return the shortest substring of word containing all characters in chars, or None if none.\n",
    "    \n",
    "    Complexity:\n",
    "        Time: O(len(word)*len(chars))\n",
    "        Space: O(len(chars))\n",
    "    \"\"\"\n",
    "    i_start = 0\n",
    "    i_end = len(word)\n",
    "    char_last_indices = {}\n",
    "    \n",
    "    for i, c in enumerate(word):\n",
    "        if c in chars:\n",
    "            char_last_indices[c] = i\n",
    "            if len(char_last_indices) == len(chars):\n",
    "                # we can construct a substring containing all characters\n",
    "                i_start_tmp = min(char_last_indices.values())\n",
    "                i_end_tmp = i\n",
    "                # test whether this substring is the shortest so far\n",
    "                if i_end_tmp - i_start_tmp < i_end - i_start:\n",
    "                    i_start = i_start_tmp\n",
    "                    i_end = i_end_tmp\n",
    "    \n",
    "    if i_end < len(word):\n",
    "        return word[i_start : i_end + 1]"
   ]
  },
  {
   "cell_type": "code",
   "execution_count": 2,
   "metadata": {},
   "outputs": [
    {
     "data": {
      "text/plain": [
       "'aeci'"
      ]
     },
     "execution_count": 2,
     "metadata": {},
     "output_type": "execute_result"
    }
   ],
   "source": [
    "shortest_substring(\"figehaeci\", {\"a\", \"e\", \"i\"})"
   ]
  },
  {
   "cell_type": "code",
   "execution_count": 4,
   "metadata": {},
   "outputs": [],
   "source": [
    "assert shortest_substring(\"figehaeci\", {\"a\", \"e\", \"i\", \"z\"}) == None"
   ]
  }
 ],
 "metadata": {
  "kernelspec": {
   "display_name": "Python 3",
   "language": "python",
   "name": "python3"
  },
  "language_info": {
   "codemirror_mode": {
    "name": "ipython",
    "version": 3
   },
   "file_extension": ".py",
   "mimetype": "text/x-python",
   "name": "python",
   "nbconvert_exporter": "python",
   "pygments_lexer": "ipython3",
   "version": "3.7.6"
  }
 },
 "nbformat": 4,
 "nbformat_minor": 4
}
