{
 "cells": [
  {
   "cell_type": "markdown",
   "metadata": {},
   "source": [
    "This problem was asked by Google.\n",
    "\n",
    "You are given an M by N matrix consisting of booleans that represents a board. Each True boolean represents a wall. Each False boolean represents a tile you can walk on.\n",
    "\n",
    "Given this matrix, a start coordinate, and an end coordinate, return the minimum number of steps required to reach the end coordinate from the start. If there is no possible path, then return null. You can move up, left, down, and right. You cannot move through walls. You cannot wrap around the edges of the board.\n",
    "\n",
    "For example, given the following board:\n",
    "```\n",
    "[[f, f, f, f],\n",
    "[t, t, f, t],\n",
    "[f, f, f, f],\n",
    "[f, f, f, f]]\n",
    "```\n",
    "and start = `(3, 0)` (bottom left) and end = `(0, 0)` (top left), the minimum number of steps required to reach the end is 7, since we would need to go through `(1, 2)` because there is a wall everywhere else on the second row."
   ]
  },
  {
   "cell_type": "markdown",
   "metadata": {},
   "source": [
    "__Solution no 1: depth-first search with memoisation and pruning (top down)__\n",
    "From start tile, move to all neighbouring tiles depth-first: \n",
    "- Recursively call distance function on neighbouring tile\n",
    "- Once end tile reached, callback and compute dist for all other neighbouring tiles\n",
    "- Reduce computation by storing memoised distances as you go along\n",
    "- Prune (i.e. ignore) paths that have a larger lower bound distance than current min."
   ]
  },
  {
   "cell_type": "code",
   "execution_count": 12,
   "metadata": {},
   "outputs": [],
   "source": [
    "class DistMemo(dict):\n",
    "    def __missing__(self, key):\n",
    "        return float(\"inf\")\n",
    "\n",
    "def min_dist_2d(board, start, end, verbose=False):\n",
    "    \"\"\"\n",
    "    Find shortest distance between start and end tiles on board.\n",
    "    \n",
    "    Uses a generic graph traversal algorithm with memoisation\n",
    "    and pruning. Cycles are avoided by storing visited tiles.\n",
    "    \n",
    "    @param board: 2d-array of booleans (M lists each of length N). \n",
    "        Elements set to True are walls and cannot be crossed.\n",
    "    @param start, end: two tuples containing start and end coordinates.\n",
    "        First and second element of tuple are indices for \n",
    "        M and N coordinate respectively.\n",
    "    \n",
    "    Returns integer number of steps, or float(\"inf\") if no path exists.\n",
    "    \"\"\"\n",
    "    min_dist_memo = DistMemo()\n",
    "    visited = set()\n",
    "    return min_dist_2d_exec(board, start, end, visited, min_dist_memo, verbose)\n",
    "\n",
    "def min_dist_2d_exec(board, start, end, visited, min_dist_memo, verbose):\n",
    "    \n",
    "    visited.add(start)\n",
    "    \n",
    "    if start == end:\n",
    "        return 0\n",
    "    \n",
    "    for tile in get_neighbouring_unvisited_tiles(board, start, visited):\n",
    "        \n",
    "        if verbose: print_info(start, end, tile, visited, min_dist_memo)\n",
    "        \n",
    "        # pruning: skip neighbour if it can be ruled out as a detour based on its L1-norm\n",
    "        if 1 + L1_norm(tile, end) < min_dist_memo[(start, end)]:\n",
    "            \n",
    "            # memo: compute min_dist_memo[(tile, end)] if it is not memoised\n",
    "            if (tile, end) not in min_dist_memo:\n",
    "                min_dist_memo[(tile, end)] = min_dist_2d_exec(board, tile, end, visited, min_dist_memo, verbose)\n",
    "            \n",
    "            # update min_dist_memo[(start, end)] if a shorter path is found\n",
    "            if 1 + min_dist_memo[(tile, end)] < min_dist_memo[(start, end)]:\n",
    "                min_dist_memo[(start, end)] = 1 + min_dist_memo[(tile, end)]\n",
    "    \n",
    "    if verbose: print(\"Callback\")\n",
    "    return min_dist_memo[(start, end)]\n",
    "\n",
    "def L1_norm(x, y):\n",
    "    dist = 0\n",
    "    for xi, yi in zip(x, y):\n",
    "        dist += abs(xi-yi)\n",
    "    return dist\n",
    "\n",
    "def dim_2d(board):\n",
    "    M = len(board)\n",
    "    N = len(board[0])\n",
    "    return (M, N)\n",
    "\n",
    "def get_neighbouring_unvisited_tiles(board, coord, visited):\n",
    "    \"\"\"\n",
    "    Return a tuple containing the neighbouring tiles to coord\n",
    "    that have not yet been visited (i.e. that are not contained in visited).\n",
    "    \n",
    "    @param board: 2d-array of booleans (M lists each of length N). \n",
    "        Elements set to True are walls and cannot be crossed.\n",
    "    @param coord: tuple containing coordinates.\n",
    "        First and second element of tuple are indices for \n",
    "        M and N coordinate respectively.\n",
    "    @param visited: set containing tuples of visited coordinates.\n",
    "    \"\"\"\n",
    "    M, N = dim_2d(board)\n",
    "    m_coord, n_coord = coord\n",
    "    tiles = set()\n",
    "    for m_step, n_step in ((0,1), (1,0), (0,-1), (-1,0)):\n",
    "        m_next = m_coord + m_step\n",
    "        n_next = n_coord + n_step\n",
    "        move_is_on_unvisited_tile = (\n",
    "            m_next >= 0 and m_next < M\n",
    "            and n_next >= 0 and n_next < N\n",
    "            and (m_next, n_next) not in visited\n",
    "            and board[m_next][n_next] is False\n",
    "        )\n",
    "        if move_is_on_unvisited_tile:\n",
    "            tiles.add( (m_next, n_next) )    \n",
    "    return tiles\n",
    "\n",
    "def print_info(start, end, tile, visited, min_dist_memo):\n",
    "    m_start, n_start = start\n",
    "    m_pos, n_pos = tile\n",
    "    print(\n",
    "        \"From\", start, \"To\", tile,\n",
    "        \"; is_detour=\", 1 + L1_norm(tile, end) >= min_dist_memo[(start, end)],\n",
    "        \"; min_dist=\", min_dist_memo\n",
    "    )"
   ]
  },
  {
   "cell_type": "markdown",
   "metadata": {},
   "source": [
    "__Solution no 2: Breadth first search with Lee algorithm (bottom-up)__ From start tile, move to all neighbours breadth-first:\n",
    "- If end tile reached, return current distance.\n",
    "- If not, increment current distance by one (initialised to 0 at start tile)."
   ]
  },
  {
   "cell_type": "code",
   "execution_count": 20,
   "metadata": {},
   "outputs": [],
   "source": [
    "from collections import deque \n",
    "\n",
    "def min_dist_2d_lee(board, start, end):\n",
    "    \n",
    "    # init\n",
    "    dist_memo = dict({start:0})\n",
    "    q = deque([start])\n",
    "    \n",
    "    while q:\n",
    "        tile = q.popleft()\n",
    "        \n",
    "        if tile == end:\n",
    "            return dist_memo[tile]\n",
    "        \n",
    "        neighbours = get_neighbouring_unvisited_tiles(board, tile, dist_memo)\n",
    "        q.extend(neighbours)\n",
    "        for neighbour in neighbours:\n",
    "            dist_memo[neighbour] = dist_memo[tile] + 1\n",
    "    \n",
    "    return None"
   ]
  },
  {
   "cell_type": "code",
   "execution_count": 22,
   "metadata": {
    "scrolled": true
   },
   "outputs": [],
   "source": [
    "board = [[False, False, False, False],\n",
    "[True, True, False, True],\n",
    "[False, False, False, False],\n",
    "[False, False, False, False]]\n",
    "\n",
    "assert min_dist_2d_lee(board, (3,0), (0,0)) == 7\n",
    "assert min_dist_2d(board, (3,0), (0,0)) == 7"
   ]
  },
  {
   "cell_type": "code",
   "execution_count": 23,
   "metadata": {
    "scrolled": true
   },
   "outputs": [],
   "source": [
    "board = [[False, False, False, False],\n",
    "[True, True, False, True],\n",
    "[False, False, False, False],\n",
    "[False, False, False, False]]\n",
    "\n",
    "assert min_dist_2d_lee(board, (3,0), (0,0)) == 7\n",
    "assert min_dist_2d(board, (0,0), (3,0)) == 7"
   ]
  },
  {
   "cell_type": "code",
   "execution_count": 24,
   "metadata": {
    "scrolled": true
   },
   "outputs": [],
   "source": [
    "board = [[False, False, False, False],\n",
    "[True, True, True, True],\n",
    "[False, False, False, False],\n",
    "[False, False, False, False]]\n",
    "\n",
    "assert min_dist_2d_lee(board, (3,0), (0,0)) == None\n",
    "assert min_dist_2d(board, (3,0), (0,0)) == float(\"inf\")"
   ]
  },
  {
   "cell_type": "code",
   "execution_count": 25,
   "metadata": {
    "scrolled": true
   },
   "outputs": [],
   "source": [
    "import itertools\n",
    "from timeit import default_timer as timer\n",
    "import numpy as np\n",
    "import pandas as pd\n",
    "import math\n",
    "\n",
    "def runtime(fun, *args):\n",
    "    \"\"\" Return the execution time of fun with arguments *args \"\"\"\n",
    "    start = timer()\n",
    "#     print(fun(arr))\n",
    "    res = fun(*args)\n",
    "    end = timer()\n",
    "    return end-start\n",
    "\n",
    "def benchmark(fun, min_arr_size=1, max_arr_size=79, n=10):\n",
    "    \"\"\" \n",
    "    Benchmark runtime of function fun with 2d-arrays of varying size. \n",
    "    Return a DataFrame specifying execution times in seconds for a\n",
    "    set of list lengths.\n",
    "    \"\"\"\n",
    "    bench_df = pd.DataFrame({\n",
    "        'arr_len': np.logspace(\n",
    "            math.log10(min_arr_size),\n",
    "            math.log10(max_arr_size),\n",
    "            num=n,\n",
    "            dtype=np.int32\n",
    "        ),\n",
    "        'execution_time': np.empty(n)\n",
    "    })\n",
    "    bench_df['arr_size'] = bench_df['arr_len'] ** 2\n",
    "    for i, n in enumerate(bench_df['arr_len']):\n",
    "        board = [[False]*n for _ in range(n)]\n",
    "        bench_df.at[i, 'execution_time'] = runtime(fun, board, (0,0), (n-1,n-1))\n",
    "    return bench_df"
   ]
  },
  {
   "cell_type": "code",
   "execution_count": 26,
   "metadata": {
    "scrolled": true
   },
   "outputs": [
    {
     "data": {
      "text/html": [
       "<div>\n",
       "<style scoped>\n",
       "    .dataframe tbody tr th:only-of-type {\n",
       "        vertical-align: middle;\n",
       "    }\n",
       "\n",
       "    .dataframe tbody tr th {\n",
       "        vertical-align: top;\n",
       "    }\n",
       "\n",
       "    .dataframe thead th {\n",
       "        text-align: right;\n",
       "    }\n",
       "</style>\n",
       "<table border=\"1\" class=\"dataframe\">\n",
       "  <thead>\n",
       "    <tr style=\"text-align: right;\">\n",
       "      <th></th>\n",
       "      <th>arr_len</th>\n",
       "      <th>execution_time</th>\n",
       "      <th>arr_size</th>\n",
       "    </tr>\n",
       "  </thead>\n",
       "  <tbody>\n",
       "    <tr>\n",
       "      <th>0</th>\n",
       "      <td>1</td>\n",
       "      <td>0.000005</td>\n",
       "      <td>1</td>\n",
       "    </tr>\n",
       "    <tr>\n",
       "      <th>1</th>\n",
       "      <td>1</td>\n",
       "      <td>0.000004</td>\n",
       "      <td>1</td>\n",
       "    </tr>\n",
       "    <tr>\n",
       "      <th>2</th>\n",
       "      <td>2</td>\n",
       "      <td>0.000031</td>\n",
       "      <td>4</td>\n",
       "    </tr>\n",
       "    <tr>\n",
       "      <th>3</th>\n",
       "      <td>4</td>\n",
       "      <td>0.000062</td>\n",
       "      <td>16</td>\n",
       "    </tr>\n",
       "    <tr>\n",
       "      <th>4</th>\n",
       "      <td>6</td>\n",
       "      <td>0.000228</td>\n",
       "      <td>36</td>\n",
       "    </tr>\n",
       "    <tr>\n",
       "      <th>5</th>\n",
       "      <td>11</td>\n",
       "      <td>0.000901</td>\n",
       "      <td>121</td>\n",
       "    </tr>\n",
       "    <tr>\n",
       "      <th>6</th>\n",
       "      <td>18</td>\n",
       "      <td>0.002402</td>\n",
       "      <td>324</td>\n",
       "    </tr>\n",
       "    <tr>\n",
       "      <th>7</th>\n",
       "      <td>29</td>\n",
       "      <td>0.006293</td>\n",
       "      <td>841</td>\n",
       "    </tr>\n",
       "    <tr>\n",
       "      <th>8</th>\n",
       "      <td>48</td>\n",
       "      <td>0.024996</td>\n",
       "      <td>2304</td>\n",
       "    </tr>\n",
       "    <tr>\n",
       "      <th>9</th>\n",
       "      <td>78</td>\n",
       "      <td>0.068111</td>\n",
       "      <td>6084</td>\n",
       "    </tr>\n",
       "  </tbody>\n",
       "</table>\n",
       "</div>"
      ],
      "text/plain": [
       "   arr_len  execution_time  arr_size\n",
       "0        1        0.000005         1\n",
       "1        1        0.000004         1\n",
       "2        2        0.000031         4\n",
       "3        4        0.000062        16\n",
       "4        6        0.000228        36\n",
       "5       11        0.000901       121\n",
       "6       18        0.002402       324\n",
       "7       29        0.006293       841\n",
       "8       48        0.024996      2304\n",
       "9       78        0.068111      6084"
      ]
     },
     "execution_count": 26,
     "metadata": {},
     "output_type": "execute_result"
    }
   ],
   "source": [
    "stats_df = benchmark(min_dist_2d)\n",
    "stats_df"
   ]
  },
  {
   "cell_type": "code",
   "execution_count": 30,
   "metadata": {
    "scrolled": true
   },
   "outputs": [
    {
     "data": {
      "text/html": [
       "<div>\n",
       "<style scoped>\n",
       "    .dataframe tbody tr th:only-of-type {\n",
       "        vertical-align: middle;\n",
       "    }\n",
       "\n",
       "    .dataframe tbody tr th {\n",
       "        vertical-align: top;\n",
       "    }\n",
       "\n",
       "    .dataframe thead th {\n",
       "        text-align: right;\n",
       "    }\n",
       "</style>\n",
       "<table border=\"1\" class=\"dataframe\">\n",
       "  <thead>\n",
       "    <tr style=\"text-align: right;\">\n",
       "      <th></th>\n",
       "      <th>arr_len</th>\n",
       "      <th>execution_time</th>\n",
       "      <th>arr_size</th>\n",
       "    </tr>\n",
       "  </thead>\n",
       "  <tbody>\n",
       "    <tr>\n",
       "      <th>0</th>\n",
       "      <td>1</td>\n",
       "      <td>0.000005</td>\n",
       "      <td>1</td>\n",
       "    </tr>\n",
       "    <tr>\n",
       "      <th>1</th>\n",
       "      <td>2</td>\n",
       "      <td>0.000018</td>\n",
       "      <td>4</td>\n",
       "    </tr>\n",
       "    <tr>\n",
       "      <th>2</th>\n",
       "      <td>4</td>\n",
       "      <td>0.000041</td>\n",
       "      <td>16</td>\n",
       "    </tr>\n",
       "    <tr>\n",
       "      <th>3</th>\n",
       "      <td>10</td>\n",
       "      <td>0.000217</td>\n",
       "      <td>100</td>\n",
       "    </tr>\n",
       "    <tr>\n",
       "      <th>4</th>\n",
       "      <td>21</td>\n",
       "      <td>0.000928</td>\n",
       "      <td>441</td>\n",
       "    </tr>\n",
       "    <tr>\n",
       "      <th>5</th>\n",
       "      <td>46</td>\n",
       "      <td>0.004958</td>\n",
       "      <td>2116</td>\n",
       "    </tr>\n",
       "    <tr>\n",
       "      <th>6</th>\n",
       "      <td>100</td>\n",
       "      <td>0.034743</td>\n",
       "      <td>10000</td>\n",
       "    </tr>\n",
       "    <tr>\n",
       "      <th>7</th>\n",
       "      <td>215</td>\n",
       "      <td>0.098037</td>\n",
       "      <td>46225</td>\n",
       "    </tr>\n",
       "    <tr>\n",
       "      <th>8</th>\n",
       "      <td>464</td>\n",
       "      <td>0.485496</td>\n",
       "      <td>215296</td>\n",
       "    </tr>\n",
       "    <tr>\n",
       "      <th>9</th>\n",
       "      <td>1000</td>\n",
       "      <td>2.742150</td>\n",
       "      <td>1000000</td>\n",
       "    </tr>\n",
       "  </tbody>\n",
       "</table>\n",
       "</div>"
      ],
      "text/plain": [
       "   arr_len  execution_time  arr_size\n",
       "0        1        0.000005         1\n",
       "1        2        0.000018         4\n",
       "2        4        0.000041        16\n",
       "3       10        0.000217       100\n",
       "4       21        0.000928       441\n",
       "5       46        0.004958      2116\n",
       "6      100        0.034743     10000\n",
       "7      215        0.098037     46225\n",
       "8      464        0.485496    215296\n",
       "9     1000        2.742150   1000000"
      ]
     },
     "execution_count": 30,
     "metadata": {},
     "output_type": "execute_result"
    }
   ],
   "source": [
    "stats_df_lee = benchmark(min_dist_2d_lee, max_arr_size=1000)\n",
    "stats_df_lee"
   ]
  },
  {
   "cell_type": "code",
   "execution_count": 31,
   "metadata": {},
   "outputs": [
    {
     "data": {
      "text/plain": [
       "Text(0.5, 1.0, 'dp lee bottom-up')"
      ]
     },
     "execution_count": 31,
     "metadata": {},
     "output_type": "execute_result"
    },
    {
     "data": {
      "image/png": "[encoded data removed]",
      "text/plain": [
       "<Figure size 432x288 with 1 Axes>"
      ]
     },
     "metadata": {
      "needs_background": "light"
     },
     "output_type": "display_data"
    },
    {
     "data": {
      "image/png": "[encoded data removed]",
      "text/plain": [
       "<Figure size 432x288 with 1 Axes>"
      ]
     },
     "metadata": {
      "needs_background": "light"
     },
     "output_type": "display_data"
    }
   ],
   "source": [
    "import matplotlib.pyplot as plt\n",
    "import seaborn as sns\n",
    "\n",
    "fig, ax = plt.subplots()\n",
    "sns.scatterplot('arr_size', 'execution_time', data=stats_df, ax=ax)\n",
    "ax.set_title('dp memoised top-down')\n",
    "\n",
    "fig, ax = plt.subplots()\n",
    "sns.scatterplot('arr_size', 'execution_time', data=stats_df_lee, ax=ax)\n",
    "ax.set_title('dp lee bottom-up')"
   ]
  }
 ],
 "metadata": {
  "kernelspec": {
   "display_name": "Python 3",
   "language": "python",
   "name": "python3"
  },
  "language_info": {
   "codemirror_mode": {
    "name": "ipython",
    "version": 3
   },
   "file_extension": ".py",
   "mimetype": "text/x-python",
   "name": "python",
   "nbconvert_exporter": "python",
   "pygments_lexer": "ipython3",
   "version": "3.7.6"
  }
 },
 "nbformat": 4,
 "nbformat_minor": 4
}
