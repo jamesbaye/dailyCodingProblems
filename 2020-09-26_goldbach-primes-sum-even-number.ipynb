{
 "cells": [
  {
   "cell_type": "markdown",
   "metadata": {},
   "source": [
    "This problem was asked by Alibaba.\n",
    "\n",
    "Given an even number (greater than 2), return two prime numbers whose sum will be equal to the given number.\n",
    "\n",
    "A solution will always exist. See Goldbach’s conjecture.\n",
    "\n",
    "Example:\n",
    "```\n",
    "Input: 4\n",
    "Output: 2 + 2 = 4\n",
    "```\n",
    "If there are more than one solution possible, return the lexicographically smaller solution.\n",
    "\n",
    "If `[a, b]` is one solution with a <= b, and `[c, d]` is another solution with c <= d, then\n",
    "```\n",
    "[a, b] < [c, d]\n",
    "If a < c OR a==c AND b < d.\n",
    "```"
   ]
  },
  {
   "cell_type": "code",
   "execution_count": 71,
   "metadata": {},
   "outputs": [],
   "source": [
    "def primes(end):\n",
    "    \"\"\"Return a generator over all primes up to end.\n",
    "    \n",
    "    Uses the sieve of Eratosthenes method.\n",
    "    \"\"\"\n",
    "    is_index_prime = [False] * 2 + [True] * (end - 2)\n",
    "    \n",
    "    for i, isprime in enumerate(is_index_prime):\n",
    "        if isprime:\n",
    "            yield i\n",
    "            # mark all multiples of i as not prime,\n",
    "            # starting from i*i (optimisation).\n",
    "            for mult in range(i*i, end, i):\n",
    "                is_index_prime[mult] = False\n",
    "\n",
    "def goldbach_primes(k):\n",
    "    \"\"\"Return the lexigraphically smallest Golbach primes for the even number k.\n",
    "    \n",
    "    Golbach primes are two primes (p, q) such that p + q = k, where k is even.\n",
    "    \"\"\"\n",
    "    primeset = set(primes(k))\n",
    "    \n",
    "    for prime in primeset:\n",
    "        if k-prime in primeset:\n",
    "            return prime, k-prime"
   ]
  },
  {
   "cell_type": "code",
   "execution_count": 72,
   "metadata": {},
   "outputs": [],
   "source": [
    "assert goldbach_primes(2) == None"
   ]
  },
  {
   "cell_type": "code",
   "execution_count": 73,
   "metadata": {},
   "outputs": [],
   "source": [
    "assert goldbach_primes(4) == (2, 2)"
   ]
  },
  {
   "cell_type": "code",
   "execution_count": 74,
   "metadata": {},
   "outputs": [],
   "source": [
    "assert goldbach_primes(6) == (3, 3)"
   ]
  },
  {
   "cell_type": "code",
   "execution_count": 75,
   "metadata": {},
   "outputs": [],
   "source": [
    "assert goldbach_primes(8) == (3, 5)"
   ]
  },
  {
   "cell_type": "code",
   "execution_count": 76,
   "metadata": {},
   "outputs": [],
   "source": [
    "assert goldbach_primes(10) == (3, 7)"
   ]
  },
  {
   "cell_type": "code",
   "execution_count": 77,
   "metadata": {},
   "outputs": [],
   "source": [
    "assert goldbach_primes(12) == (5, 7)"
   ]
  },
  {
   "cell_type": "code",
   "execution_count": 78,
   "metadata": {},
   "outputs": [],
   "source": [
    "assert goldbach_primes(14) == (3, 11) # (7, 7) is lexicographically larger "
   ]
  },
  {
   "cell_type": "code",
   "execution_count": 79,
   "metadata": {},
   "outputs": [],
   "source": [
    "assert goldbach_primes(16) == (3, 13)"
   ]
  }
 ],
 "metadata": {
  "kernelspec": {
   "display_name": "Python 3",
   "language": "python",
   "name": "python3"
  },
  "language_info": {
   "codemirror_mode": {
    "name": "ipython",
    "version": 3
   },
   "file_extension": ".py",
   "mimetype": "text/x-python",
   "name": "python",
   "nbconvert_exporter": "python",
   "pygments_lexer": "ipython3",
   "version": "3.7.6"
  }
 },
 "nbformat": 4,
 "nbformat_minor": 4
}
