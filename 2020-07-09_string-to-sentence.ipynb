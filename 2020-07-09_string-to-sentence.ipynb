{
 "cells": [
  {
   "cell_type": "markdown",
   "metadata": {},
   "source": [
    "This problem was asked by Microsoft.\n",
    "\n",
    "Given a dictionary of words and a string made up of those words (no spaces), return the original sentence in a list. If there is more than one possible reconstruction, return any of them. If there is no possible reconstruction, then return null.\n",
    "\n",
    "For example, given the set of words `'quick', 'brown', 'the', 'fox'`, and the string `\"thequickbrownfox\"`, you should return `['the', 'quick', 'brown', 'fox']`.\n",
    "\n",
    "Given the set of words `'bed', 'bath', 'bedbath', 'and', 'beyond'`, and the string `\"bedbathandbeyond\"`, return either `['bed', 'bath', 'and', 'beyond]` or `['bedbath', 'and', 'beyond']`."
   ]
  },
  {
   "cell_type": "code",
   "execution_count": 60,
   "metadata": {},
   "outputs": [],
   "source": [
    "def str_to_sentence(s, wordset, i=0):\n",
    "    \"\"\"Split the string s into a list of words in wordset,\n",
    "    or return None if no split is possible.\n",
    "    \"\"\"\n",
    "    word = \"\"\n",
    "    while i < len(s):\n",
    "        word += s[i]\n",
    "        i += 1\n",
    "        if word in wordset:\n",
    "            if i == len(s):\n",
    "                return [word]\n",
    "            else:\n",
    "                next_words = str_to_sentence(s, wordset, i)\n",
    "                if next_words is not None:\n",
    "                    return [word] + next_words"
   ]
  },
  {
   "cell_type": "code",
   "execution_count": 61,
   "metadata": {},
   "outputs": [
    {
     "data": {
      "text/plain": [
       "['the', 'quick', 'brown', 'fox']"
      ]
     },
     "execution_count": 61,
     "metadata": {},
     "output_type": "execute_result"
    }
   ],
   "source": [
    "str_to_sentence(\"thequickbrownfox\", {'quick', 'brown', 'the', 'fox'})"
   ]
  },
  {
   "cell_type": "code",
   "execution_count": 62,
   "metadata": {},
   "outputs": [],
   "source": [
    "assert str_to_sentence(\"thequickbrownfox\", {'quick', 'brown', 'thef', 'fox'}) == None"
   ]
  },
  {
   "cell_type": "code",
   "execution_count": 63,
   "metadata": {},
   "outputs": [
    {
     "data": {
      "text/plain": [
       "['bed', 'bath', 'and', 'beyond']"
      ]
     },
     "execution_count": 63,
     "metadata": {},
     "output_type": "execute_result"
    }
   ],
   "source": [
    "str_to_sentence(\"bedbathandbeyond\", {'bed', 'bath', 'bedbath', 'and', 'beyond'})"
   ]
  },
  {
   "cell_type": "code",
   "execution_count": 64,
   "metadata": {},
   "outputs": [
    {
     "data": {
      "text/plain": [
       "['bedbath', 'and', 'beyond']"
      ]
     },
     "execution_count": 64,
     "metadata": {},
     "output_type": "execute_result"
    }
   ],
   "source": [
    "str_to_sentence(\"bedbathandbeyond\", {'bed', 'bathing', 'bedbath', 'and', 'beyond'})"
   ]
  }
 ],
 "metadata": {
  "kernelspec": {
   "display_name": "Python 3",
   "language": "python",
   "name": "python3"
  },
  "language_info": {
   "codemirror_mode": {
    "name": "ipython",
    "version": 3
   },
   "file_extension": ".py",
   "mimetype": "text/x-python",
   "name": "python",
   "nbconvert_exporter": "python",
   "pygments_lexer": "ipython3",
   "version": "3.7.6"
  }
 },
 "nbformat": 4,
 "nbformat_minor": 4
}
