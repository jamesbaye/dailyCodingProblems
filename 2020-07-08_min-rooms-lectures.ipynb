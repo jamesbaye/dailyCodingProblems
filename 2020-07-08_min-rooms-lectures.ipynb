{
 "cells": [
  {
   "cell_type": "markdown",
   "metadata": {},
   "source": [
    "This problem was asked by Snapchat.\n",
    "\n",
    "Given an array of time intervals (start, end) for classroom lectures (possibly overlapping), find the minimum number of rooms required.\n",
    "\n",
    "For example, given `[(30, 75), (0, 50), (60, 150)]`, you should return `2`."
   ]
  },
  {
   "cell_type": "code",
   "execution_count": 31,
   "metadata": {},
   "outputs": [],
   "source": [
    "import heapq\n",
    "\n",
    "def min_rooms(lectures):\n",
    "    \"\"\"Return the minimum number of rooms required to accommodate lectures.\n",
    "    \n",
    "    Args:\n",
    "        lectures: list of tuples of (start, end) times.\n",
    "    \n",
    "    Complexity:\n",
    "        time: O(n*log(n))\n",
    "        space: O(n)\n",
    "    \"\"\"\n",
    "    max_occupied = 0\n",
    "    \n",
    "    # Store start (i=0) or end (i=1) events as (time, i) tuples.\n",
    "    # Sort events in chronological order.\n",
    "    events = [(time, i) for interval in lectures for i, time in enumerate(interval)]\n",
    "    events.sort(key=lambda x: x[0])\n",
    "    \n",
    "    # Iterate through start/end events in chronological order to track room occupancy.\n",
    "    # Room occupancy increases by 1 when any lecture starts\n",
    "    # and decreases by 1 when any lecture ends.\n",
    "    rooms = 0\n",
    "    for _, i in events:\n",
    "        if i == 0:\n",
    "            rooms += 1\n",
    "        elif i == 1:\n",
    "            rooms -= 1\n",
    "        if rooms > max_occupied:\n",
    "            max_occupied = rooms\n",
    "    \n",
    "    return max_occupied"
   ]
  },
  {
   "cell_type": "code",
   "execution_count": 33,
   "metadata": {},
   "outputs": [
    {
     "data": {
      "text/plain": [
       "2"
      ]
     },
     "execution_count": 33,
     "metadata": {},
     "output_type": "execute_result"
    }
   ],
   "source": [
    "min_rooms([(30, 75), (0, 50), (60, 150)])"
   ]
  },
  {
   "cell_type": "code",
   "execution_count": 32,
   "metadata": {},
   "outputs": [
    {
     "data": {
      "text/plain": [
       "2"
      ]
     },
     "execution_count": 32,
     "metadata": {},
     "output_type": "execute_result"
    }
   ],
   "source": [
    "min_rooms([(0, 100), (10, 20), (30, 40)])"
   ]
  },
  {
   "cell_type": "code",
   "execution_count": 35,
   "metadata": {},
   "outputs": [
    {
     "data": {
      "text/plain": [
       "0"
      ]
     },
     "execution_count": 35,
     "metadata": {},
     "output_type": "execute_result"
    }
   ],
   "source": [
    "min_rooms([])"
   ]
  },
  {
   "cell_type": "code",
   "execution_count": 36,
   "metadata": {
    "scrolled": true
   },
   "outputs": [
    {
     "data": {
      "text/plain": [
       "1"
      ]
     },
     "execution_count": 36,
     "metadata": {},
     "output_type": "execute_result"
    }
   ],
   "source": [
    "min_rooms([(0, 100)])"
   ]
  },
  {
   "cell_type": "code",
   "execution_count": 38,
   "metadata": {},
   "outputs": [
    {
     "data": {
      "text/plain": [
       "3"
      ]
     },
     "execution_count": 38,
     "metadata": {},
     "output_type": "execute_result"
    }
   ],
   "source": [
    "min_rooms([(0, 100), (15, 17), (10, 20)])"
   ]
  }
 ],
 "metadata": {
  "kernelspec": {
   "display_name": "Python 3",
   "language": "python",
   "name": "python3"
  },
  "language_info": {
   "codemirror_mode": {
    "name": "ipython",
    "version": 3
   },
   "file_extension": ".py",
   "mimetype": "text/x-python",
   "name": "python",
   "nbconvert_exporter": "python",
   "pygments_lexer": "ipython3",
   "version": "3.7.6"
  }
 },
 "nbformat": 4,
 "nbformat_minor": 4
}
