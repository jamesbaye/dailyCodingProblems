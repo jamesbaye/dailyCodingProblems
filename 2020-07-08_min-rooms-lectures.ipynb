{
 "cells": [
  {
   "cell_type": "markdown",
   "metadata": {},
   "source": [
    "This problem was asked by Snapchat.\n",
    "\n",
    "Given an array of time intervals (start, end) for classroom lectures (possibly overlapping), find the minimum number of rooms required.\n",
    "\n",
    "For example, given `[(30, 75), (0, 50), (60, 150)]`, you should return `2`."
   ]
  },
  {
   "cell_type": "code",
   "execution_count": 4,
   "metadata": {},
   "outputs": [],
   "source": [
    "def min_rooms(lectures):\n",
    "    \"\"\"Return the minimum number of rooms requires to fit lectures.\n",
    "    \n",
    "    Complexity:\n",
    "        time: O(n*log(n))\n",
    "        space: O(1)\n",
    "    \n",
    "    Args:\n",
    "        lectures: list of tuples of (start, end) time intervals.\n",
    "    \"\"\"\n",
    "    rooms = 0\n",
    "    max_rooms = 0\n",
    "    i_start = 0\n",
    "    i_end = 0\n",
    "    \n",
    "    # order lectures by start time\n",
    "    lectures.sort(key=lambda x: x[0])\n",
    "    \n",
    "    # iterate through all start and end events in order.\n",
    "    # increment rooms when a lecture starts, decrement rooms when a lecture ends.\n",
    "    while i_start < len(lectures) and i_end < len(lectures):\n",
    "        if lectures[i_start][0] <= lectures[i_end][1]:\n",
    "            # a lecture has started\n",
    "            rooms += 1\n",
    "            i_start += 1\n",
    "        else:\n",
    "            # a lecture has ended\n",
    "            rooms -= 1\n",
    "            i_end += 1\n",
    "        if rooms > max_rooms:\n",
    "            max_rooms = rooms\n",
    "    \n",
    "    return max_rooms"
   ]
  },
  {
   "cell_type": "code",
   "execution_count": 5,
   "metadata": {},
   "outputs": [
    {
     "data": {
      "text/plain": [
       "2"
      ]
     },
     "execution_count": 5,
     "metadata": {},
     "output_type": "execute_result"
    }
   ],
   "source": [
    "min_rooms([(30, 75), (0, 50), (60, 150)])"
   ]
  }
 ],
 "metadata": {
  "kernelspec": {
   "display_name": "Python 3",
   "language": "python",
   "name": "python3"
  },
  "language_info": {
   "codemirror_mode": {
    "name": "ipython",
    "version": 3
   },
   "file_extension": ".py",
   "mimetype": "text/x-python",
   "name": "python",
   "nbconvert_exporter": "python",
   "pygments_lexer": "ipython3",
   "version": "3.7.6"
  }
 },
 "nbformat": 4,
 "nbformat_minor": 4
}
