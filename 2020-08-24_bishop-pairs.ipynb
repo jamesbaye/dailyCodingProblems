{
 "cells": [
  {
   "cell_type": "markdown",
   "metadata": {},
   "source": [
    "This problem was asked by Google.\n",
    "\n",
    "On our special chessboard, two bishops attack each other if they share the same diagonal. This includes bishops that have another bishop located between them, i.e. bishops can attack through pieces.\n",
    "\n",
    "You are given N bishops, represented as (row, column) tuples on a M by M chessboard. Write a function to count the number of pairs of bishops that attack each other. The ordering of the pair doesn't matter: (1, 2) is considered the same as (2, 1).\n",
    "\n",
    "For example, given M = 5 and the list of bishops:\n",
    "\n",
    "```\n",
    "(0, 0)\n",
    "(1, 2)\n",
    "(2, 2)\n",
    "(4, 0)\n",
    "```\n",
    "\n",
    "The board would look like this:\n",
    "\n",
    "```\n",
    "[b 0 0 0 0]\n",
    "[0 0 b 0 0]\n",
    "[0 0 b 0 0]\n",
    "[0 0 0 0 0]\n",
    "[b 0 0 0 0]\n",
    "```\n",
    "\n",
    "You should return `2`, since bishops 1 and 3 attack each other, as well as bishops 3 and 4."
   ]
  },
  {
   "cell_type": "code",
   "execution_count": 4,
   "metadata": {},
   "outputs": [],
   "source": [
    "def bishop_attacks(bishops):\n",
    "    \"\"\"Returns the number of bishops that share the same diagonal.\n",
    "    \n",
    "    bishops: list of (row, column) tuples representing the bishop coordinates.\n",
    "    \"\"\"\n",
    "    attacks = 0\n",
    "    for i, bishop1 in enumerate(bishops):\n",
    "        for bishop2 in bishops[i+1:]:\n",
    "            if is_attacked(bishop1, bishop2):\n",
    "                attacks += 1\n",
    "    return attacks\n",
    "\n",
    "def is_attacked(bishop1, bishop2):\n",
    "    r1, c1 = bishop1\n",
    "    r2, c2 = bishop2\n",
    "    return abs(r2-r1) == abs(c2-c1)"
   ]
  },
  {
   "cell_type": "code",
   "execution_count": 6,
   "metadata": {},
   "outputs": [],
   "source": [
    "assert bishop_attacks([(0, 0), (1, 2), (2, 2), (4, 0)]) == 2"
   ]
  },
  {
   "cell_type": "code",
   "execution_count": 7,
   "metadata": {},
   "outputs": [],
   "source": [
    "assert bishop_attacks([]) == 0"
   ]
  },
  {
   "cell_type": "code",
   "execution_count": 8,
   "metadata": {},
   "outputs": [],
   "source": [
    "assert bishop_attacks([(1, 1)]) == 0"
   ]
  },
  {
   "cell_type": "code",
   "execution_count": 9,
   "metadata": {},
   "outputs": [],
   "source": [
    "assert bishop_attacks([(1, 1), (2, 1)]) == 0"
   ]
  },
  {
   "cell_type": "code",
   "execution_count": 10,
   "metadata": {},
   "outputs": [],
   "source": [
    "assert bishop_attacks([(1, 1), (2, 0)]) == 1"
   ]
  }
 ],
 "metadata": {
  "kernelspec": {
   "display_name": "Python 3",
   "language": "python",
   "name": "python3"
  },
  "language_info": {
   "codemirror_mode": {
    "name": "ipython",
    "version": 3
   },
   "file_extension": ".py",
   "mimetype": "text/x-python",
   "name": "python",
   "nbconvert_exporter": "python",
   "pygments_lexer": "ipython3",
   "version": "3.7.6"
  }
 },
 "nbformat": 4,
 "nbformat_minor": 4
}
