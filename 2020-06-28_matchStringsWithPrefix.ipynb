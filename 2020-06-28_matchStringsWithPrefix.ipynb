{
 "cells": [
  {
   "cell_type": "markdown",
   "metadata": {},
   "source": [
    "This problem was asked by Twitter.\n",
    "\n",
    "Implement an autocomplete system. That is, given a query string s and a set of all possible query strings, return all strings in the set that have s as a prefix.\n",
    "\n",
    "For example, given the query string de and the set of strings [dog, deer, deal], return [deer, deal].\n",
    "\n",
    "Hint: Try preprocessing the dictionary into a more efficient data structure to speed up queries."
   ]
  },
  {
   "cell_type": "code",
   "execution_count": 5,
   "metadata": {},
   "outputs": [],
   "source": [
    "import re\n",
    "\n",
    "def matchPrefixInList(l, prefix=''):\n",
    "    \"\"\" Return all strings in list l that start with prefix.\n",
    "    Time complexity is O(n) and space complexity is O(1). \"\"\"\n",
    "    return [string for string in l if re.match(\"^\" + prefix, string)]\n",
    "\n",
    "class Node:\n",
    "    def __init__(self, nextchars=None):\n",
    "        self.nextchars = nextchars if nextchars is not None else {}\n",
    "\n",
    "def makeTreeFromList(l):\n",
    "    \"\"\" Make a tree of characters from a list of strings, and \n",
    "    return the root of the tree.\n",
    "    \n",
    "    This data structure makes it a lot faster to search for a string that\n",
    "    starts with a certain prefix string.\n",
    "    \n",
    "    Root of the tree is the empty character, children nodes \n",
    "    are all the possible first characters that exist in the list of strings,\n",
    "    grandchildren nodes are all the possible second caracters given\n",
    "    the first character, etc.\n",
    "    \n",
    "    Time complexity is O(n*str_len). \"\"\"\n",
    "    root = Node()\n",
    "    for string in l:\n",
    "        # start at root node for every new string\n",
    "        node = root\n",
    "        for char in string:\n",
    "            if char not in node.nextchars:\n",
    "                # add a child node for every newly encountered character\n",
    "                node.nextchars[char] = Node()\n",
    "            # move to child node\n",
    "            node = node.nextchars[char]\n",
    "        # end with an empty-character node for every end of string\n",
    "        node.nextchars[''] = Node()\n",
    "    return root\n",
    "\n",
    "def makeCollectionFromTree(root, prefix=''):\n",
    "    \"\"\" Returns a collection of all the strings contained in tree,\n",
    "    starting from root node and prepending the prefix string.\n",
    "    Time complexity is O(alphabet_size*str_len). \"\"\"\n",
    "    for char in root.nextchars:\n",
    "        # iterate over all the possible children nodes (i.e. next characters)\n",
    "        if char == '':\n",
    "            # reached the end of a string. yield it.\n",
    "            yield prefix\n",
    "        else:\n",
    "            # if not, append child node character to prefix and recurse on child node.\n",
    "            yield from makeCollectionFromTree(root.nextchars[char], prefix + char)\n",
    "\n",
    "def matchPrefixInTree(node, prefix=''):\n",
    "    \"\"\" Return a collection of all strings in tree (starting from node),\n",
    "    that start with prefix.\n",
    "    Time complexity is O(alphabet_size*str_len). \"\"\"\n",
    "    # First, travel the the appropriate child node dictated by prefix\n",
    "    # (or return an empty collection if child node doesn't exist).\n",
    "    for char in prefix:\n",
    "        if char not in node.nextchars:\n",
    "            # no match\n",
    "            return ()\n",
    "        node = node.nextchars[char]\n",
    "    # Return the collection of strings starting from current node,\n",
    "    # prepended with prefix string.\n",
    "    return makeCollectionFromTree(node, prefix)"
   ]
  },
  {
   "cell_type": "code",
   "execution_count": 6,
   "metadata": {},
   "outputs": [
    {
     "name": "stdout",
     "output_type": "stream",
     "text": [
      "['deer', 'deal', 'dealer']\n",
      "{'': <__main__.Node object at 0x7fdb3c17d090>, 'e': <__main__.Node object at 0x7fdb3c17d0d0>}\n",
      "['deer', 'deal', 'dealer']\n"
     ]
    }
   ],
   "source": [
    "l = [\"eden\", \"dog\", \"deer\", \"deal\", \"dealer\"]\n",
    "prefix = \"de\"\n",
    "\n",
    "print(matchPrefixInList(l, prefix))\n",
    "\n",
    "root = makeTreeFromList(l)\n",
    "print(root.nextchars['d'].nextchars['e'].nextchars['a'].nextchars['l'].nextchars)\n",
    "print(list(matchPrefixInTree(root, prefix)))"
   ]
  },
  {
   "cell_type": "code",
   "execution_count": 7,
   "metadata": {},
   "outputs": [],
   "source": [
    "import itertools\n",
    "from timeit import default_timer as timer\n",
    "import numpy as np\n",
    "import pandas as pd\n",
    "import math\n",
    "\n",
    "def runtime(fun, arg):\n",
    "    \"\"\" Return the execution time of fun with argument arg \"\"\"\n",
    "    start = timer()\n",
    "#     print(fun(arr))\n",
    "    res = fun(arg)\n",
    "    end = timer()\n",
    "    return end-start\n",
    "\n",
    "def benchmark(fun, min_str_len=1, max_str_len=7, n=7):\n",
    "    \"\"\" \n",
    "    Benchmark runtime of function fun with lists of varying length. \n",
    "    Return a DataFrame specifying execution times in seconds for a\n",
    "    set of list lengths.\n",
    "    \"\"\"\n",
    "    bench_df = pd.DataFrame({\n",
    "        'len': np.empty(n),\n",
    "        'str_len': range(min_str_len, max_str_len+1),\n",
    "        'execution_time': np.empty(n)\n",
    "    })\n",
    "    alphabet = [chr(i) for i in range(ord('a'), ord('z')+1)]\n",
    "    for i, n in enumerate(bench_df['str_len']):\n",
    "        l = [''.join(tup) for tup in itertools.combinations(alphabet, n)]\n",
    "        bench_df.at[i, 'len'] = len(l)\n",
    "        if fun == matchPrefixInTree:\n",
    "            root = makeTreeFromList(l)\n",
    "            bench_df.at[i, 'execution_time'] = runtime(fun,root)\n",
    "        else:\n",
    "            bench_df.at[i, 'execution_time'] = runtime(fun,l)\n",
    "    return bench_df"
   ]
  },
  {
   "cell_type": "code",
   "execution_count": 8,
   "metadata": {},
   "outputs": [
    {
     "data": {
      "text/html": [
       "<div>\n",
       "<style scoped>\n",
       "    .dataframe tbody tr th:only-of-type {\n",
       "        vertical-align: middle;\n",
       "    }\n",
       "\n",
       "    .dataframe tbody tr th {\n",
       "        vertical-align: top;\n",
       "    }\n",
       "\n",
       "    .dataframe thead th {\n",
       "        text-align: right;\n",
       "    }\n",
       "</style>\n",
       "<table border=\"1\" class=\"dataframe\">\n",
       "  <thead>\n",
       "    <tr style=\"text-align: right;\">\n",
       "      <th></th>\n",
       "      <th>len</th>\n",
       "      <th>str_len</th>\n",
       "      <th>execution_time</th>\n",
       "    </tr>\n",
       "  </thead>\n",
       "  <tbody>\n",
       "    <tr>\n",
       "      <th>0</th>\n",
       "      <td>26.0</td>\n",
       "      <td>1</td>\n",
       "      <td>0.000166</td>\n",
       "    </tr>\n",
       "    <tr>\n",
       "      <th>1</th>\n",
       "      <td>325.0</td>\n",
       "      <td>2</td>\n",
       "      <td>0.000761</td>\n",
       "    </tr>\n",
       "    <tr>\n",
       "      <th>2</th>\n",
       "      <td>2600.0</td>\n",
       "      <td>3</td>\n",
       "      <td>0.005736</td>\n",
       "    </tr>\n",
       "    <tr>\n",
       "      <th>3</th>\n",
       "      <td>14950.0</td>\n",
       "      <td>4</td>\n",
       "      <td>0.022942</td>\n",
       "    </tr>\n",
       "    <tr>\n",
       "      <th>4</th>\n",
       "      <td>65780.0</td>\n",
       "      <td>5</td>\n",
       "      <td>0.059927</td>\n",
       "    </tr>\n",
       "    <tr>\n",
       "      <th>5</th>\n",
       "      <td>230230.0</td>\n",
       "      <td>6</td>\n",
       "      <td>0.189289</td>\n",
       "    </tr>\n",
       "    <tr>\n",
       "      <th>6</th>\n",
       "      <td>657800.0</td>\n",
       "      <td>7</td>\n",
       "      <td>0.530337</td>\n",
       "    </tr>\n",
       "  </tbody>\n",
       "</table>\n",
       "</div>"
      ],
      "text/plain": [
       "        len  str_len  execution_time\n",
       "0      26.0        1        0.000166\n",
       "1     325.0        2        0.000761\n",
       "2    2600.0        3        0.005736\n",
       "3   14950.0        4        0.022942\n",
       "4   65780.0        5        0.059927\n",
       "5  230230.0        6        0.189289\n",
       "6  657800.0        7        0.530337"
      ]
     },
     "execution_count": 8,
     "metadata": {},
     "output_type": "execute_result"
    }
   ],
   "source": [
    "matchList_stats_df = benchmark(matchPrefixInList)\n",
    "matchList_stats_df"
   ]
  },
  {
   "cell_type": "code",
   "execution_count": 9,
   "metadata": {},
   "outputs": [
    {
     "data": {
      "text/html": [
       "<div>\n",
       "<style scoped>\n",
       "    .dataframe tbody tr th:only-of-type {\n",
       "        vertical-align: middle;\n",
       "    }\n",
       "\n",
       "    .dataframe tbody tr th {\n",
       "        vertical-align: top;\n",
       "    }\n",
       "\n",
       "    .dataframe thead th {\n",
       "        text-align: right;\n",
       "    }\n",
       "</style>\n",
       "<table border=\"1\" class=\"dataframe\">\n",
       "  <thead>\n",
       "    <tr style=\"text-align: right;\">\n",
       "      <th></th>\n",
       "      <th>len</th>\n",
       "      <th>str_len</th>\n",
       "      <th>execution_time</th>\n",
       "    </tr>\n",
       "  </thead>\n",
       "  <tbody>\n",
       "    <tr>\n",
       "      <th>0</th>\n",
       "      <td>26.0</td>\n",
       "      <td>1</td>\n",
       "      <td>0.001087</td>\n",
       "    </tr>\n",
       "    <tr>\n",
       "      <th>1</th>\n",
       "      <td>325.0</td>\n",
       "      <td>2</td>\n",
       "      <td>0.005325</td>\n",
       "    </tr>\n",
       "    <tr>\n",
       "      <th>2</th>\n",
       "      <td>2600.0</td>\n",
       "      <td>3</td>\n",
       "      <td>0.016434</td>\n",
       "    </tr>\n",
       "    <tr>\n",
       "      <th>3</th>\n",
       "      <td>14950.0</td>\n",
       "      <td>4</td>\n",
       "      <td>0.071977</td>\n",
       "    </tr>\n",
       "    <tr>\n",
       "      <th>4</th>\n",
       "      <td>65780.0</td>\n",
       "      <td>5</td>\n",
       "      <td>0.325374</td>\n",
       "    </tr>\n",
       "    <tr>\n",
       "      <th>5</th>\n",
       "      <td>230230.0</td>\n",
       "      <td>6</td>\n",
       "      <td>1.417954</td>\n",
       "    </tr>\n",
       "    <tr>\n",
       "      <th>6</th>\n",
       "      <td>657800.0</td>\n",
       "      <td>7</td>\n",
       "      <td>4.173471</td>\n",
       "    </tr>\n",
       "  </tbody>\n",
       "</table>\n",
       "</div>"
      ],
      "text/plain": [
       "        len  str_len  execution_time\n",
       "0      26.0        1        0.001087\n",
       "1     325.0        2        0.005325\n",
       "2    2600.0        3        0.016434\n",
       "3   14950.0        4        0.071977\n",
       "4   65780.0        5        0.325374\n",
       "5  230230.0        6        1.417954\n",
       "6  657800.0        7        4.173471"
      ]
     },
     "execution_count": 9,
     "metadata": {},
     "output_type": "execute_result"
    }
   ],
   "source": [
    "makeTree_stats_df = benchmark(makeTreeFromList)\n",
    "makeTree_stats_df"
   ]
  },
  {
   "cell_type": "code",
   "execution_count": 10,
   "metadata": {},
   "outputs": [
    {
     "data": {
      "text/html": [
       "<div>\n",
       "<style scoped>\n",
       "    .dataframe tbody tr th:only-of-type {\n",
       "        vertical-align: middle;\n",
       "    }\n",
       "\n",
       "    .dataframe tbody tr th {\n",
       "        vertical-align: top;\n",
       "    }\n",
       "\n",
       "    .dataframe thead th {\n",
       "        text-align: right;\n",
       "    }\n",
       "</style>\n",
       "<table border=\"1\" class=\"dataframe\">\n",
       "  <thead>\n",
       "    <tr style=\"text-align: right;\">\n",
       "      <th></th>\n",
       "      <th>len</th>\n",
       "      <th>str_len</th>\n",
       "      <th>execution_time</th>\n",
       "    </tr>\n",
       "  </thead>\n",
       "  <tbody>\n",
       "    <tr>\n",
       "      <th>0</th>\n",
       "      <td>26.0</td>\n",
       "      <td>1</td>\n",
       "      <td>0.000002</td>\n",
       "    </tr>\n",
       "    <tr>\n",
       "      <th>1</th>\n",
       "      <td>325.0</td>\n",
       "      <td>2</td>\n",
       "      <td>0.000001</td>\n",
       "    </tr>\n",
       "    <tr>\n",
       "      <th>2</th>\n",
       "      <td>2600.0</td>\n",
       "      <td>3</td>\n",
       "      <td>0.000002</td>\n",
       "    </tr>\n",
       "    <tr>\n",
       "      <th>3</th>\n",
       "      <td>14950.0</td>\n",
       "      <td>4</td>\n",
       "      <td>0.000004</td>\n",
       "    </tr>\n",
       "    <tr>\n",
       "      <th>4</th>\n",
       "      <td>65780.0</td>\n",
       "      <td>5</td>\n",
       "      <td>0.000003</td>\n",
       "    </tr>\n",
       "    <tr>\n",
       "      <th>5</th>\n",
       "      <td>230230.0</td>\n",
       "      <td>6</td>\n",
       "      <td>0.000005</td>\n",
       "    </tr>\n",
       "    <tr>\n",
       "      <th>6</th>\n",
       "      <td>657800.0</td>\n",
       "      <td>7</td>\n",
       "      <td>0.000005</td>\n",
       "    </tr>\n",
       "  </tbody>\n",
       "</table>\n",
       "</div>"
      ],
      "text/plain": [
       "        len  str_len  execution_time\n",
       "0      26.0        1        0.000002\n",
       "1     325.0        2        0.000001\n",
       "2    2600.0        3        0.000002\n",
       "3   14950.0        4        0.000004\n",
       "4   65780.0        5        0.000003\n",
       "5  230230.0        6        0.000005\n",
       "6  657800.0        7        0.000005"
      ]
     },
     "execution_count": 10,
     "metadata": {},
     "output_type": "execute_result"
    }
   ],
   "source": [
    "matchTree_stats_df = benchmark(matchPrefixInTree)\n",
    "matchTree_stats_df"
   ]
  },
  {
   "cell_type": "code",
   "execution_count": 11,
   "metadata": {
    "scrolled": true
   },
   "outputs": [
    {
     "data": {
      "text/plain": [
       "Text(0.5, 1.0, 'list to tree')"
      ]
     },
     "execution_count": 11,
     "metadata": {},
     "output_type": "execute_result"
    },
    {
     "data": {
      "image/png": "[encoded data removed]",
      "text/plain": [
       "<Figure size 432x288 with 1 Axes>"
      ]
     },
     "metadata": {
      "needs_background": "light"
     },
     "output_type": "display_data"
    },
    {
     "data": {
      "image/png": "[encoded data removed]",
      "text/plain": [
       "<Figure size 432x288 with 1 Axes>"
      ]
     },
     "metadata": {
      "needs_background": "light"
     },
     "output_type": "display_data"
    },
    {
     "data": {
      "image/png": "[encoded data removed]",
      "text/plain": [
       "<Figure size 432x288 with 1 Axes>"
      ]
     },
     "metadata": {
      "needs_background": "light"
     },
     "output_type": "display_data"
    },
    {
     "data": {
      "image/png": "[encoded data removed]",
      "text/plain": [
       "<Figure size 432x288 with 1 Axes>"
      ]
     },
     "metadata": {
      "needs_background": "light"
     },
     "output_type": "display_data"
    }
   ],
   "source": [
    "import matplotlib.pyplot as plt\n",
    "import seaborn as sns\n",
    "\n",
    "fig, ax = plt.subplots()\n",
    "sns.scatterplot('len', 'execution_time', data=matchList_stats_df, ax=ax)\n",
    "ax.set_title('match list')\n",
    "\n",
    "fig, ax = plt.subplots()\n",
    "sns.scatterplot('len', 'execution_time', data=matchTree_stats_df, ax=ax)\n",
    "ax.set_title('match tree')\n",
    "\n",
    "fig, ax = plt.subplots()\n",
    "sns.scatterplot('str_len', 'execution_time', data=matchTree_stats_df, ax=ax)\n",
    "ax.set_title('match tree - string length')\n",
    "\n",
    "fig, ax = plt.subplots()\n",
    "sns.scatterplot('len', 'execution_time', data=makeTree_stats_df, ax=ax)\n",
    "ax.set_title('list to tree')"
   ]
  },
  {
   "cell_type": "code",
   "execution_count": 12,
   "metadata": {},
   "outputs": [
    {
     "name": "stdout",
     "output_type": "stream",
     "text": [
      "seaborn==0.10.1\n",
      "pandas==1.0.4\n",
      "numpy==1.18.1\n",
      "matplotlib==3.2.1\n"
     ]
    }
   ],
   "source": [
    "import pkg_resources\n",
    "packages=['numpy', 'pandas', 'matplotlib', 'seaborn']\n",
    "for m in pkg_resources.working_set:\n",
    "    if m.project_name.lower() in packages:\n",
    "        print(f\"{m.project_name}=={m.version}\")"
   ]
  }
 ],
 "metadata": {
  "kernelspec": {
   "display_name": "Python 3",
   "language": "python",
   "name": "python3"
  },
  "language_info": {
   "codemirror_mode": {
    "name": "ipython",
    "version": 3
   },
   "file_extension": ".py",
   "mimetype": "text/x-python",
   "name": "python",
   "nbconvert_exporter": "python",
   "pygments_lexer": "ipython3",
   "version": "3.7.6"
  }
 },
 "nbformat": 4,
 "nbformat_minor": 4
}
