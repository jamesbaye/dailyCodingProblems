{
 "cells": [
  {
   "cell_type": "markdown",
   "metadata": {},
   "source": [
    "This problem was asked by Amazon.\n",
    "\n",
    "Given a matrix of 1s and 0s, return the number of \"islands\" in the matrix. A 1 represents land and 0 represents water, so an island is a group of 1s that are neighboring whose perimeter is surrounded by water.\n",
    "\n",
    "For example, this matrix has `4` islands.\n",
    "\n",
    "```\n",
    "1 0 0 0 0\n",
    "0 0 1 1 0\n",
    "0 1 1 0 0\n",
    "0 0 0 0 0\n",
    "1 1 0 0 1\n",
    "1 1 0 0 1\n",
    "```"
   ]
  },
  {
   "cell_type": "code",
   "execution_count": 39,
   "metadata": {},
   "outputs": [],
   "source": [
    "def count_islands(mat):\n",
    "    count = 0\n",
    "    visited = set()\n",
    "    N, M = dim(mat)\n",
    "    for i in range(N):\n",
    "        for j in range(M):\n",
    "            if is_unvisited_land(mat, i, j, visited):\n",
    "                visit_island(mat, i, j, visited)\n",
    "                count += 1\n",
    "    return count\n",
    "\n",
    "def visit_island(mat, i, j, visited):\n",
    "    moves = [(0, -1), (0, 1), (-1, 0), (1, 0)]\n",
    "    for move_v, move_h in moves:\n",
    "        if is_unvisited_land(mat, i+move_v, j+move_h, visited):\n",
    "            visited.add((i+move_v, j+move_h))\n",
    "            visit_island(mat, i+move_v, j+move_h, visited)\n",
    "\n",
    "def is_unvisited_land(mat, i, j, visited):\n",
    "    N, M = dim(mat)\n",
    "    if i>=0 and i<N and j>=0 and j<M and mat[i][j] == 1 and (i, j) not in visited:\n",
    "        return True\n",
    "    return False\n",
    "\n",
    "def dim(mat):\n",
    "    N = len(mat)\n",
    "    M = len(mat[0])\n",
    "    return N, M"
   ]
  },
  {
   "cell_type": "code",
   "execution_count": 40,
   "metadata": {},
   "outputs": [
    {
     "data": {
      "text/plain": [
       "4"
      ]
     },
     "execution_count": 40,
     "metadata": {},
     "output_type": "execute_result"
    }
   ],
   "source": [
    "mat = [\n",
    "    [1, 0, 0, 0, 0],\n",
    "    [0, 0, 1, 1, 0],\n",
    "    [0, 1, 1, 0, 0],\n",
    "    [0, 0, 0, 0, 0],\n",
    "    [1, 1, 0, 0, 1],\n",
    "    [1, 1, 0, 0, 1],\n",
    "]\n",
    "count_islands(mat)"
   ]
  }
 ],
 "metadata": {
  "kernelspec": {
   "display_name": "Python 3",
   "language": "python",
   "name": "python3"
  },
  "language_info": {
   "codemirror_mode": {
    "name": "ipython",
    "version": 3
   },
   "file_extension": ".py",
   "mimetype": "text/x-python",
   "name": "python",
   "nbconvert_exporter": "python",
   "pygments_lexer": "ipython3",
   "version": "3.7.6"
  }
 },
 "nbformat": 4,
 "nbformat_minor": 4
}
