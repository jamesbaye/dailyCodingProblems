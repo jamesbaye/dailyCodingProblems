{
 "cells": [
  {
   "cell_type": "markdown",
   "metadata": {},
   "source": [
    "This problem was asked by Pinterest.\n",
    "\n",
    "Given an integer list where each number represents the number of hops you can make, determine whether you can reach to the last index starting at index 0.\n",
    "\n",
    "For example, `[2, 0, 1, 0]` returns `True` while `[1, 1, 0, 1]` returns `False`."
   ]
  },
  {
   "cell_type": "code",
   "execution_count": 59,
   "metadata": {},
   "outputs": [],
   "source": [
    "def is_last_index_reachable(maxhops, i_start=0):\n",
    "    \"\"\"Returns True if the last index in maxhops is reachable from index i_start, False if not.\n",
    "    \n",
    "    Args:\n",
    "        maxhops (list): A list of integers that represent the maximum hop size at any given index.\n",
    "        i_start (int, optional): the index position in maxhops to start at.\n",
    "    \n",
    "    Complexity:\n",
    "        O(len(maxhops)) time and space.\n",
    "    \"\"\"\n",
    "    is_reachable_from_pos = [None] * (len(maxhops)-1) + [True] # None = undetermined (i.e. unvisited)\n",
    "\n",
    "    for i in reversed(range(i_start, len(maxhops) - 1)):\n",
    "        compute_and_memo_reachability(i, maxhops, is_reachable_from_pos)\n",
    "\n",
    "    return is_reachable_from_pos[i_start]\n",
    "\n",
    "def compute_and_memo_reachability(i, maxhops, is_reachable_from_pos):\n",
    "    if is_reachable_from_pos[i] is not None:\n",
    "        # i has already been visited, computed and memoised, do not recompute.\n",
    "        return\n",
    "    \n",
    "    is_reachable_from_pos[i] = False # i is now visited: initialise to False\n",
    "\n",
    "    # check all the next_i we can hop to from i.\n",
    "    # if any next_i reaches last_index, then i reaches last_index.\n",
    "    for i_next in next_indices(i, maxhops):\n",
    "        # handle negative hops: i_next could not have been visited yet.\n",
    "        if is_reachable_from_pos[i_next] is None:\n",
    "            compute_and_memo_reachability(i_next, maxhops, is_reachable_from_pos)\n",
    "        if is_reachable_from_pos[i_next]:\n",
    "            is_reachable_from_pos[i] = True\n",
    "            break\n",
    "\n",
    "def next_indices(i, maxhops):\n",
    "    for hop in range_hops(maxhops[i]):\n",
    "        if i+hop >= 0 and i+hop < len(maxhops):\n",
    "            yield i+hop\n",
    "\n",
    "def range_hops(maxhop):\n",
    "    if maxhop < 0:\n",
    "        return range(-1, maxhop - 1, -1)\n",
    "    else:\n",
    "        return range(1, maxhop + 1)"
   ]
  },
  {
   "cell_type": "code",
   "execution_count": 60,
   "metadata": {},
   "outputs": [
    {
     "data": {
      "text/plain": [
       "True"
      ]
     },
     "execution_count": 60,
     "metadata": {},
     "output_type": "execute_result"
    }
   ],
   "source": [
    "is_last_index_reachable([2, 0, 1, 0])"
   ]
  },
  {
   "cell_type": "code",
   "execution_count": 61,
   "metadata": {},
   "outputs": [
    {
     "data": {
      "text/plain": [
       "False"
      ]
     },
     "execution_count": 61,
     "metadata": {},
     "output_type": "execute_result"
    }
   ],
   "source": [
    "is_last_index_reachable([1, 1, 0, 1])"
   ]
  },
  {
   "cell_type": "code",
   "execution_count": 62,
   "metadata": {},
   "outputs": [
    {
     "data": {
      "text/plain": [
       "True"
      ]
     },
     "execution_count": 62,
     "metadata": {},
     "output_type": "execute_result"
    }
   ],
   "source": [
    "is_last_index_reachable([0])"
   ]
  },
  {
   "cell_type": "code",
   "execution_count": 63,
   "metadata": {},
   "outputs": [
    {
     "data": {
      "text/plain": [
       "True"
      ]
     },
     "execution_count": 63,
     "metadata": {},
     "output_type": "execute_result"
    }
   ],
   "source": [
    "is_last_index_reachable([1, 0])"
   ]
  },
  {
   "cell_type": "code",
   "execution_count": 64,
   "metadata": {},
   "outputs": [
    {
     "data": {
      "text/plain": [
       "True"
      ]
     },
     "execution_count": 64,
     "metadata": {},
     "output_type": "execute_result"
    }
   ],
   "source": [
    "is_last_index_reachable([2, 0])"
   ]
  },
  {
   "cell_type": "code",
   "execution_count": 65,
   "metadata": {},
   "outputs": [
    {
     "data": {
      "text/plain": [
       "False"
      ]
     },
     "execution_count": 65,
     "metadata": {},
     "output_type": "execute_result"
    }
   ],
   "source": [
    "is_last_index_reachable([0, 1])"
   ]
  },
  {
   "cell_type": "code",
   "execution_count": 66,
   "metadata": {},
   "outputs": [
    {
     "data": {
      "text/plain": [
       "False"
      ]
     },
     "execution_count": 66,
     "metadata": {},
     "output_type": "execute_result"
    }
   ],
   "source": [
    "is_last_index_reachable([-1, 1])"
   ]
  },
  {
   "cell_type": "code",
   "execution_count": 67,
   "metadata": {},
   "outputs": [
    {
     "data": {
      "text/plain": [
       "False"
      ]
     },
     "execution_count": 67,
     "metadata": {},
     "output_type": "execute_result"
    }
   ],
   "source": [
    "is_last_index_reachable([1, -1, 1])"
   ]
  },
  {
   "cell_type": "code",
   "execution_count": 68,
   "metadata": {},
   "outputs": [
    {
     "data": {
      "text/plain": [
       "False"
      ]
     },
     "execution_count": 68,
     "metadata": {},
     "output_type": "execute_result"
    }
   ],
   "source": [
    "is_last_index_reachable([1, 2, 1, -1, 1])"
   ]
  },
  {
   "cell_type": "code",
   "execution_count": 69,
   "metadata": {},
   "outputs": [
    {
     "data": {
      "text/plain": [
       "True"
      ]
     },
     "execution_count": 69,
     "metadata": {},
     "output_type": "execute_result"
    }
   ],
   "source": [
    "is_last_index_reachable([1, 2, 2, -1, 1])"
   ]
  },
  {
   "cell_type": "code",
   "execution_count": 70,
   "metadata": {},
   "outputs": [
    {
     "data": {
      "text/plain": [
       "False"
      ]
     },
     "execution_count": 70,
     "metadata": {},
     "output_type": "execute_result"
    }
   ],
   "source": [
    "is_last_index_reachable([1, 0, 0, -3, 1])"
   ]
  },
  {
   "cell_type": "code",
   "execution_count": 72,
   "metadata": {},
   "outputs": [
    {
     "data": {
      "text/plain": [
       "True"
      ]
     },
     "execution_count": 72,
     "metadata": {},
     "output_type": "execute_result"
    }
   ],
   "source": [
    "is_last_index_reachable([4, 0, 0, -3, 1], i_start=3)"
   ]
  }
 ],
 "metadata": {
  "kernelspec": {
   "display_name": "Python 3",
   "language": "python",
   "name": "python3"
  },
  "language_info": {
   "codemirror_mode": {
    "name": "ipython",
    "version": 3
   },
   "file_extension": ".py",
   "mimetype": "text/x-python",
   "name": "python",
   "nbconvert_exporter": "python",
   "pygments_lexer": "ipython3",
   "version": "3.7.6"
  }
 },
 "nbformat": 4,
 "nbformat_minor": 4
}
