{
 "cells": [
  {
   "cell_type": "markdown",
   "metadata": {},
   "source": [
    "This problem was asked by Yelp.\n",
    "\n",
    "Given a mapping of digits to letters (as in a phone number), and a digit string, return all possible letters the number could represent. You can assume each valid number in the mapping is a single digit.\n",
    "\n",
    "For example if `{“2”: [“a”, “b”, “c”], 3: [“d”, “e”, “f”], …}` then `“23”` should return `[“ad”, “ae”, “af”, “bd”, “be”, “bf”, “cd”, “ce”, “cf\"]`."
   ]
  },
  {
   "cell_type": "code",
   "execution_count": 13,
   "metadata": {},
   "outputs": [],
   "source": [
    "def multimap(m, keys, key_start_idx=0, out_prefix=\"\"):\n",
    "    \"\"\"Return all the possible values associated with keys in multimap m.\n",
    "    \n",
    "    Args:\n",
    "        m: a multimapping dict (each key maps to a list of values)\n",
    "        keys: a string or lists of keys\n",
    "        key_start_idx: the index in keys to start at. used for recursion.\n",
    "        out_prefix: a string to prefix to output. used for recursion.\n",
    "    \"\"\"\n",
    "    if key_start_idx == len(keys):\n",
    "        yield out_prefix\n",
    "    else:\n",
    "        for val in m[keys[key_start_idx]]:\n",
    "            yield from multimap(m, keys, key_start_idx + 1, out_prefix + val)"
   ]
  },
  {
   "cell_type": "code",
   "execution_count": 14,
   "metadata": {},
   "outputs": [
    {
     "data": {
      "text/plain": [
       "['ad', 'ae', 'af', 'bd', 'be', 'bf', 'cd', 'ce', 'cf']"
      ]
     },
     "execution_count": 14,
     "metadata": {},
     "output_type": "execute_result"
    }
   ],
   "source": [
    "[x for x in multimap({\"2\": [\"a\", \"b\", \"c\"], \"3\": [\"d\", \"e\", \"f\"]}, \"23\")]"
   ]
  }
 ],
 "metadata": {
  "kernelspec": {
   "display_name": "Python 3",
   "language": "python",
   "name": "python3"
  },
  "language_info": {
   "codemirror_mode": {
    "name": "ipython",
    "version": 3
   },
   "file_extension": ".py",
   "mimetype": "text/x-python",
   "name": "python",
   "nbconvert_exporter": "python",
   "pygments_lexer": "ipython3",
   "version": "3.7.6"
  }
 },
 "nbformat": 4,
 "nbformat_minor": 4
}
