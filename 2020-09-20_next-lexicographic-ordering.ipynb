{
 "cells": [
  {
   "cell_type": "markdown",
   "metadata": {},
   "source": [
    "This problem was asked by Palantir.\n",
    "\n",
    "Given a number represented by a list of digits, find the next greater permutation of a number, in terms of lexicographic ordering. If there is not greater permutation possible, return the permutation with the lowest value/ordering.\n",
    "\n",
    "For example, the list `[1,2,3]` should return `[1,3,2]`. The list `[1,3,2]` should return `[2,1,3]`. The list `[3,2,1]` should return `[1,2,3]`.\n",
    "\n",
    "Can you perform the operation without allocating extra memory (disregarding the input memory)?"
   ]
  },
  {
   "cell_type": "code",
   "execution_count": 13,
   "metadata": {},
   "outputs": [],
   "source": [
    "import math\n",
    "\n",
    "def next_lexicographic_ordering(digits):\n",
    "    \"\"\"Return the next lexicographic ordering of digits.\n",
    "    \n",
    "    Complexity:\n",
    "        Time: O(len(digits)^2). See stackoverflow for a O(len(digits)) algorithm\n",
    "        https://stackoverflow.com/questions/1622532/algorithm-to-find-next-greater-permutation-of-a-given-string\n",
    "        Space: O(1)\n",
    "    \"\"\"\n",
    "    if len(digits) > 1:\n",
    "\n",
    "        lowest_swap_value = -float(\"inf\")\n",
    "        highest_swap_value = float(\"inf\")\n",
    "        \n",
    "        # move up digits until we encounter the first digit that can be replaced with a higher value.\n",
    "        for i_to_swap in reversed(range(len(digits) - 1)):\n",
    "            if digits[i_to_swap] < digits[i_to_swap + 1]:\n",
    "                lowest_swap_value = digits[i_to_swap]\n",
    "                break\n",
    "        \n",
    "        # then for every digit moving down, swap with lowest value in digits below,\n",
    "        # higher than lowest_swap_value, lower than highest_swap_value.\n",
    "        while i_to_swap < len(digits) - 1:\n",
    "            \n",
    "            # find lowest_digit_below\n",
    "            lowest_digit_below = math.inf\n",
    "            i_lowest_val_below = i_to_swap\n",
    "            for i in range(i_to_swap, len(digits)):\n",
    "                if digits[i] > lowest_swap_value and digits[i] < highest_swap_value and digits[i] < lowest_digit_below:\n",
    "                    i_lowest_val_below = i\n",
    "                    lowest_digit_below = digits[i]\n",
    "            \n",
    "            # swap\n",
    "            lowest_digit_below = digits[i_lowest_val_below]\n",
    "            digits[i_lowest_val_below] = digits[i_to_swap]\n",
    "            digits[i_to_swap] = lowest_digit_below\n",
    "\n",
    "            # move down to next digit\n",
    "            i_to_swap += 1\n",
    "            lowest_swap_value = -float(\"inf\")\n",
    "            highest_swap_value = digits[i_to_swap]\n",
    "    \n",
    "    return digits"
   ]
  },
  {
   "cell_type": "code",
   "execution_count": 14,
   "metadata": {},
   "outputs": [
    {
     "data": {
      "text/plain": [
       "[1, 3, 2]"
      ]
     },
     "execution_count": 14,
     "metadata": {},
     "output_type": "execute_result"
    }
   ],
   "source": [
    "next_lexicographic_ordering([1, 2, 3])"
   ]
  },
  {
   "cell_type": "code",
   "execution_count": 15,
   "metadata": {},
   "outputs": [
    {
     "data": {
      "text/plain": [
       "[2, 1, 3]"
      ]
     },
     "execution_count": 15,
     "metadata": {},
     "output_type": "execute_result"
    }
   ],
   "source": [
    "next_lexicographic_ordering([1, 3, 2])"
   ]
  },
  {
   "cell_type": "code",
   "execution_count": 16,
   "metadata": {},
   "outputs": [
    {
     "data": {
      "text/plain": [
       "[1, 2, 3]"
      ]
     },
     "execution_count": 16,
     "metadata": {},
     "output_type": "execute_result"
    }
   ],
   "source": [
    "next_lexicographic_ordering([3, 2, 1])"
   ]
  },
  {
   "cell_type": "code",
   "execution_count": 17,
   "metadata": {},
   "outputs": [
    {
     "data": {
      "text/plain": [
       "[1]"
      ]
     },
     "execution_count": 17,
     "metadata": {},
     "output_type": "execute_result"
    }
   ],
   "source": [
    "next_lexicographic_ordering([1])"
   ]
  },
  {
   "cell_type": "code",
   "execution_count": 18,
   "metadata": {},
   "outputs": [
    {
     "data": {
      "text/plain": [
       "[2, 1]"
      ]
     },
     "execution_count": 18,
     "metadata": {},
     "output_type": "execute_result"
    }
   ],
   "source": [
    "next_lexicographic_ordering([1, 2])"
   ]
  },
  {
   "cell_type": "code",
   "execution_count": 19,
   "metadata": {},
   "outputs": [
    {
     "data": {
      "text/plain": [
       "[1, 2]"
      ]
     },
     "execution_count": 19,
     "metadata": {},
     "output_type": "execute_result"
    }
   ],
   "source": [
    "next_lexicographic_ordering([2, 1])"
   ]
  },
  {
   "cell_type": "code",
   "execution_count": 20,
   "metadata": {},
   "outputs": [
    {
     "data": {
      "text/plain": [
       "[1, 2, 1]"
      ]
     },
     "execution_count": 20,
     "metadata": {},
     "output_type": "execute_result"
    }
   ],
   "source": [
    "next_lexicographic_ordering([1, 1, 2])"
   ]
  },
  {
   "cell_type": "code",
   "execution_count": 21,
   "metadata": {},
   "outputs": [
    {
     "data": {
      "text/plain": [
       "[2, 2, 1, 1]"
      ]
     },
     "execution_count": 21,
     "metadata": {},
     "output_type": "execute_result"
    }
   ],
   "source": [
    "next_lexicographic_ordering([2, 1, 2, 1])"
   ]
  },
  {
   "cell_type": "code",
   "execution_count": 22,
   "metadata": {
    "scrolled": true
   },
   "outputs": [
    {
     "data": {
      "text/plain": [
       "[1, 1, 1, 2]"
      ]
     },
     "execution_count": 22,
     "metadata": {},
     "output_type": "execute_result"
    }
   ],
   "source": [
    "next_lexicographic_ordering([2, 1, 1, 1])"
   ]
  },
  {
   "cell_type": "code",
   "execution_count": 23,
   "metadata": {},
   "outputs": [
    {
     "data": {
      "text/plain": [
       "[2, 1, 2, 1]"
      ]
     },
     "execution_count": 23,
     "metadata": {},
     "output_type": "execute_result"
    }
   ],
   "source": [
    "next_lexicographic_ordering([2, 1, 1, 2])"
   ]
  },
  {
   "cell_type": "code",
   "execution_count": 24,
   "metadata": {
    "scrolled": true
   },
   "outputs": [
    {
     "data": {
      "text/plain": [
       "[1, 1, 1, 2, 3]"
      ]
     },
     "execution_count": 24,
     "metadata": {},
     "output_type": "execute_result"
    }
   ],
   "source": [
    "next_lexicographic_ordering([3, 2, 1, 1, 1])"
   ]
  }
 ],
 "metadata": {
  "kernelspec": {
   "display_name": "Python 3",
   "language": "python",
   "name": "python3"
  },
  "language_info": {
   "codemirror_mode": {
    "name": "ipython",
    "version": 3
   },
   "file_extension": ".py",
   "mimetype": "text/x-python",
   "name": "python",
   "nbconvert_exporter": "python",
   "pygments_lexer": "ipython3",
   "version": "3.7.6"
  }
 },
 "nbformat": 4,
 "nbformat_minor": 4
}
