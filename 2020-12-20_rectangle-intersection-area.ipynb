{
 "cells": [
  {
   "cell_type": "markdown",
   "metadata": {},
   "source": [
    "This problem was asked by Google.\n",
    "\n",
    "Given two rectangles on a 2D graph, return the area of their intersection. If the rectangles don't intersect, return `0`.\n",
    "\n",
    "For example, given the following rectangles:\n",
    "```\n",
    "{\n",
    "    \"top_left\": (1, 4),\n",
    "    \"dimensions\": (3, 3) # width, height\n",
    "}\n",
    "```\n",
    "and\n",
    "```\n",
    "{\n",
    "    \"top_left\": (0, 5),\n",
    "    \"dimensions\": (4, 3) # width, height\n",
    "}\n",
    "```\n",
    "return `6`."
   ]
  },
  {
   "cell_type": "code",
   "execution_count": 1,
   "metadata": {},
   "outputs": [],
   "source": [
    "from collections import namedtuple\n",
    "\n",
    "Rect = namedtuple(\"Rect\", [\"top_left\", \"dimensions\"])\n",
    "\n",
    "def intersect_area(rA, rB):\n",
    "    \"\"\"Return the intersection area between two rectangles.\"\"\"\n",
    "    xA, yA, wA, hA = rect_coord(rA)\n",
    "    xB, yB, wB, hB = rect_coord(rB)\n",
    "    \n",
    "    xC = max(xA, xB)\n",
    "    yC = max(yA, yB)\n",
    "    xC_end = min(xA+wA, xB+wB)\n",
    "    yC_end = min(yA+hA, yB+hB)\n",
    "    \n",
    "    return min(0, (xC_end - xC) * (yC_end - yC))\n",
    "\n",
    "def rect_coord(r):\n",
    "    \"\"\"Return (x0, y0, w, h) rectangle coordinates.\n",
    "    (x0, y0) is the coordinate of the top-left corner.\n",
    "    (w, h) is the width along x and height along y.\n",
    "    \"\"\"\n",
    "    x0, y0 = r.top_left\n",
    "    w, h = r.dimensions\n",
    "    return x0, y0, w, h"
   ]
  },
  {
   "cell_type": "code",
   "execution_count": 2,
   "metadata": {},
   "outputs": [
    {
     "data": {
      "text/plain": [
       "6"
      ]
     },
     "execution_count": 2,
     "metadata": {},
     "output_type": "execute_result"
    }
   ],
   "source": [
    "intersect_area(\n",
    "    Rect((1, 4), (3, 3)),\n",
    "    Rect((0, 5), (4, 3))\n",
    ")"
   ]
  },
  {
   "cell_type": "code",
   "execution_count": 3,
   "metadata": {},
   "outputs": [
    {
     "data": {
      "text/plain": [
       "208"
      ]
     },
     "execution_count": 3,
     "metadata": {},
     "output_type": "execute_result"
    }
   ],
   "source": [
    "intersect_area(\n",
    "    Rect((1, 4), (3, 3)),\n",
    "    Rect((20, 20), (4, 3))\n",
    ")"
   ]
  }
 ],
 "metadata": {
  "kernelspec": {
   "display_name": "Python 3",
   "language": "python",
   "name": "python3"
  },
  "language_info": {
   "codemirror_mode": {
    "name": "ipython",
    "version": 3
   },
   "file_extension": ".py",
   "mimetype": "text/x-python",
   "name": "python",
   "nbconvert_exporter": "python",
   "pygments_lexer": "ipython3",
   "version": "3.7.6"
  }
 },
 "nbformat": 4,
 "nbformat_minor": 4
}
