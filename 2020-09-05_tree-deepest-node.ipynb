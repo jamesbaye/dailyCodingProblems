{
 "cells": [
  {
   "cell_type": "markdown",
   "metadata": {},
   "source": [
    "This problem was asked by Google.\n",
    "\n",
    "Given the root of a binary tree, return a deepest node. For example, in the following tree, return `d`.\n",
    "\n",
    "```\n",
    "    a\n",
    "   / \\\n",
    "  b   c\n",
    " /\n",
    "d\n",
    "```"
   ]
  },
  {
   "cell_type": "code",
   "execution_count": 14,
   "metadata": {},
   "outputs": [],
   "source": [
    "class BinaryTree:\n",
    "    def __init__(self, val, left=None, right=None):\n",
    "        self.val = val\n",
    "        self.left = left\n",
    "        self.right = right\n",
    "\n",
    "def deepest_node(root, depth=0):\n",
    "    \"\"\"Return a deepest node of a binary tree given a root.\"\"\"\n",
    "    if root.left is None and root.right is None:\n",
    "        return (depth, root.val)\n",
    "    elif root.left is not None and root.right is not None:\n",
    "        left_depth, left_val = deepest_node(root.left, depth+1)\n",
    "        right_depth, right_val = deepest_node(root.right, depth+1)\n",
    "        if left_depth >= right_depth:\n",
    "            return (left_depth, left_val)\n",
    "        else:\n",
    "            return (right_depth, right_val)\n",
    "    elif root.left is not None:\n",
    "        return deepest_node(root.left, depth+1)\n",
    "    elif root.right is not None:\n",
    "        return deepest_node(root.right, depth+1)"
   ]
  },
  {
   "cell_type": "code",
   "execution_count": 19,
   "metadata": {},
   "outputs": [
    {
     "data": {
      "text/plain": [
       "(2, 'd')"
      ]
     },
     "execution_count": 19,
     "metadata": {},
     "output_type": "execute_result"
    }
   ],
   "source": [
    "root = BinaryTree(\n",
    "    \"a\",\n",
    "    BinaryTree(\"b\", BinaryTree(\"d\")),\n",
    "    BinaryTree(\"c\")\n",
    ")\n",
    "deepest_node(root)"
   ]
  },
  {
   "cell_type": "code",
   "execution_count": 20,
   "metadata": {},
   "outputs": [
    {
     "data": {
      "text/plain": [
       "(0, 'a')"
      ]
     },
     "execution_count": 20,
     "metadata": {},
     "output_type": "execute_result"
    }
   ],
   "source": [
    "root = BinaryTree(\"a\")\n",
    "deepest_node(root)"
   ]
  },
  {
   "cell_type": "code",
   "execution_count": 22,
   "metadata": {},
   "outputs": [
    {
     "data": {
      "text/plain": [
       "(3, 'f')"
      ]
     },
     "execution_count": 22,
     "metadata": {},
     "output_type": "execute_result"
    }
   ],
   "source": [
    "root = BinaryTree(\n",
    "    \"a\",\n",
    "    BinaryTree(\n",
    "        \"b\",\n",
    "        BinaryTree(\"d\"),\n",
    "        BinaryTree(\"e\", BinaryTree(\"f\"))\n",
    "    ),\n",
    "    BinaryTree(\"c\")\n",
    ")\n",
    "deepest_node(root)"
   ]
  }
 ],
 "metadata": {
  "kernelspec": {
   "display_name": "Python 3",
   "language": "python",
   "name": "python3"
  },
  "language_info": {
   "codemirror_mode": {
    "name": "ipython",
    "version": 3
   },
   "file_extension": ".py",
   "mimetype": "text/x-python",
   "name": "python",
   "nbconvert_exporter": "python",
   "pygments_lexer": "ipython3",
   "version": "3.7.6"
  }
 },
 "nbformat": 4,
 "nbformat_minor": 4
}
