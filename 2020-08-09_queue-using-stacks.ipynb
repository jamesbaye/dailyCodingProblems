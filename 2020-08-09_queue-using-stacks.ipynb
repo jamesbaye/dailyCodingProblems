{
 "cells": [
  {
   "cell_type": "markdown",
   "metadata": {},
   "source": [
    "This problem was asked by Apple.\n",
    "\n",
    "Implement a queue using two stacks. Recall that a queue is a FIFO (first-in, first-out) data structure with the following methods: `enqueue`, which inserts an element into the queue, and `dequeue`, which removes it."
   ]
  },
  {
   "cell_type": "code",
   "execution_count": 5,
   "metadata": {},
   "outputs": [],
   "source": [
    "class Queue:\n",
    "    def __init__(self):\n",
    "        self.stack_in = []\n",
    "        self.stack_out = []\n",
    "    \n",
    "    def enqueue(self, val):\n",
    "        self.stack_in.append(val)\n",
    "    \n",
    "    def dequeue(self):\n",
    "        if len(self.stack_out) == 0:\n",
    "            self._fill_stack_out()\n",
    "        return self.stack_out.pop()\n",
    "    \n",
    "    def _fill_stack_out(self):\n",
    "        while len(self.stack_in) > 0:\n",
    "            val = self.stack_in.pop()\n",
    "            self.stack_out.append(val)"
   ]
  },
  {
   "cell_type": "code",
   "execution_count": 7,
   "metadata": {},
   "outputs": [],
   "source": [
    "q = Queue()\n",
    "q.enqueue(5)\n",
    "assert q.dequeue() == 5"
   ]
  },
  {
   "cell_type": "code",
   "execution_count": 8,
   "metadata": {},
   "outputs": [],
   "source": [
    "q = Queue()\n",
    "q.enqueue(5)\n",
    "q.enqueue(3)\n",
    "assert q.dequeue() == 5\n",
    "q.enqueue(10)\n",
    "assert q.dequeue() == 3\n",
    "assert q.dequeue() == 10"
   ]
  }
 ],
 "metadata": {
  "kernelspec": {
   "display_name": "Python 3",
   "language": "python",
   "name": "python3"
  },
  "language_info": {
   "codemirror_mode": {
    "name": "ipython",
    "version": 3
   },
   "file_extension": ".py",
   "mimetype": "text/x-python",
   "name": "python",
   "nbconvert_exporter": "python",
   "pygments_lexer": "ipython3",
   "version": "3.7.6"
  }
 },
 "nbformat": 4,
 "nbformat_minor": 4
}
