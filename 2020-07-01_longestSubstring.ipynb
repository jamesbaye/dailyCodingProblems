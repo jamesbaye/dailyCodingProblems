{
 "cells": [
  {
   "cell_type": "markdown",
   "metadata": {},
   "source": [
    "This problem was asked by Amazon.\n",
    "\n",
    "Given an integer k and a string s, find the length of the longest substring that contains at most k distinct characters.\n",
    "\n",
    "For example, given s = \"abcba\" and k = 2, the longest substring with k distinct characters is \"bcb\"."
   ]
  },
  {
   "cell_type": "code",
   "execution_count": 64,
   "metadata": {},
   "outputs": [],
   "source": [
    "def maxSubstringLength(string, max_distinct_chars):\n",
    "    \"\"\" Return the length of the longest substring that\n",
    "    contains at most max_distinct_chars characters.\n",
    "    Time complexity is O(n^2). \"\"\"\n",
    "    current_distinct_chars = set()\n",
    "    max_substr_len = 0\n",
    "    str_len = len(string)\n",
    "    \n",
    "    for i in range(str_len):\n",
    "        # try substrings of increasing length starting at i, \n",
    "        # until we've reached the max_distinct_chars allowed.\n",
    "        for j in range(i, str_len):\n",
    "            current_distinct_chars.add(s[j])\n",
    "            if len(current_distinct_chars) > max_distinct_chars:\n",
    "                current_distinct_chars = set()\n",
    "                break\n",
    "            elif j-i+1 > max_substr_len:\n",
    "                max_substr_len = j-i+1\n",
    "    \n",
    "    return max_substr_len\n",
    "\n",
    "def maxSubstringLength2(s, max_distinct_chars):\n",
    "    \"\"\" Return the length of the longest substring that\n",
    "    contains at most max_distinct_chars characters.\n",
    "    Time complexity is O(n). \"\"\"\n",
    "    char_count = {}\n",
    "    substr_st = 0\n",
    "    max_substr_len = 0\n",
    "    \n",
    "    for substr_end in range(len(s)):\n",
    "        \n",
    "        # add another character to end\n",
    "        if s[substr_end] in char_count:\n",
    "            char_count[s[substr_end]] += 1\n",
    "        else:\n",
    "            char_count[s[substr_end]] = 1\n",
    "        \n",
    "        # remove as many characters from start as necessary\n",
    "        while len(char_count) > max_distinct_chars:\n",
    "            if char_count[s[substr_st]] == 1:\n",
    "                char_count.pop(s[substr_st])\n",
    "            else:\n",
    "                char_count[s[substr_st]] -= 1\n",
    "            substr_st += 1\n",
    "        \n",
    "        # update max_substr_len if we currently have the longest substring\n",
    "        if max_substr_len < substr_end - substr_st + 1:\n",
    "                max_substr_len = substr_end - substr_st + 1\n",
    "    \n",
    "    return max_substr_len"
   ]
  },
  {
   "cell_type": "code",
   "execution_count": 65,
   "metadata": {},
   "outputs": [
    {
     "data": {
      "text/plain": [
       "3"
      ]
     },
     "execution_count": 65,
     "metadata": {},
     "output_type": "execute_result"
    }
   ],
   "source": [
    "s = \"abcba\"\n",
    "k = 2\n",
    "maxSubstringLength(s, k)"
   ]
  },
  {
   "cell_type": "code",
   "execution_count": 66,
   "metadata": {},
   "outputs": [
    {
     "data": {
      "text/plain": [
       "3"
      ]
     },
     "execution_count": 66,
     "metadata": {},
     "output_type": "execute_result"
    }
   ],
   "source": [
    "maxSubstringLength2(s, k)"
   ]
  }
 ],
 "metadata": {
  "kernelspec": {
   "display_name": "Python 3",
   "language": "python",
   "name": "python3"
  },
  "language_info": {
   "codemirror_mode": {
    "name": "ipython",
    "version": 3
   },
   "file_extension": ".py",
   "mimetype": "text/x-python",
   "name": "python",
   "nbconvert_exporter": "python",
   "pygments_lexer": "ipython3",
   "version": "3.7.6"
  }
 },
 "nbformat": 4,
 "nbformat_minor": 4
}
