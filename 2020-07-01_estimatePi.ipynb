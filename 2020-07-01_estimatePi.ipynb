{
 "cells": [
  {
   "cell_type": "markdown",
   "metadata": {},
   "source": [
    "This problem was asked by Google.\n",
    "\n",
    "The area of a circle is defined as πr^2. Estimate π to 3 decimal places using a Monte Carlo method.\n",
    "\n",
    "Hint: The basic equation of a circle is x2 + y2 = r2."
   ]
  },
  {
   "cell_type": "code",
   "execution_count": 96,
   "metadata": {},
   "outputs": [],
   "source": [
    "import random as rnd\n",
    "\n",
    "def piQuadrantEstimator(n):\n",
    "    \"\"\" Estimate pi by Monte Carlo method.\n",
    "    Draws n points of coordinate (x,y) in [0,1]^2, \n",
    "    where the fraction of points at a distance \n",
    "    r**2 = x**2 + y**2 <= 1 approximates pi/4\n",
    "    (inscribed circle). \"\"\"\n",
    "    n_outside_circle = 0\n",
    "    for i in range(1,n):\n",
    "        x, y = rnd.uniform(0,1), rnd.uniform(0,1)\n",
    "        if x**2 + y**2 > 1:\n",
    "            n_outside_circle += 1\n",
    "    return 4 * (1 - n_outside_circle / n)"
   ]
  },
  {
   "cell_type": "code",
   "execution_count": 98,
   "metadata": {},
   "outputs": [
    {
     "data": {
      "text/plain": [
       "3.14724"
      ]
     },
     "execution_count": 98,
     "metadata": {},
     "output_type": "execute_result"
    }
   ],
   "source": [
    "piQuadrantEstimator(100000)"
   ]
  }
 ],
 "metadata": {
  "kernelspec": {
   "display_name": "Python 3",
   "language": "python",
   "name": "python3"
  },
  "language_info": {
   "codemirror_mode": {
    "name": "ipython",
    "version": 3
   },
   "file_extension": ".py",
   "mimetype": "text/x-python",
   "name": "python",
   "nbconvert_exporter": "python",
   "pygments_lexer": "ipython3",
   "version": "3.7.6"
  }
 },
 "nbformat": 4,
 "nbformat_minor": 4
}
