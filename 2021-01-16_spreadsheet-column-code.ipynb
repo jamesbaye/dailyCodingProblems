{
 "cells": [
  {
   "cell_type": "markdown",
   "metadata": {},
   "source": [
    "This problem was asked by Dropbox.\n",
    "\n",
    "Spreadsheets often use this alphabetical encoding for its columns: `\"A\", \"B\", \"C\", ..., \"AA\", \"AB\", ..., \"ZZ\", \"AAA\", \"AAB\", ....`\n",
    "\n",
    "Given a column number, return its alphabetical column id. For example, given `1`, return `\"A\"`. Given `27`, return `\"AA\"`."
   ]
  },
  {
   "cell_type": "code",
   "execution_count": 1,
   "metadata": {},
   "outputs": [],
   "source": [
    "def ss_colnum2id(num, base=26, zero=ord(\"A\")):\n",
    "    \"\"\"Return spreadsheet alphabetical column id given a 1-indexed column number.\n",
    "    \n",
    "    Args:\n",
    "        num (int): A 1-indexed column number.\n",
    "        base (int): The base of the output ascii alphabet. Defaults to 26.\n",
    "        zero (int): The ascii index of the zero value of the output alphabet.\n",
    "            Defaults to ord(\"A\").\n",
    "    \"\"\"\n",
    "    digits = []\n",
    "    while num:\n",
    "        num, digit = divmod(num-1, base) # 0-index num\n",
    "        digits.append(digit)\n",
    "    return \"\".join(chr(zero + dig) for dig in reversed(digits))"
   ]
  },
  {
   "cell_type": "code",
   "execution_count": 2,
   "metadata": {},
   "outputs": [
    {
     "data": {
      "text/plain": [
       "'A'"
      ]
     },
     "execution_count": 2,
     "metadata": {},
     "output_type": "execute_result"
    }
   ],
   "source": [
    "ss_colnum2id(1)"
   ]
  },
  {
   "cell_type": "code",
   "execution_count": 3,
   "metadata": {},
   "outputs": [
    {
     "data": {
      "text/plain": [
       "'Z'"
      ]
     },
     "execution_count": 3,
     "metadata": {},
     "output_type": "execute_result"
    }
   ],
   "source": [
    "ss_colnum2id(26)"
   ]
  },
  {
   "cell_type": "code",
   "execution_count": 4,
   "metadata": {},
   "outputs": [
    {
     "data": {
      "text/plain": [
       "'AA'"
      ]
     },
     "execution_count": 4,
     "metadata": {},
     "output_type": "execute_result"
    }
   ],
   "source": [
    "ss_colnum2id(27)"
   ]
  },
  {
   "cell_type": "code",
   "execution_count": 5,
   "metadata": {},
   "outputs": [
    {
     "data": {
      "text/plain": [
       "'ABYZ'"
      ]
     },
     "execution_count": 5,
     "metadata": {},
     "output_type": "execute_result"
    }
   ],
   "source": [
    "ss_colnum2id(1*26**3 + 2*26**2 + 25*26**1 + 26*26**0)"
   ]
  },
  {
   "cell_type": "code",
   "execution_count": 6,
   "metadata": {},
   "outputs": [
    {
     "data": {
      "text/plain": [
       "'YAY'"
      ]
     },
     "execution_count": 6,
     "metadata": {},
     "output_type": "execute_result"
    }
   ],
   "source": [
    "ss_colnum2id(25*26**2 + 1*26**1 + 25*26**0)"
   ]
  }
 ],
 "metadata": {
  "kernelspec": {
   "display_name": "Python 3",
   "language": "python",
   "name": "python3"
  },
  "language_info": {
   "codemirror_mode": {
    "name": "ipython",
    "version": 3
   },
   "file_extension": ".py",
   "mimetype": "text/x-python",
   "name": "python",
   "nbconvert_exporter": "python",
   "pygments_lexer": "ipython3",
   "version": "3.7.6"
  }
 },
 "nbformat": 4,
 "nbformat_minor": 4
}
