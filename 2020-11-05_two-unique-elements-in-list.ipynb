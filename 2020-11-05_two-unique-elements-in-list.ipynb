{
 "cells": [
  {
   "cell_type": "markdown",
   "metadata": {},
   "source": [
    "This problem was asked by Facebook.\n",
    "\n",
    "Given an array of integers in which two elements appear exactly once and all other elements appear exactly twice, find the two elements that appear only once.\n",
    "\n",
    "For example, given the array `[2, 4, 6, 8, 10, 2, 6, 10]`, return `4` and `8`. The order does not matter.\n",
    "\n",
    "Follow-up: Can you do this in linear time and constant space?"
   ]
  },
  {
   "cell_type": "code",
   "execution_count": 13,
   "metadata": {},
   "outputs": [],
   "source": [
    "from functools import reduce\n",
    "\n",
    "def two_uniques(integers):\n",
    "    \"\"\"Return the two unique elements in integers.\n",
    "    \n",
    "    O(n) time and O(1) space solution based on\n",
    "    https://stackoverflow.com/questions/64458698/find-two-elements-in-an-array-which-occurs-exactly-once\n",
    "    \n",
    "    Args:\n",
    "        integers (list): list of positive integers, where two integers appear\n",
    "            exactly once and all other integers appear exactly twice.\n",
    "    \"\"\"\n",
    "    \n",
    "    # XOR([integers]) = XOR(a, b) where a, b are the two unique integers.\n",
    "    xor_of_uniques = reduce(lambda x, y: x ^ y, integers)\n",
    "    \n",
    "    # Any 1 digit in bin(XOR(a, b)) is a digit which equal 1\n",
    "    # in either bin(a) or bin(b), not both.\n",
    "    # Therefore...\n",
    "    # a = XOR([x for x in integers if bin(x)[1_digit_pos_in_XOR_a_b] == 1])\n",
    "    # b = XOR(a, XOR(a, b))\n",
    "    for i_first_one_digit, digit in enumerate(reversed(bin(xor_of_uniques))):\n",
    "        if digit == \"1\":\n",
    "            break\n",
    "    a = reduce(\n",
    "        lambda x, y: x ^ y,\n",
    "        (num for num in integers \n",
    "         if bin(num)[len(bin(num)) - 1 - i_first_one_digit] == \"1\")\n",
    "    )\n",
    "    b = a ^ xor_of_uniques\n",
    "    \n",
    "    return a, b"
   ]
  },
  {
   "cell_type": "code",
   "execution_count": 14,
   "metadata": {},
   "outputs": [
    {
     "data": {
      "text/plain": [
       "(4, 8)"
      ]
     },
     "execution_count": 14,
     "metadata": {},
     "output_type": "execute_result"
    }
   ],
   "source": [
    "two_uniques([2, 4, 6, 8, 10, 2, 6, 10])"
   ]
  },
  {
   "cell_type": "code",
   "execution_count": 16,
   "metadata": {},
   "outputs": [
    {
     "data": {
      "text/plain": [
       "(7, 5)"
      ]
     },
     "execution_count": 16,
     "metadata": {},
     "output_type": "execute_result"
    }
   ],
   "source": [
    "two_uniques([5, 7])"
   ]
  },
  {
   "cell_type": "code",
   "execution_count": 18,
   "metadata": {},
   "outputs": [
    {
     "data": {
      "text/plain": [
       "(2, 4)"
      ]
     },
     "execution_count": 18,
     "metadata": {},
     "output_type": "execute_result"
    }
   ],
   "source": [
    "two_uniques([5, 4, 2, 5])"
   ]
  }
 ],
 "metadata": {
  "kernelspec": {
   "display_name": "Python 3",
   "language": "python",
   "name": "python3"
  },
  "language_info": {
   "codemirror_mode": {
    "name": "ipython",
    "version": 3
   },
   "file_extension": ".py",
   "mimetype": "text/x-python",
   "name": "python",
   "nbconvert_exporter": "python",
   "pygments_lexer": "ipython3",
   "version": "3.7.6"
  }
 },
 "nbformat": 4,
 "nbformat_minor": 4
}
